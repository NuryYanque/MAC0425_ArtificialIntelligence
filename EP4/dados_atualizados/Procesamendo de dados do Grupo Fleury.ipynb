{
 "cells": [
  {
   "cell_type": "markdown",
   "metadata": {},
   "source": [
    "# Grupo Fleury Dataset\n",
    "Vou analizar os dados disponibilizados pelo Grupo Fleury, que são esses dos arquivos\n",
    "- Grupo_Fleury_Dataset_Covid19_Resultados_Exames.csv\n",
    "- Grupo_Fleury_Dataset_Covid19_Pacientes.csv\n",
    "\n",
    "Primeiro vamos analizar o arquivo dos Pacientes do Covid 19 no grupo Fleury"
   ]
  },
  {
   "cell_type": "code",
   "execution_count": 220,
   "metadata": {},
   "outputs": [],
   "source": [
    "import pandas as pd"
   ]
  },
  {
   "cell_type": "code",
   "execution_count": 2,
   "metadata": {},
   "outputs": [],
   "source": [
    "pacientes = pd.read_csv('Grupo_Fleury_Dataset_Covid19_Pacientes.csv', sep='|')"
   ]
  },
  {
   "cell_type": "code",
   "execution_count": 3,
   "metadata": {},
   "outputs": [
    {
     "data": {
      "text/plain": [
       "(129596, 7)"
      ]
     },
     "execution_count": 3,
     "metadata": {},
     "output_type": "execute_result"
    }
   ],
   "source": [
    "pacientes.shape"
   ]
  },
  {
   "cell_type": "markdown",
   "metadata": {},
   "source": [
    "Temos 129596 pacientes"
   ]
  },
  {
   "cell_type": "code",
   "execution_count": 4,
   "metadata": {},
   "outputs": [
    {
     "data": {
      "text/html": [
       "<div>\n",
       "<style scoped>\n",
       "    .dataframe tbody tr th:only-of-type {\n",
       "        vertical-align: middle;\n",
       "    }\n",
       "\n",
       "    .dataframe tbody tr th {\n",
       "        vertical-align: top;\n",
       "    }\n",
       "\n",
       "    .dataframe thead th {\n",
       "        text-align: right;\n",
       "    }\n",
       "</style>\n",
       "<table border=\"1\" class=\"dataframe\">\n",
       "  <thead>\n",
       "    <tr style=\"text-align: right;\">\n",
       "      <th></th>\n",
       "      <th>ID_PACIENTE</th>\n",
       "      <th>IC_SEXO</th>\n",
       "      <th>AA_NASCIMENTO</th>\n",
       "      <th>CD_PAIS</th>\n",
       "      <th>CD_UF</th>\n",
       "      <th>CD_MUNICIPIO</th>\n",
       "      <th>CD_CEP</th>\n",
       "    </tr>\n",
       "  </thead>\n",
       "  <tbody>\n",
       "    <tr>\n",
       "      <th>0</th>\n",
       "      <td>1AD07C7A1E4D80B608DD7A650766CCF0</td>\n",
       "      <td>M</td>\n",
       "      <td>1961</td>\n",
       "      <td>Brasil</td>\n",
       "      <td>SP</td>\n",
       "      <td>SAO PAULO</td>\n",
       "      <td>CCCC</td>\n",
       "    </tr>\n",
       "    <tr>\n",
       "      <th>1</th>\n",
       "      <td>7B10786D64F27D7732503D915A38DE6F</td>\n",
       "      <td>M</td>\n",
       "      <td>1945</td>\n",
       "      <td>Brasil</td>\n",
       "      <td>SP</td>\n",
       "      <td>SAO PAULO</td>\n",
       "      <td>CCCC</td>\n",
       "    </tr>\n",
       "    <tr>\n",
       "      <th>2</th>\n",
       "      <td>83C018729869BB1BAB8819021D8E048E</td>\n",
       "      <td>F</td>\n",
       "      <td>1973</td>\n",
       "      <td>Brasil</td>\n",
       "      <td>SP</td>\n",
       "      <td>SAO PAULO</td>\n",
       "      <td>CCCC</td>\n",
       "    </tr>\n",
       "    <tr>\n",
       "      <th>3</th>\n",
       "      <td>74F422BB575BF224F676EE88DD77301F</td>\n",
       "      <td>M</td>\n",
       "      <td>2000</td>\n",
       "      <td>Brasil</td>\n",
       "      <td>SP</td>\n",
       "      <td>SAO PAULO</td>\n",
       "      <td>CCCC</td>\n",
       "    </tr>\n",
       "    <tr>\n",
       "      <th>4</th>\n",
       "      <td>3EDBAA8DBC42EE7F1CBBE2482B8CE42D</td>\n",
       "      <td>M</td>\n",
       "      <td>1972</td>\n",
       "      <td>Brasil</td>\n",
       "      <td>SP</td>\n",
       "      <td>SAO PAULO</td>\n",
       "      <td>CCCC</td>\n",
       "    </tr>\n",
       "  </tbody>\n",
       "</table>\n",
       "</div>"
      ],
      "text/plain": [
       "                        ID_PACIENTE IC_SEXO AA_NASCIMENTO CD_PAIS CD_UF  \\\n",
       "0  1AD07C7A1E4D80B608DD7A650766CCF0       M          1961  Brasil    SP   \n",
       "1  7B10786D64F27D7732503D915A38DE6F       M          1945  Brasil    SP   \n",
       "2  83C018729869BB1BAB8819021D8E048E       F          1973  Brasil    SP   \n",
       "3  74F422BB575BF224F676EE88DD77301F       M          2000  Brasil    SP   \n",
       "4  3EDBAA8DBC42EE7F1CBBE2482B8CE42D       M          1972  Brasil    SP   \n",
       "\n",
       "  CD_MUNICIPIO CD_CEP  \n",
       "0    SAO PAULO   CCCC  \n",
       "1    SAO PAULO   CCCC  \n",
       "2    SAO PAULO   CCCC  \n",
       "3    SAO PAULO   CCCC  \n",
       "4    SAO PAULO   CCCC  "
      ]
     },
     "execution_count": 4,
     "metadata": {},
     "output_type": "execute_result"
    }
   ],
   "source": [
    "pacientes.head()"
   ]
  },
  {
   "cell_type": "markdown",
   "metadata": {},
   "source": [
    "Será que temos registros duplicados, caso sim vamos a deletar os registros duplicados"
   ]
  },
  {
   "cell_type": "code",
   "execution_count": 8,
   "metadata": {},
   "outputs": [],
   "source": [
    "!sort -u Grupo_Fleury_Dataset_Covid19_Pacientes.csv > Covid19_Pacientes.csv"
   ]
  },
  {
   "cell_type": "markdown",
   "metadata": {},
   "source": [
    "Lemos o arquivo sem registros duplicados que é **Covid19_Pacientes.csv**"
   ]
  },
  {
   "cell_type": "code",
   "execution_count": 35,
   "metadata": {},
   "outputs": [],
   "source": [
    "pacientes = pd.read_csv('Covid19_Pacientes.csv', sep='|')"
   ]
  },
  {
   "cell_type": "code",
   "execution_count": 36,
   "metadata": {},
   "outputs": [
    {
     "data": {
      "text/plain": [
       "(129596, 7)"
      ]
     },
     "execution_count": 36,
     "metadata": {},
     "output_type": "execute_result"
    }
   ],
   "source": [
    "pacientes.shape"
   ]
  },
  {
   "cell_type": "markdown",
   "metadata": {},
   "source": [
    "Note-se que o numero de registros é igual do que o arquivo original, isto quer dizer que não se acharam registros duplicados. Porem o primeiro registro passou a ser header e o header passou a ser registro, vamos arrumar isto."
   ]
  },
  {
   "cell_type": "code",
   "execution_count": 37,
   "metadata": {},
   "outputs": [
    {
     "data": {
      "text/html": [
       "<div>\n",
       "<style scoped>\n",
       "    .dataframe tbody tr th:only-of-type {\n",
       "        vertical-align: middle;\n",
       "    }\n",
       "\n",
       "    .dataframe tbody tr th {\n",
       "        vertical-align: top;\n",
       "    }\n",
       "\n",
       "    .dataframe thead th {\n",
       "        text-align: right;\n",
       "    }\n",
       "</style>\n",
       "<table border=\"1\" class=\"dataframe\">\n",
       "  <thead>\n",
       "    <tr style=\"text-align: right;\">\n",
       "      <th></th>\n",
       "      <th>00007BB4274722A63A38D415ACCD7705</th>\n",
       "      <th>F</th>\n",
       "      <th>1955</th>\n",
       "      <th>Brasil</th>\n",
       "      <th>RJ</th>\n",
       "      <th>MMMM</th>\n",
       "      <th>CCCC</th>\n",
       "    </tr>\n",
       "  </thead>\n",
       "  <tbody>\n",
       "    <tr>\n",
       "      <th>129595</th>\n",
       "      <td>ID_PACIENTE</td>\n",
       "      <td>IC_SEXO</td>\n",
       "      <td>AA_NASCIMENTO</td>\n",
       "      <td>CD_PAIS</td>\n",
       "      <td>CD_UF</td>\n",
       "      <td>CD_MUNICIPIO</td>\n",
       "      <td>CD_CEP</td>\n",
       "    </tr>\n",
       "  </tbody>\n",
       "</table>\n",
       "</div>"
      ],
      "text/plain": [
       "       00007BB4274722A63A38D415ACCD7705        F           1955   Brasil  \\\n",
       "129595                      ID_PACIENTE  IC_SEXO  AA_NASCIMENTO  CD_PAIS   \n",
       "\n",
       "           RJ          MMMM    CCCC  \n",
       "129595  CD_UF  CD_MUNICIPIO  CD_CEP  "
      ]
     },
     "execution_count": 37,
     "metadata": {},
     "output_type": "execute_result"
    }
   ],
   "source": [
    "pacientes.tail(1)"
   ]
  },
  {
   "cell_type": "code",
   "execution_count": 38,
   "metadata": {},
   "outputs": [
    {
     "data": {
      "text/html": [
       "<div>\n",
       "<style scoped>\n",
       "    .dataframe tbody tr th:only-of-type {\n",
       "        vertical-align: middle;\n",
       "    }\n",
       "\n",
       "    .dataframe tbody tr th {\n",
       "        vertical-align: top;\n",
       "    }\n",
       "\n",
       "    .dataframe thead th {\n",
       "        text-align: right;\n",
       "    }\n",
       "</style>\n",
       "<table border=\"1\" class=\"dataframe\">\n",
       "  <thead>\n",
       "    <tr style=\"text-align: right;\">\n",
       "      <th></th>\n",
       "      <th>00007BB4274722A63A38D415ACCD7705</th>\n",
       "      <th>F</th>\n",
       "      <th>1955</th>\n",
       "      <th>Brasil</th>\n",
       "      <th>RJ</th>\n",
       "      <th>MMMM</th>\n",
       "      <th>CCCC</th>\n",
       "    </tr>\n",
       "  </thead>\n",
       "  <tbody>\n",
       "    <tr>\n",
       "      <th>0</th>\n",
       "      <td>000085C48A31F50AE4F147392F6F35CF</td>\n",
       "      <td>M</td>\n",
       "      <td>1972</td>\n",
       "      <td>Brasil</td>\n",
       "      <td>RJ</td>\n",
       "      <td>RIO DE JANEIRO</td>\n",
       "      <td>CCCC</td>\n",
       "    </tr>\n",
       "  </tbody>\n",
       "</table>\n",
       "</div>"
      ],
      "text/plain": [
       "   00007BB4274722A63A38D415ACCD7705  F  1955  Brasil  RJ            MMMM  CCCC\n",
       "0  000085C48A31F50AE4F147392F6F35CF  M  1972  Brasil  RJ  RIO DE JANEIRO  CCCC"
      ]
     },
     "execution_count": 38,
     "metadata": {},
     "output_type": "execute_result"
    }
   ],
   "source": [
    "pacientes.head(1)"
   ]
  },
  {
   "cell_type": "code",
   "execution_count": 227,
   "metadata": {},
   "outputs": [],
   "source": [
    "col_names = ['ID_PACIENTE', 'IC_SEXO', 'AA_NASCIMENTO', 'CD_PAIS', 'CD_UF', 'CD_MUNICIPIO', 'CD_CEP']\n",
    "pacientes = pd.read_csv('Covid19_Pacientes.csv', sep='|', names=col_names)"
   ]
  },
  {
   "cell_type": "code",
   "execution_count": 40,
   "metadata": {},
   "outputs": [
    {
     "data": {
      "text/html": [
       "<div>\n",
       "<style scoped>\n",
       "    .dataframe tbody tr th:only-of-type {\n",
       "        vertical-align: middle;\n",
       "    }\n",
       "\n",
       "    .dataframe tbody tr th {\n",
       "        vertical-align: top;\n",
       "    }\n",
       "\n",
       "    .dataframe thead th {\n",
       "        text-align: right;\n",
       "    }\n",
       "</style>\n",
       "<table border=\"1\" class=\"dataframe\">\n",
       "  <thead>\n",
       "    <tr style=\"text-align: right;\">\n",
       "      <th></th>\n",
       "      <th>ID_PACIENTE</th>\n",
       "      <th>IC_SEXO</th>\n",
       "      <th>AA_NASCIMENTO</th>\n",
       "      <th>CD_PAIS</th>\n",
       "      <th>CD_UF</th>\n",
       "      <th>CD_MUNICIPIO</th>\n",
       "      <th>CD_CEP</th>\n",
       "    </tr>\n",
       "  </thead>\n",
       "  <tbody>\n",
       "    <tr>\n",
       "      <th>0</th>\n",
       "      <td>00007BB4274722A63A38D415ACCD7705</td>\n",
       "      <td>F</td>\n",
       "      <td>1955</td>\n",
       "      <td>Brasil</td>\n",
       "      <td>RJ</td>\n",
       "      <td>MMMM</td>\n",
       "      <td>CCCC</td>\n",
       "    </tr>\n",
       "    <tr>\n",
       "      <th>1</th>\n",
       "      <td>000085C48A31F50AE4F147392F6F35CF</td>\n",
       "      <td>M</td>\n",
       "      <td>1972</td>\n",
       "      <td>Brasil</td>\n",
       "      <td>RJ</td>\n",
       "      <td>RIO DE JANEIRO</td>\n",
       "      <td>CCCC</td>\n",
       "    </tr>\n",
       "    <tr>\n",
       "      <th>2</th>\n",
       "      <td>0000A150D4C8B92A4F8D280C6D4656B0</td>\n",
       "      <td>M</td>\n",
       "      <td>2020</td>\n",
       "      <td>Brasil</td>\n",
       "      <td>RJ</td>\n",
       "      <td>MMMM</td>\n",
       "      <td>CCCC</td>\n",
       "    </tr>\n",
       "    <tr>\n",
       "      <th>3</th>\n",
       "      <td>000230CE71238C85771268A5B7D807BC</td>\n",
       "      <td>F</td>\n",
       "      <td>1989</td>\n",
       "      <td>Brasil</td>\n",
       "      <td>RJ</td>\n",
       "      <td>MMMM</td>\n",
       "      <td>CCCC</td>\n",
       "    </tr>\n",
       "    <tr>\n",
       "      <th>4</th>\n",
       "      <td>0002632EFE862D6479C37F4E21AE33AB</td>\n",
       "      <td>M</td>\n",
       "      <td>1981</td>\n",
       "      <td>Brasil</td>\n",
       "      <td>SP</td>\n",
       "      <td>SAO PAULO</td>\n",
       "      <td>01455</td>\n",
       "    </tr>\n",
       "  </tbody>\n",
       "</table>\n",
       "</div>"
      ],
      "text/plain": [
       "                        ID_PACIENTE IC_SEXO AA_NASCIMENTO CD_PAIS CD_UF  \\\n",
       "0  00007BB4274722A63A38D415ACCD7705       F          1955  Brasil    RJ   \n",
       "1  000085C48A31F50AE4F147392F6F35CF       M          1972  Brasil    RJ   \n",
       "2  0000A150D4C8B92A4F8D280C6D4656B0       M          2020  Brasil    RJ   \n",
       "3  000230CE71238C85771268A5B7D807BC       F          1989  Brasil    RJ   \n",
       "4  0002632EFE862D6479C37F4E21AE33AB       M          1981  Brasil    SP   \n",
       "\n",
       "     CD_MUNICIPIO CD_CEP  \n",
       "0            MMMM   CCCC  \n",
       "1  RIO DE JANEIRO   CCCC  \n",
       "2            MMMM   CCCC  \n",
       "3            MMMM   CCCC  \n",
       "4       SAO PAULO  01455  "
      ]
     },
     "execution_count": 40,
     "metadata": {},
     "output_type": "execute_result"
    }
   ],
   "source": [
    "pacientes.head()"
   ]
  },
  {
   "cell_type": "markdown",
   "metadata": {},
   "source": [
    "e deletamos o ultimo registro"
   ]
  },
  {
   "cell_type": "code",
   "execution_count": 41,
   "metadata": {},
   "outputs": [
    {
     "data": {
      "text/html": [
       "<div>\n",
       "<style scoped>\n",
       "    .dataframe tbody tr th:only-of-type {\n",
       "        vertical-align: middle;\n",
       "    }\n",
       "\n",
       "    .dataframe tbody tr th {\n",
       "        vertical-align: top;\n",
       "    }\n",
       "\n",
       "    .dataframe thead th {\n",
       "        text-align: right;\n",
       "    }\n",
       "</style>\n",
       "<table border=\"1\" class=\"dataframe\">\n",
       "  <thead>\n",
       "    <tr style=\"text-align: right;\">\n",
       "      <th></th>\n",
       "      <th>ID_PACIENTE</th>\n",
       "      <th>IC_SEXO</th>\n",
       "      <th>AA_NASCIMENTO</th>\n",
       "      <th>CD_PAIS</th>\n",
       "      <th>CD_UF</th>\n",
       "      <th>CD_MUNICIPIO</th>\n",
       "      <th>CD_CEP</th>\n",
       "    </tr>\n",
       "  </thead>\n",
       "  <tbody>\n",
       "    <tr>\n",
       "      <th>129596</th>\n",
       "      <td>ID_PACIENTE</td>\n",
       "      <td>IC_SEXO</td>\n",
       "      <td>AA_NASCIMENTO</td>\n",
       "      <td>CD_PAIS</td>\n",
       "      <td>CD_UF</td>\n",
       "      <td>CD_MUNICIPIO</td>\n",
       "      <td>CD_CEP</td>\n",
       "    </tr>\n",
       "  </tbody>\n",
       "</table>\n",
       "</div>"
      ],
      "text/plain": [
       "        ID_PACIENTE  IC_SEXO  AA_NASCIMENTO  CD_PAIS  CD_UF  CD_MUNICIPIO  \\\n",
       "129596  ID_PACIENTE  IC_SEXO  AA_NASCIMENTO  CD_PAIS  CD_UF  CD_MUNICIPIO   \n",
       "\n",
       "        CD_CEP  \n",
       "129596  CD_CEP  "
      ]
     },
     "execution_count": 41,
     "metadata": {},
     "output_type": "execute_result"
    }
   ],
   "source": [
    "pacientes.tail(1)"
   ]
  },
  {
   "cell_type": "code",
   "execution_count": 228,
   "metadata": {},
   "outputs": [],
   "source": [
    "pacientes.drop(pacientes.tail(1).index, inplace=True)"
   ]
  },
  {
   "cell_type": "code",
   "execution_count": 223,
   "metadata": {},
   "outputs": [
    {
     "data": {
      "text/plain": [
       "(129596, 7)"
      ]
     },
     "execution_count": 223,
     "metadata": {},
     "output_type": "execute_result"
    }
   ],
   "source": [
    "pacientes.shape"
   ]
  },
  {
   "cell_type": "markdown",
   "metadata": {},
   "source": [
    "Analizamos as colunas"
   ]
  },
  {
   "cell_type": "code",
   "execution_count": 30,
   "metadata": {},
   "outputs": [
    {
     "name": "stdout",
     "output_type": "stream",
     "text": [
      "<class 'pandas.core.frame.DataFrame'>\n",
      "Int64Index: 129596 entries, 0 to 129595\n",
      "Data columns (total 7 columns):\n",
      " #   Column         Non-Null Count   Dtype \n",
      "---  ------         --------------   ----- \n",
      " 0   ID_PACIENTE    129596 non-null  object\n",
      " 1   IC_SEXO        129596 non-null  object\n",
      " 2   AA_NASCIMENTO  129596 non-null  object\n",
      " 3   CD_PAIS        129596 non-null  object\n",
      " 4   CD_UF          129596 non-null  object\n",
      " 5   CD_MUNICIPIO   129596 non-null  object\n",
      " 6   CD_CEP         129596 non-null  object\n",
      "dtypes: object(7)\n",
      "memory usage: 7.9+ MB\n"
     ]
    }
   ],
   "source": [
    "pacientes.info()"
   ]
  },
  {
   "cell_type": "markdown",
   "metadata": {},
   "source": [
    "Cada registro tem 7 colunas com os datos descritos acima. No dicionario de dados está descrição de cada coluna.\n",
    "\n",
    "**AA_NASCIMENTO** que é o ano de nascimento do Paciente, tem valores numericos exeto pelo string **AAAA**, segundo o dicionado de dados, esse é o valor asignado quando o ano de nascimento é igual ou anterior a 1930. Vou adicionar uma nova coluna no Dataframe que vai ser **idade** do paciente, que vai ser obtido segundo o ano de nascimento, quanto o ano for AAAA a idade do paciente deberia ser de pelo menos de 90 anos, pois estamos no ano 2020, porém vamos colocar de 95 anos que é a meia entre 90 e 100 anos."
   ]
  },
  {
   "cell_type": "code",
   "execution_count": 229,
   "metadata": {},
   "outputs": [],
   "source": [
    "def to_age(year):\n",
    "    if year == 'AAAA': return 95\n",
    "    else: return pd.Timestamp('now').year - int(year)\n",
    "    \n",
    "pacientes['idade'] = pacientes['AA_NASCIMENTO'].apply(to_age)"
   ]
  },
  {
   "cell_type": "code",
   "execution_count": 230,
   "metadata": {},
   "outputs": [
    {
     "data": {
      "text/html": [
       "<div>\n",
       "<style scoped>\n",
       "    .dataframe tbody tr th:only-of-type {\n",
       "        vertical-align: middle;\n",
       "    }\n",
       "\n",
       "    .dataframe tbody tr th {\n",
       "        vertical-align: top;\n",
       "    }\n",
       "\n",
       "    .dataframe thead th {\n",
       "        text-align: right;\n",
       "    }\n",
       "</style>\n",
       "<table border=\"1\" class=\"dataframe\">\n",
       "  <thead>\n",
       "    <tr style=\"text-align: right;\">\n",
       "      <th></th>\n",
       "      <th>ID_PACIENTE</th>\n",
       "      <th>IC_SEXO</th>\n",
       "      <th>AA_NASCIMENTO</th>\n",
       "      <th>CD_PAIS</th>\n",
       "      <th>CD_UF</th>\n",
       "      <th>CD_MUNICIPIO</th>\n",
       "      <th>CD_CEP</th>\n",
       "      <th>idade</th>\n",
       "    </tr>\n",
       "  </thead>\n",
       "  <tbody>\n",
       "    <tr>\n",
       "      <th>0</th>\n",
       "      <td>00007BB4274722A63A38D415ACCD7705</td>\n",
       "      <td>F</td>\n",
       "      <td>1955</td>\n",
       "      <td>Brasil</td>\n",
       "      <td>RJ</td>\n",
       "      <td>MMMM</td>\n",
       "      <td>CCCC</td>\n",
       "      <td>65</td>\n",
       "    </tr>\n",
       "    <tr>\n",
       "      <th>1</th>\n",
       "      <td>000085C48A31F50AE4F147392F6F35CF</td>\n",
       "      <td>M</td>\n",
       "      <td>1972</td>\n",
       "      <td>Brasil</td>\n",
       "      <td>RJ</td>\n",
       "      <td>RIO DE JANEIRO</td>\n",
       "      <td>CCCC</td>\n",
       "      <td>48</td>\n",
       "    </tr>\n",
       "    <tr>\n",
       "      <th>2</th>\n",
       "      <td>0000A150D4C8B92A4F8D280C6D4656B0</td>\n",
       "      <td>M</td>\n",
       "      <td>2020</td>\n",
       "      <td>Brasil</td>\n",
       "      <td>RJ</td>\n",
       "      <td>MMMM</td>\n",
       "      <td>CCCC</td>\n",
       "      <td>0</td>\n",
       "    </tr>\n",
       "    <tr>\n",
       "      <th>3</th>\n",
       "      <td>000230CE71238C85771268A5B7D807BC</td>\n",
       "      <td>F</td>\n",
       "      <td>1989</td>\n",
       "      <td>Brasil</td>\n",
       "      <td>RJ</td>\n",
       "      <td>MMMM</td>\n",
       "      <td>CCCC</td>\n",
       "      <td>31</td>\n",
       "    </tr>\n",
       "    <tr>\n",
       "      <th>4</th>\n",
       "      <td>0002632EFE862D6479C37F4E21AE33AB</td>\n",
       "      <td>M</td>\n",
       "      <td>1981</td>\n",
       "      <td>Brasil</td>\n",
       "      <td>SP</td>\n",
       "      <td>SAO PAULO</td>\n",
       "      <td>01455</td>\n",
       "      <td>39</td>\n",
       "    </tr>\n",
       "  </tbody>\n",
       "</table>\n",
       "</div>"
      ],
      "text/plain": [
       "                        ID_PACIENTE IC_SEXO AA_NASCIMENTO CD_PAIS CD_UF  \\\n",
       "0  00007BB4274722A63A38D415ACCD7705       F          1955  Brasil    RJ   \n",
       "1  000085C48A31F50AE4F147392F6F35CF       M          1972  Brasil    RJ   \n",
       "2  0000A150D4C8B92A4F8D280C6D4656B0       M          2020  Brasil    RJ   \n",
       "3  000230CE71238C85771268A5B7D807BC       F          1989  Brasil    RJ   \n",
       "4  0002632EFE862D6479C37F4E21AE33AB       M          1981  Brasil    SP   \n",
       "\n",
       "     CD_MUNICIPIO CD_CEP  idade  \n",
       "0            MMMM   CCCC     65  \n",
       "1  RIO DE JANEIRO   CCCC     48  \n",
       "2            MMMM   CCCC      0  \n",
       "3            MMMM   CCCC     31  \n",
       "4       SAO PAULO  01455     39  "
      ]
     },
     "execution_count": 230,
     "metadata": {},
     "output_type": "execute_result"
    }
   ],
   "source": [
    "pacientes.head()"
   ]
  },
  {
   "cell_type": "markdown",
   "metadata": {},
   "source": [
    "Analizando a varíavel **IC_SEXO**"
   ]
  },
  {
   "cell_type": "code",
   "execution_count": 47,
   "metadata": {},
   "outputs": [
    {
     "data": {
      "text/plain": [
       "array(['F', 'M'], dtype=object)"
      ]
     },
     "execution_count": 47,
     "metadata": {},
     "output_type": "execute_result"
    }
   ],
   "source": [
    "pacientes['IC_SEXO'].unique()"
   ]
  },
  {
   "cell_type": "markdown",
   "metadata": {},
   "source": [
    "Vamos mapeiar esses valores para 0 caso for F e 1 caso for M"
   ]
  },
  {
   "cell_type": "code",
   "execution_count": 231,
   "metadata": {},
   "outputs": [],
   "source": [
    "pacientes['IC_SEXO'] = pacientes['IC_SEXO'].map( {'F': 0, 'M': 1} ).astype(int)"
   ]
  },
  {
   "cell_type": "code",
   "execution_count": 49,
   "metadata": {},
   "outputs": [
    {
     "data": {
      "text/html": [
       "<div>\n",
       "<style scoped>\n",
       "    .dataframe tbody tr th:only-of-type {\n",
       "        vertical-align: middle;\n",
       "    }\n",
       "\n",
       "    .dataframe tbody tr th {\n",
       "        vertical-align: top;\n",
       "    }\n",
       "\n",
       "    .dataframe thead th {\n",
       "        text-align: right;\n",
       "    }\n",
       "</style>\n",
       "<table border=\"1\" class=\"dataframe\">\n",
       "  <thead>\n",
       "    <tr style=\"text-align: right;\">\n",
       "      <th></th>\n",
       "      <th>ID_PACIENTE</th>\n",
       "      <th>IC_SEXO</th>\n",
       "      <th>AA_NASCIMENTO</th>\n",
       "      <th>CD_PAIS</th>\n",
       "      <th>CD_UF</th>\n",
       "      <th>CD_MUNICIPIO</th>\n",
       "      <th>CD_CEP</th>\n",
       "      <th>idade</th>\n",
       "    </tr>\n",
       "  </thead>\n",
       "  <tbody>\n",
       "    <tr>\n",
       "      <th>0</th>\n",
       "      <td>00007BB4274722A63A38D415ACCD7705</td>\n",
       "      <td>0</td>\n",
       "      <td>1955</td>\n",
       "      <td>Brasil</td>\n",
       "      <td>RJ</td>\n",
       "      <td>MMMM</td>\n",
       "      <td>CCCC</td>\n",
       "      <td>65</td>\n",
       "    </tr>\n",
       "    <tr>\n",
       "      <th>1</th>\n",
       "      <td>000085C48A31F50AE4F147392F6F35CF</td>\n",
       "      <td>1</td>\n",
       "      <td>1972</td>\n",
       "      <td>Brasil</td>\n",
       "      <td>RJ</td>\n",
       "      <td>RIO DE JANEIRO</td>\n",
       "      <td>CCCC</td>\n",
       "      <td>48</td>\n",
       "    </tr>\n",
       "    <tr>\n",
       "      <th>2</th>\n",
       "      <td>0000A150D4C8B92A4F8D280C6D4656B0</td>\n",
       "      <td>1</td>\n",
       "      <td>2020</td>\n",
       "      <td>Brasil</td>\n",
       "      <td>RJ</td>\n",
       "      <td>MMMM</td>\n",
       "      <td>CCCC</td>\n",
       "      <td>0</td>\n",
       "    </tr>\n",
       "    <tr>\n",
       "      <th>3</th>\n",
       "      <td>000230CE71238C85771268A5B7D807BC</td>\n",
       "      <td>0</td>\n",
       "      <td>1989</td>\n",
       "      <td>Brasil</td>\n",
       "      <td>RJ</td>\n",
       "      <td>MMMM</td>\n",
       "      <td>CCCC</td>\n",
       "      <td>31</td>\n",
       "    </tr>\n",
       "    <tr>\n",
       "      <th>4</th>\n",
       "      <td>0002632EFE862D6479C37F4E21AE33AB</td>\n",
       "      <td>1</td>\n",
       "      <td>1981</td>\n",
       "      <td>Brasil</td>\n",
       "      <td>SP</td>\n",
       "      <td>SAO PAULO</td>\n",
       "      <td>01455</td>\n",
       "      <td>39</td>\n",
       "    </tr>\n",
       "  </tbody>\n",
       "</table>\n",
       "</div>"
      ],
      "text/plain": [
       "                        ID_PACIENTE  IC_SEXO AA_NASCIMENTO CD_PAIS CD_UF  \\\n",
       "0  00007BB4274722A63A38D415ACCD7705        0          1955  Brasil    RJ   \n",
       "1  000085C48A31F50AE4F147392F6F35CF        1          1972  Brasil    RJ   \n",
       "2  0000A150D4C8B92A4F8D280C6D4656B0        1          2020  Brasil    RJ   \n",
       "3  000230CE71238C85771268A5B7D807BC        0          1989  Brasil    RJ   \n",
       "4  0002632EFE862D6479C37F4E21AE33AB        1          1981  Brasil    SP   \n",
       "\n",
       "     CD_MUNICIPIO CD_CEP  idade  \n",
       "0            MMMM   CCCC     65  \n",
       "1  RIO DE JANEIRO   CCCC     48  \n",
       "2            MMMM   CCCC      0  \n",
       "3            MMMM   CCCC     31  \n",
       "4       SAO PAULO  01455     39  "
      ]
     },
     "execution_count": 49,
     "metadata": {},
     "output_type": "execute_result"
    }
   ],
   "source": [
    "pacientes.head()"
   ]
  },
  {
   "cell_type": "code",
   "execution_count": 50,
   "metadata": {},
   "outputs": [
    {
     "data": {
      "text/plain": [
       "array(['Brasil'], dtype=object)"
      ]
     },
     "execution_count": 50,
     "metadata": {},
     "output_type": "execute_result"
    }
   ],
   "source": [
    "pacientes['CD_PAIS'].unique()"
   ]
  },
  {
   "cell_type": "markdown",
   "metadata": {},
   "source": [
    "Apenas tem um valor, essa coluna vai ser deletada"
   ]
  },
  {
   "cell_type": "code",
   "execution_count": 51,
   "metadata": {},
   "outputs": [
    {
     "data": {
      "text/plain": [
       "array(['RJ', 'SP', 'PE', 'BA', 'PR', 'RS', 'DF', 'MG', 'AM', 'PI', 'AL',\n",
       "       'CE', 'RN', 'ES', 'PA', 'SC', 'GO', 'PB', 'MS', 'SE', 'AC', 'MA',\n",
       "       'TO', 'MT', 'RO', 'AP'], dtype=object)"
      ]
     },
     "execution_count": 51,
     "metadata": {},
     "output_type": "execute_result"
    }
   ],
   "source": [
    "pacientes['CD_UF'].unique()"
   ]
  },
  {
   "cell_type": "markdown",
   "metadata": {},
   "source": [
    "Mudamos o tipo de coluna do object para Categorical"
   ]
  },
  {
   "cell_type": "code",
   "execution_count": 232,
   "metadata": {},
   "outputs": [],
   "source": [
    "pacientes.CD_UF = pd.Categorical(pacientes.CD_UF)"
   ]
  },
  {
   "cell_type": "markdown",
   "metadata": {},
   "source": [
    "Asignamos codigos a cada valor categorico"
   ]
  },
  {
   "cell_type": "code",
   "execution_count": 233,
   "metadata": {},
   "outputs": [],
   "source": [
    "pacientes['CD_UF_CODE'] = pacientes.CD_UF.cat.codes"
   ]
  },
  {
   "cell_type": "code",
   "execution_count": 234,
   "metadata": {},
   "outputs": [
    {
     "data": {
      "text/html": [
       "<div>\n",
       "<style scoped>\n",
       "    .dataframe tbody tr th:only-of-type {\n",
       "        vertical-align: middle;\n",
       "    }\n",
       "\n",
       "    .dataframe tbody tr th {\n",
       "        vertical-align: top;\n",
       "    }\n",
       "\n",
       "    .dataframe thead th {\n",
       "        text-align: right;\n",
       "    }\n",
       "</style>\n",
       "<table border=\"1\" class=\"dataframe\">\n",
       "  <thead>\n",
       "    <tr style=\"text-align: right;\">\n",
       "      <th></th>\n",
       "      <th>ID_PACIENTE</th>\n",
       "      <th>IC_SEXO</th>\n",
       "      <th>AA_NASCIMENTO</th>\n",
       "      <th>CD_PAIS</th>\n",
       "      <th>CD_UF</th>\n",
       "      <th>CD_MUNICIPIO</th>\n",
       "      <th>CD_CEP</th>\n",
       "      <th>idade</th>\n",
       "      <th>CD_UF_CODE</th>\n",
       "    </tr>\n",
       "  </thead>\n",
       "  <tbody>\n",
       "    <tr>\n",
       "      <th>0</th>\n",
       "      <td>00007BB4274722A63A38D415ACCD7705</td>\n",
       "      <td>0</td>\n",
       "      <td>1955</td>\n",
       "      <td>Brasil</td>\n",
       "      <td>RJ</td>\n",
       "      <td>MMMM</td>\n",
       "      <td>CCCC</td>\n",
       "      <td>65</td>\n",
       "      <td>18</td>\n",
       "    </tr>\n",
       "    <tr>\n",
       "      <th>1</th>\n",
       "      <td>000085C48A31F50AE4F147392F6F35CF</td>\n",
       "      <td>1</td>\n",
       "      <td>1972</td>\n",
       "      <td>Brasil</td>\n",
       "      <td>RJ</td>\n",
       "      <td>RIO DE JANEIRO</td>\n",
       "      <td>CCCC</td>\n",
       "      <td>48</td>\n",
       "      <td>18</td>\n",
       "    </tr>\n",
       "    <tr>\n",
       "      <th>2</th>\n",
       "      <td>0000A150D4C8B92A4F8D280C6D4656B0</td>\n",
       "      <td>1</td>\n",
       "      <td>2020</td>\n",
       "      <td>Brasil</td>\n",
       "      <td>RJ</td>\n",
       "      <td>MMMM</td>\n",
       "      <td>CCCC</td>\n",
       "      <td>0</td>\n",
       "      <td>18</td>\n",
       "    </tr>\n",
       "    <tr>\n",
       "      <th>3</th>\n",
       "      <td>000230CE71238C85771268A5B7D807BC</td>\n",
       "      <td>0</td>\n",
       "      <td>1989</td>\n",
       "      <td>Brasil</td>\n",
       "      <td>RJ</td>\n",
       "      <td>MMMM</td>\n",
       "      <td>CCCC</td>\n",
       "      <td>31</td>\n",
       "      <td>18</td>\n",
       "    </tr>\n",
       "    <tr>\n",
       "      <th>4</th>\n",
       "      <td>0002632EFE862D6479C37F4E21AE33AB</td>\n",
       "      <td>1</td>\n",
       "      <td>1981</td>\n",
       "      <td>Brasil</td>\n",
       "      <td>SP</td>\n",
       "      <td>SAO PAULO</td>\n",
       "      <td>01455</td>\n",
       "      <td>39</td>\n",
       "      <td>24</td>\n",
       "    </tr>\n",
       "  </tbody>\n",
       "</table>\n",
       "</div>"
      ],
      "text/plain": [
       "                        ID_PACIENTE  IC_SEXO AA_NASCIMENTO CD_PAIS CD_UF  \\\n",
       "0  00007BB4274722A63A38D415ACCD7705        0          1955  Brasil    RJ   \n",
       "1  000085C48A31F50AE4F147392F6F35CF        1          1972  Brasil    RJ   \n",
       "2  0000A150D4C8B92A4F8D280C6D4656B0        1          2020  Brasil    RJ   \n",
       "3  000230CE71238C85771268A5B7D807BC        0          1989  Brasil    RJ   \n",
       "4  0002632EFE862D6479C37F4E21AE33AB        1          1981  Brasil    SP   \n",
       "\n",
       "     CD_MUNICIPIO CD_CEP  idade  CD_UF_CODE  \n",
       "0            MMMM   CCCC     65          18  \n",
       "1  RIO DE JANEIRO   CCCC     48          18  \n",
       "2            MMMM   CCCC      0          18  \n",
       "3            MMMM   CCCC     31          18  \n",
       "4       SAO PAULO  01455     39          24  "
      ]
     },
     "execution_count": 234,
     "metadata": {},
     "output_type": "execute_result"
    }
   ],
   "source": [
    "pacientes.head()"
   ]
  },
  {
   "cell_type": "code",
   "execution_count": 56,
   "metadata": {},
   "outputs": [
    {
     "name": "stdout",
     "output_type": "stream",
     "text": [
      "<class 'pandas.core.frame.DataFrame'>\n",
      "Int64Index: 129596 entries, 0 to 129595\n",
      "Data columns (total 9 columns):\n",
      " #   Column         Non-Null Count   Dtype   \n",
      "---  ------         --------------   -----   \n",
      " 0   ID_PACIENTE    129596 non-null  object  \n",
      " 1   IC_SEXO        129596 non-null  int64   \n",
      " 2   AA_NASCIMENTO  129596 non-null  object  \n",
      " 3   CD_PAIS        129596 non-null  object  \n",
      " 4   CD_UF          129596 non-null  category\n",
      " 5   CD_MUNICIPIO   129596 non-null  object  \n",
      " 6   CD_CEP         129596 non-null  object  \n",
      " 7   idade          129596 non-null  int64   \n",
      " 8   CD_UF_CODE     129596 non-null  int8    \n",
      "dtypes: category(1), int64(2), int8(1), object(5)\n",
      "memory usage: 8.2+ MB\n"
     ]
    }
   ],
   "source": [
    "pacientes.info()"
   ]
  },
  {
   "cell_type": "markdown",
   "metadata": {},
   "source": [
    "Seleção de varíaveis que não iremos utilizar, porque tem valores desconhecidos e outras que já utilizamos para extrair outro valor."
   ]
  },
  {
   "cell_type": "code",
   "execution_count": 235,
   "metadata": {},
   "outputs": [],
   "source": [
    "drop_colunas = ['AA_NASCIMENTO', 'CD_PAIS', 'CD_UF', 'CD_MUNICIPIO', 'CD_CEP']"
   ]
  },
  {
   "cell_type": "code",
   "execution_count": 236,
   "metadata": {},
   "outputs": [],
   "source": [
    "pacientes = pacientes.drop(drop_colunas, axis=1)"
   ]
  },
  {
   "cell_type": "code",
   "execution_count": 237,
   "metadata": {},
   "outputs": [
    {
     "data": {
      "text/html": [
       "<div>\n",
       "<style scoped>\n",
       "    .dataframe tbody tr th:only-of-type {\n",
       "        vertical-align: middle;\n",
       "    }\n",
       "\n",
       "    .dataframe tbody tr th {\n",
       "        vertical-align: top;\n",
       "    }\n",
       "\n",
       "    .dataframe thead th {\n",
       "        text-align: right;\n",
       "    }\n",
       "</style>\n",
       "<table border=\"1\" class=\"dataframe\">\n",
       "  <thead>\n",
       "    <tr style=\"text-align: right;\">\n",
       "      <th></th>\n",
       "      <th>ID_PACIENTE</th>\n",
       "      <th>IC_SEXO</th>\n",
       "      <th>idade</th>\n",
       "      <th>CD_UF_CODE</th>\n",
       "    </tr>\n",
       "  </thead>\n",
       "  <tbody>\n",
       "    <tr>\n",
       "      <th>0</th>\n",
       "      <td>00007BB4274722A63A38D415ACCD7705</td>\n",
       "      <td>0</td>\n",
       "      <td>65</td>\n",
       "      <td>18</td>\n",
       "    </tr>\n",
       "    <tr>\n",
       "      <th>1</th>\n",
       "      <td>000085C48A31F50AE4F147392F6F35CF</td>\n",
       "      <td>1</td>\n",
       "      <td>48</td>\n",
       "      <td>18</td>\n",
       "    </tr>\n",
       "    <tr>\n",
       "      <th>2</th>\n",
       "      <td>0000A150D4C8B92A4F8D280C6D4656B0</td>\n",
       "      <td>1</td>\n",
       "      <td>0</td>\n",
       "      <td>18</td>\n",
       "    </tr>\n",
       "    <tr>\n",
       "      <th>3</th>\n",
       "      <td>000230CE71238C85771268A5B7D807BC</td>\n",
       "      <td>0</td>\n",
       "      <td>31</td>\n",
       "      <td>18</td>\n",
       "    </tr>\n",
       "    <tr>\n",
       "      <th>4</th>\n",
       "      <td>0002632EFE862D6479C37F4E21AE33AB</td>\n",
       "      <td>1</td>\n",
       "      <td>39</td>\n",
       "      <td>24</td>\n",
       "    </tr>\n",
       "  </tbody>\n",
       "</table>\n",
       "</div>"
      ],
      "text/plain": [
       "                        ID_PACIENTE  IC_SEXO  idade  CD_UF_CODE\n",
       "0  00007BB4274722A63A38D415ACCD7705        0     65          18\n",
       "1  000085C48A31F50AE4F147392F6F35CF        1     48          18\n",
       "2  0000A150D4C8B92A4F8D280C6D4656B0        1      0          18\n",
       "3  000230CE71238C85771268A5B7D807BC        0     31          18\n",
       "4  0002632EFE862D6479C37F4E21AE33AB        1     39          24"
      ]
     },
     "execution_count": 237,
     "metadata": {},
     "output_type": "execute_result"
    }
   ],
   "source": [
    "pacientes.head()"
   ]
  },
  {
   "cell_type": "markdown",
   "metadata": {},
   "source": [
    "Ficamos com essas columnas e salvamos num arquivo **Covid19_Pacientes_clean.csv**"
   ]
  },
  {
   "cell_type": "code",
   "execution_count": 238,
   "metadata": {},
   "outputs": [],
   "source": [
    "pacientes.to_csv('Covid19_Pacientes_clean.csv', index=False, header=True)"
   ]
  },
  {
   "cell_type": "markdown",
   "metadata": {},
   "source": [
    "## Analise do arquivo de resultados dos examenes dos pacientes\n",
    "- Grupo_Fleury_Dataset_Covid19_Resultados_Exames.csv"
   ]
  },
  {
   "cell_type": "code",
   "execution_count": 3,
   "metadata": {},
   "outputs": [],
   "source": [
    "resultados_exames = pd.read_csv('Grupo_Fleury_Dataset_Covid19_Resultados_Exames.csv', sep='|', encoding='latin-1')"
   ]
  },
  {
   "cell_type": "code",
   "execution_count": 4,
   "metadata": {},
   "outputs": [
    {
     "data": {
      "text/plain": [
       "(2496591, 8)"
      ]
     },
     "execution_count": 4,
     "metadata": {},
     "output_type": "execute_result"
    }
   ],
   "source": [
    "resultados_exames.shape"
   ]
  },
  {
   "cell_type": "markdown",
   "metadata": {},
   "source": [
    "~2.5 milhões de registros de resutaldos dos examenes dos pacientes.\n",
    "\n",
    "Podemos ter registros repetidos, para isso fazemos o seguinte para deletar os repetidos. "
   ]
  },
  {
   "cell_type": "code",
   "execution_count": 5,
   "metadata": {},
   "outputs": [],
   "source": [
    "!sort -u Grupo_Fleury_Dataset_Covid19_Resultados_Exames.csv > Covid19_Resultados_Exames.csv"
   ]
  },
  {
   "cell_type": "markdown",
   "metadata": {},
   "source": [
    "Lemos o arquivo sem registros duplicados que é Covid19_Resultados_Exames.csv"
   ]
  },
  {
   "cell_type": "code",
   "execution_count": 104,
   "metadata": {},
   "outputs": [],
   "source": [
    "resultados_exames = pd.read_csv('Covid19_Resultados_Exames.csv', sep='|', encoding='latin-1')"
   ]
  },
  {
   "cell_type": "code",
   "execution_count": 7,
   "metadata": {},
   "outputs": [
    {
     "data": {
      "text/plain": [
       "(2494613, 8)"
      ]
     },
     "execution_count": 7,
     "metadata": {},
     "output_type": "execute_result"
    }
   ],
   "source": [
    "resultados_exames.shape"
   ]
  },
  {
   "cell_type": "markdown",
   "metadata": {},
   "source": [
    "Note-se que a quantidade de registros diminui em 1978, por tanto tinhamos 1978 registros redundantes. Aqui também acontece que os nomes de colunas passou a ser registro, arrumamos isso."
   ]
  },
  {
   "cell_type": "code",
   "execution_count": 12,
   "metadata": {},
   "outputs": [
    {
     "data": {
      "text/html": [
       "<div>\n",
       "<style scoped>\n",
       "    .dataframe tbody tr th:only-of-type {\n",
       "        vertical-align: middle;\n",
       "    }\n",
       "\n",
       "    .dataframe tbody tr th {\n",
       "        vertical-align: top;\n",
       "    }\n",
       "\n",
       "    .dataframe thead th {\n",
       "        text-align: right;\n",
       "    }\n",
       "</style>\n",
       "<table border=\"1\" class=\"dataframe\">\n",
       "  <thead>\n",
       "    <tr style=\"text-align: right;\">\n",
       "      <th></th>\n",
       "      <th>00007BB4274722A63A38D415ACCD7705</th>\n",
       "      <th>13/05/2020</th>\n",
       "      <th>LAB</th>\n",
       "      <th>25 HIDROXI-VITAMINA D, soro</th>\n",
       "      <th>25 Hidroxi - vitamina D</th>\n",
       "      <th>78</th>\n",
       "      <th>ng/mL</th>\n",
       "      <th>Unnamed: 7</th>\n",
       "    </tr>\n",
       "  </thead>\n",
       "  <tbody>\n",
       "    <tr>\n",
       "      <th>2494612</th>\n",
       "      <td>ID_PACIENTE</td>\n",
       "      <td>DT_COLETA</td>\n",
       "      <td>DE_ORIGEM</td>\n",
       "      <td>DE_EXAME</td>\n",
       "      <td>DE_ANALITO</td>\n",
       "      <td>DE_RESULTADO</td>\n",
       "      <td>CD_UNIDADE</td>\n",
       "      <td>DE_VALOR_REFERENCIA</td>\n",
       "    </tr>\n",
       "  </tbody>\n",
       "</table>\n",
       "</div>"
      ],
      "text/plain": [
       "        00007BB4274722A63A38D415ACCD7705 13/05/2020        LAB  \\\n",
       "2494612                      ID_PACIENTE  DT_COLETA  DE_ORIGEM   \n",
       "\n",
       "        25 HIDROXI-VITAMINA D, soro 25 Hidroxi - vitamina D            78  \\\n",
       "2494612                    DE_EXAME              DE_ANALITO  DE_RESULTADO   \n",
       "\n",
       "              ng/mL           Unnamed: 7  \n",
       "2494612  CD_UNIDADE  DE_VALOR_REFERENCIA  "
      ]
     },
     "execution_count": 12,
     "metadata": {},
     "output_type": "execute_result"
    }
   ],
   "source": [
    "resultados_exames.tail(1)"
   ]
  },
  {
   "cell_type": "code",
   "execution_count": 293,
   "metadata": {},
   "outputs": [],
   "source": [
    "col_names = ['ID_PACIENTE', 'DT_COLETA', 'DE_ORIGEM', 'DE_EXAME', 'DE_ANALITO', 'DE_RESULTADO', 'CD_UNIDADE', 'DE_VALOR_REFERENCIA']\n",
    "resultados_exames = pd.read_csv('Covid19_Resultados_Exames.csv', sep='|', names=col_names, encoding='latin-1')"
   ]
  },
  {
   "cell_type": "code",
   "execution_count": 294,
   "metadata": {},
   "outputs": [],
   "source": [
    "resultados_exames.drop(resultados_exames.tail(1).index, inplace=True)"
   ]
  },
  {
   "cell_type": "code",
   "execution_count": 107,
   "metadata": {},
   "outputs": [
    {
     "data": {
      "text/html": [
       "<div>\n",
       "<style scoped>\n",
       "    .dataframe tbody tr th:only-of-type {\n",
       "        vertical-align: middle;\n",
       "    }\n",
       "\n",
       "    .dataframe tbody tr th {\n",
       "        vertical-align: top;\n",
       "    }\n",
       "\n",
       "    .dataframe thead th {\n",
       "        text-align: right;\n",
       "    }\n",
       "</style>\n",
       "<table border=\"1\" class=\"dataframe\">\n",
       "  <thead>\n",
       "    <tr style=\"text-align: right;\">\n",
       "      <th></th>\n",
       "      <th>ID_PACIENTE</th>\n",
       "      <th>DT_COLETA</th>\n",
       "      <th>DE_ORIGEM</th>\n",
       "      <th>DE_EXAME</th>\n",
       "      <th>DE_ANALITO</th>\n",
       "      <th>DE_RESULTADO</th>\n",
       "      <th>CD_UNIDADE</th>\n",
       "      <th>DE_VALOR_REFERENCIA</th>\n",
       "    </tr>\n",
       "  </thead>\n",
       "  <tbody>\n",
       "    <tr>\n",
       "      <th>0</th>\n",
       "      <td>00007BB4274722A63A38D415ACCD7705</td>\n",
       "      <td>13/05/2020</td>\n",
       "      <td>LAB</td>\n",
       "      <td>25 HIDROXI-VITAMINA D, soro</td>\n",
       "      <td>25 Hidroxi - vitamina D</td>\n",
       "      <td>78</td>\n",
       "      <td>ng/mL</td>\n",
       "      <td>NaN</td>\n",
       "    </tr>\n",
       "    <tr>\n",
       "      <th>1</th>\n",
       "      <td>00007BB4274722A63A38D415ACCD7705</td>\n",
       "      <td>13/05/2020</td>\n",
       "      <td>LAB</td>\n",
       "      <td>ACIDO FOLICO, soro</td>\n",
       "      <td>Ácido fólico - Eletroquimioluminescência</td>\n",
       "      <td>18,6</td>\n",
       "      <td>ng/mL</td>\n",
       "      <td>Superior a 3,9</td>\n",
       "    </tr>\n",
       "    <tr>\n",
       "      <th>2</th>\n",
       "      <td>00007BB4274722A63A38D415ACCD7705</td>\n",
       "      <td>13/05/2020</td>\n",
       "      <td>LAB</td>\n",
       "      <td>ACIDO URICO, soro</td>\n",
       "      <td>Ácido Úrico, soro</td>\n",
       "      <td>2,7</td>\n",
       "      <td>mg/dL</td>\n",
       "      <td>2,4 a 5,7</td>\n",
       "    </tr>\n",
       "    <tr>\n",
       "      <th>3</th>\n",
       "      <td>00007BB4274722A63A38D415ACCD7705</td>\n",
       "      <td>13/05/2020</td>\n",
       "      <td>LAB</td>\n",
       "      <td>ALUMINIO, plasma</td>\n",
       "      <td>Alumínio</td>\n",
       "      <td>10</td>\n",
       "      <td>microg/L</td>\n",
       "      <td>Até 10</td>\n",
       "    </tr>\n",
       "    <tr>\n",
       "      <th>4</th>\n",
       "      <td>00007BB4274722A63A38D415ACCD7705</td>\n",
       "      <td>13/05/2020</td>\n",
       "      <td>LAB</td>\n",
       "      <td>ANTICORPOS ANTI-PEROXIDASE TIROIDIANA, soro</td>\n",
       "      <td>Anticorpos Anti-Peroxidase Tiroidiana</td>\n",
       "      <td>inferior a 34</td>\n",
       "      <td>U/mL</td>\n",
       "      <td>inferior a 34</td>\n",
       "    </tr>\n",
       "  </tbody>\n",
       "</table>\n",
       "</div>"
      ],
      "text/plain": [
       "                        ID_PACIENTE   DT_COLETA DE_ORIGEM  \\\n",
       "0  00007BB4274722A63A38D415ACCD7705  13/05/2020       LAB   \n",
       "1  00007BB4274722A63A38D415ACCD7705  13/05/2020       LAB   \n",
       "2  00007BB4274722A63A38D415ACCD7705  13/05/2020       LAB   \n",
       "3  00007BB4274722A63A38D415ACCD7705  13/05/2020       LAB   \n",
       "4  00007BB4274722A63A38D415ACCD7705  13/05/2020       LAB   \n",
       "\n",
       "                                      DE_EXAME  \\\n",
       "0                  25 HIDROXI-VITAMINA D, soro   \n",
       "1                           ACIDO FOLICO, soro   \n",
       "2                            ACIDO URICO, soro   \n",
       "3                             ALUMINIO, plasma   \n",
       "4  ANTICORPOS ANTI-PEROXIDASE TIROIDIANA, soro   \n",
       "\n",
       "                                 DE_ANALITO   DE_RESULTADO CD_UNIDADE  \\\n",
       "0                   25 Hidroxi - vitamina D             78      ng/mL   \n",
       "1  Ácido fólico - Eletroquimioluminescência           18,6      ng/mL   \n",
       "2                         Ácido Úrico, soro            2,7      mg/dL   \n",
       "3                                  Alumínio             10   microg/L   \n",
       "4     Anticorpos Anti-Peroxidase Tiroidiana  inferior a 34       U/mL   \n",
       "\n",
       "  DE_VALOR_REFERENCIA  \n",
       "0                 NaN  \n",
       "1      Superior a 3,9  \n",
       "2           2,4 a 5,7  \n",
       "3              Até 10  \n",
       "4       inferior a 34  "
      ]
     },
     "execution_count": 107,
     "metadata": {},
     "output_type": "execute_result"
    }
   ],
   "source": [
    "resultados_exames.head()"
   ]
  },
  {
   "cell_type": "code",
   "execution_count": 18,
   "metadata": {},
   "outputs": [
    {
     "name": "stdout",
     "output_type": "stream",
     "text": [
      "<class 'pandas.core.frame.DataFrame'>\n",
      "Int64Index: 2494613 entries, 0 to 2494612\n",
      "Data columns (total 8 columns):\n",
      " #   Column               Dtype \n",
      "---  ------               ----- \n",
      " 0   ID_PACIENTE          object\n",
      " 1   DT_COLETA            object\n",
      " 2   DE_ORIGEM            object\n",
      " 3   DE_EXAME             object\n",
      " 4   DE_ANALITO           object\n",
      " 5   DE_RESULTADO         object\n",
      " 6   CD_UNIDADE           object\n",
      " 7   DE_VALOR_REFERENCIA  object\n",
      "dtypes: object(8)\n",
      "memory usage: 171.3+ MB\n"
     ]
    }
   ],
   "source": [
    "resultados_exames.info()"
   ]
  },
  {
   "cell_type": "markdown",
   "metadata": {},
   "source": [
    "Vamos a calcular a densidade de cada exame e subtipo de exame, isto para ter uma noção da quantidade de vezes com que foi realizado cada exame, e poder usar ela como feature ou não."
   ]
  },
  {
   "cell_type": "code",
   "execution_count": 40,
   "metadata": {},
   "outputs": [],
   "source": [
    "exames_agrupados = resultados_exames[['DE_EXAME', 'DE_ANALITO']].groupby(['DE_EXAME', 'DE_ANALITO'])['DE_ANALITO'] \\\n",
    "                                             .count() \\\n",
    "                                             .reset_index(name=\"VEZES\") \\\n",
    "                                             .sort_values(['VEZES'], ascending=False)"
   ]
  },
  {
   "cell_type": "code",
   "execution_count": 41,
   "metadata": {},
   "outputs": [
    {
     "data": {
      "text/html": [
       "<div>\n",
       "<style scoped>\n",
       "    .dataframe tbody tr th:only-of-type {\n",
       "        vertical-align: middle;\n",
       "    }\n",
       "\n",
       "    .dataframe tbody tr th {\n",
       "        vertical-align: top;\n",
       "    }\n",
       "\n",
       "    .dataframe thead th {\n",
       "        text-align: right;\n",
       "    }\n",
       "</style>\n",
       "<table border=\"1\" class=\"dataframe\">\n",
       "  <thead>\n",
       "    <tr style=\"text-align: right;\">\n",
       "      <th></th>\n",
       "      <th>DE_EXAME</th>\n",
       "      <th>DE_ANALITO</th>\n",
       "      <th>VEZES</th>\n",
       "    </tr>\n",
       "  </thead>\n",
       "  <tbody>\n",
       "    <tr>\n",
       "      <th>277</th>\n",
       "      <td>COVID19, ANTICORPOS IgG, soro</td>\n",
       "      <td>Covid 19, Anticorpos IgG, Quimiolumin.-Índice</td>\n",
       "      <td>84996</td>\n",
       "    </tr>\n",
       "    <tr>\n",
       "      <th>279</th>\n",
       "      <td>COVID19, ANTICORPOS IgM, soro</td>\n",
       "      <td>Covid 19, Anticorpos IgM, Quimiolumin.-Índice</td>\n",
       "      <td>84986</td>\n",
       "    </tr>\n",
       "    <tr>\n",
       "      <th>278</th>\n",
       "      <td>COVID19, ANTICORPOS IgG, soro</td>\n",
       "      <td>Covid 19, Anticorpos IgG, Quimioluminescência</td>\n",
       "      <td>83767</td>\n",
       "    </tr>\n",
       "    <tr>\n",
       "      <th>280</th>\n",
       "      <td>COVID19, ANTICORPOS IgM, soro</td>\n",
       "      <td>Covid 19, Anticorpos IgM, Quimioluminescência</td>\n",
       "      <td>83753</td>\n",
       "    </tr>\n",
       "    <tr>\n",
       "      <th>797</th>\n",
       "      <td>NOVO CORONAVÍRUS 2019 (SARS-CoV-2), DETECÇÃO P...</td>\n",
       "      <td>Covid 19, Detecção por PCR</td>\n",
       "      <td>50223</td>\n",
       "    </tr>\n",
       "    <tr>\n",
       "      <th>...</th>\n",
       "      <td>...</td>\n",
       "      <td>...</td>\n",
       "      <td>...</td>\n",
       "    </tr>\n",
       "    <tr>\n",
       "      <th>945</th>\n",
       "      <td>QUANTIFICACAO DE INIBIDOR DE FATOR IX, plasma</td>\n",
       "      <td>Dosagem de fator IX</td>\n",
       "      <td>1</td>\n",
       "    </tr>\n",
       "    <tr>\n",
       "      <th>1141</th>\n",
       "      <td>TRIAGEM DE ANFETAMINAS E METANFETAMINAS, urina</td>\n",
       "      <td>Anfetaminas e Metanfetaminas, urina</td>\n",
       "      <td>1</td>\n",
       "    </tr>\n",
       "    <tr>\n",
       "      <th>759</th>\n",
       "      <td>MAG, ANTICORPOS, soro</td>\n",
       "      <td>MAG, anticorpos</td>\n",
       "      <td>1</td>\n",
       "    </tr>\n",
       "    <tr>\n",
       "      <th>852</th>\n",
       "      <td>PESQUISA DE MICROSPORIDIA NAS FEZES</td>\n",
       "      <td>Microsporidia, pesquisa, fezes</td>\n",
       "      <td>1</td>\n",
       "    </tr>\n",
       "    <tr>\n",
       "      <th>731</th>\n",
       "      <td>JO-1, AUTO-ANTICORPOS, soro</td>\n",
       "      <td>Jo-1, Auto-Anticorpos - imunodifusão dupla</td>\n",
       "      <td>1</td>\n",
       "    </tr>\n",
       "  </tbody>\n",
       "</table>\n",
       "<p>1279 rows × 3 columns</p>\n",
       "</div>"
      ],
      "text/plain": [
       "                                               DE_EXAME  \\\n",
       "277                       COVID19, ANTICORPOS IgG, soro   \n",
       "279                       COVID19, ANTICORPOS IgM, soro   \n",
       "278                       COVID19, ANTICORPOS IgG, soro   \n",
       "280                       COVID19, ANTICORPOS IgM, soro   \n",
       "797   NOVO CORONAVÍRUS 2019 (SARS-CoV-2), DETECÇÃO P...   \n",
       "...                                                 ...   \n",
       "945       QUANTIFICACAO DE INIBIDOR DE FATOR IX, plasma   \n",
       "1141     TRIAGEM DE ANFETAMINAS E METANFETAMINAS, urina   \n",
       "759                               MAG, ANTICORPOS, soro   \n",
       "852                 PESQUISA DE MICROSPORIDIA NAS FEZES   \n",
       "731                         JO-1, AUTO-ANTICORPOS, soro   \n",
       "\n",
       "                                         DE_ANALITO  VEZES  \n",
       "277   Covid 19, Anticorpos IgG, Quimiolumin.-Índice  84996  \n",
       "279   Covid 19, Anticorpos IgM, Quimiolumin.-Índice  84986  \n",
       "278   Covid 19, Anticorpos IgG, Quimioluminescência  83767  \n",
       "280   Covid 19, Anticorpos IgM, Quimioluminescência  83753  \n",
       "797                      Covid 19, Detecção por PCR  50223  \n",
       "...                                             ...    ...  \n",
       "945                             Dosagem de fator IX      1  \n",
       "1141            Anfetaminas e Metanfetaminas, urina      1  \n",
       "759                                 MAG, anticorpos      1  \n",
       "852                  Microsporidia, pesquisa, fezes      1  \n",
       "731      Jo-1, Auto-Anticorpos - imunodifusão dupla      1  \n",
       "\n",
       "[1279 rows x 3 columns]"
      ]
     },
     "execution_count": 41,
     "metadata": {},
     "output_type": "execute_result"
    }
   ],
   "source": [
    "exames_agrupados"
   ]
  },
  {
   "cell_type": "markdown",
   "metadata": {},
   "source": [
    "Salvamos esse agrupamento de examenes num arquivo csv"
   ]
  },
  {
   "cell_type": "code",
   "execution_count": 43,
   "metadata": {},
   "outputs": [],
   "source": [
    "exames_agrupados.to_csv(r'examens_agrupados.csv', index=False, sep='|')"
   ]
  },
  {
   "cell_type": "markdown",
   "metadata": {},
   "source": [
    "Vamos analizar esses exames com detalhe.\n",
    "\n",
    "Primeiro vamos analizar quais exames que não são importantes para poder modelar o problema. Olhamos na coluna do \"DE_ANALITO\", lá encontramos registros como:\n",
    "- 'COVID 19, Material': descreve o material utilizado no PCR\n",
    "\n",
    "Por tanto vamos deletar registros com esta informação"
   ]
  },
  {
   "cell_type": "code",
   "execution_count": 295,
   "metadata": {},
   "outputs": [],
   "source": [
    "drop_DE_ANALITO = 'Covid 19, Material'"
   ]
  },
  {
   "cell_type": "code",
   "execution_count": 296,
   "metadata": {},
   "outputs": [],
   "source": [
    "indexNames = resultados_exames[resultados_exames['DE_ANALITO'] == drop_DE_ANALITO].index\n",
    "resultados_exames.drop(indexNames , inplace=True)"
   ]
  },
  {
   "cell_type": "markdown",
   "metadata": {},
   "source": [
    "Também tem muito exame onde se analizam anticorpos IgG e IgM porém não são referentes ao COVID 19, exemplo:\n",
    "- 'CITOMEGALOVIRUS, ANTICORPOS IgG, soro'  'CMV, IgG'\n",
    "- 'CITOMEGALOVIRUS, ANTICORPOS IgM, soro'  'CMV, IgM'\n",
    "- 'RUBEOLA, ANTICORPOS IgG, soro' 'Rubeola, IgG'\n",
    "- 'RUBEOLA, ANTICORPOS IgM, soro' 'Rubeola, IgM'\n",
    "- 'VIRUS EPSTEIN BARR (ANTIGENO DO CAPSIDEO VIRAL), ANTICORPOS IgM, soro' 'Epstein-Barr, IgM'\n",
    "- 'VIRUS EPSTEIN BARR (ANTIGENO DO CAPSIDEO VIRAL), ANTICORPOS IgG, soro' 'Epstein-Barr, IgG'\n",
    "- 'ZIKA VÍRUS, PESQUISA DE ANTICORPOS DA CLASSE IGM, soro' 'Zika vírus - IgM'\n",
    "- 'ZIKA VÍRUS, PESQUISA DE ANTICORPOS DA CLASSE IGM, soro' 'Zika vírus - IgM - Índice'\n",
    "- 'HERPES SIMPLEX, TIPO 1, ANTICORPOS IgG, soro' 'Herpes Simplex, Tipo 1, IgG'\n",
    "- 'HERPES SIMPLEX, TIPO 2, ANTICORPOS IgG, soro' 'Herpes Simplex, Tipo 2, IgG'\n",
    "- 'SARAMPO, ANTICORPOS IgG, soro' 'Sarampo, Anticorpos IgG'\n",
    "- 'SARAMPO, ANTICORPOS IgM, soro' 'Sarampo, Anticorpos IgM'\n",
    "- 'CHLAMYDIA TRACHOMATIS, ANTICORPOS IgG, soro' 'Chlamydia Trachomatis, IgG'\n",
    "- 'CHLAMYDIA TRACHOMATIS, ANTICORPOS IgM, soro' 'Chlamydia Trachomatis, IgM'\n",
    "- 'VARICELLA-ZOSTER VIRUS, ANTICORPOS IgG, soro' 'Varicella-Zoster, anticorpos IgG'\n",
    "- 'VARICELLA-ZOSTER VIRUS, ANTICORPOS IgM, soro' 'Varicella-Zoster, anticorpos IgM'\n",
    "- 'ZIKA VÍRUS, PESQUISA DE ANTICORPOS DA CLASSE IGG, soro'\t'Zika vírus - IgG - Índice'\n",
    "- 'ZIKA VÍRUS, PESQUISA DE ANTICORPOS DA CLASSE IGG, soro'\t'Zika vírus - IgG'\n",
    "- 'DENGUE, ANTICORPOS IgG, PROVA RÁPIDA, soro'\t'Dengue, IgG'\n",
    "- 'DENGUE, ANTICORPOS IgM, PROVA RÁPIDA, soro'\t'Dengue, IgM\n",
    "- 'DENGUE, ANTICORPOS IgG, soro'\t'Dengue, IgG'\n",
    "- 'DENGUE, ANTICORPOS IgM, soro'\t'Dengue, IgM'\n",
    "- 'HERPES SIMPLEX, TIPO  1 e 2, ANTICORPOS IgG, soro'\t'Herpes Simplex, Tipo 1 e 2, IgG'\n",
    "- 'HERPES SIMPLEX, TIPO 1 e 2, ANTICORPO IgM, soro'\t'Herpes Simplex, Tipo 1 e 2, IgM'\n",
    "- 'CAXUMBA, ANTICORPOS IgG, soro'\t'Caxumba, IgG'\n",
    "- 'CAXUMBA, ANTICORPOS IgM, soro'\t'Caxumba, IgM\n",
    "- 'HELICOBACTER PYLORI, ANTICORPOS IgG, soro'\t'Helicobacter Pylori, IgG'\n",
    "- 'ERITROVIRUS B19, ANTICORPOS IgM, soro'\t'Eritrovírus B19, IgM'\n",
    "- 'ANTICORPOS IgM CONTRA O VIRUS DA HEPATITE A (ANTI-VHA IgM)'\t'Anti-VHA, IgM'\n",
    "- 'ANTICORPO IgM CONTRA ANTIGENO DO CORE DO VIRUS DA HEPATITE B, soro'\t'Anti-HBc, IgM'\n",
    "- 'TOXOPLASMA, ANTICORPOS IgG, soro'\t'Toxoplasma, IgG'\n",
    "- 'TOXOPLASMA, ANTICORPOS IgM, soro'\t'Toxoplasma, IgM'\n",
    "\n",
    "Por tanto vamos a deletar esses registros que possam conter esses exames"
   ]
  },
  {
   "cell_type": "code",
   "execution_count": 297,
   "metadata": {},
   "outputs": [],
   "source": [
    "drop_DE_EXAME = []\n",
    "drop_DE_ANALITO = []"
   ]
  },
  {
   "cell_type": "code",
   "execution_count": 298,
   "metadata": {},
   "outputs": [],
   "source": [
    "drop_DE_EXAME.append('CITOMEGALOVIRUS, ANTICORPOS IgG, soro')\n",
    "drop_DE_ANALITO.append('CMV, IgG')\n",
    "drop_DE_EXAME.append('CITOMEGALOVIRUS, ANTICORPOS IgM, soro')\n",
    "drop_DE_ANALITO.append('CMV, IgM')\n",
    "\n",
    "drop_DE_EXAME.append('RUBEOLA, ANTICORPOS IgG, soro')\n",
    "drop_DE_ANALITO.append('Rubeola, IgG')\n",
    "drop_DE_EXAME.append('RUBEOLA, ANTICORPOS IgM, soro')\n",
    "drop_DE_ANALITO.append('Rubeola, IgM')\n",
    "\n",
    "drop_DE_EXAME.append('VIRUS EPSTEIN BARR (ANTIGENO DO CAPSIDEO VIRAL), ANTICORPOS IgM, soro') \n",
    "drop_DE_ANALITO.append('Epstein-Barr, IgM')\n",
    "drop_DE_EXAME.append('VIRUS EPSTEIN BARR (ANTIGENO DO CAPSIDEO VIRAL), ANTICORPOS IgG, soro')\n",
    "drop_DE_ANALITO.append('Epstein-Barr, IgG')\n",
    "\n",
    "drop_DE_EXAME.append('ZIKA VÍRUS, PESQUISA DE ANTICORPOS DA CLASSE IGM, soro')\n",
    "drop_DE_ANALITO.append('Zika vírus - IgM')\n",
    "drop_DE_EXAME.append('ZIKA VÍRUS, PESQUISA DE ANTICORPOS DA CLASSE IGM, soro')\n",
    "drop_DE_ANALITO.append('Zika vírus - IgM - Índice')\n",
    "\n",
    "drop_DE_EXAME.append('HERPES SIMPLEX, TIPO 1, ANTICORPOS IgG, soro')\n",
    "drop_DE_ANALITO.append('Herpes Simplex, Tipo 1, IgG')\n",
    "drop_DE_EXAME.append('HERPES SIMPLEX, TIPO 2, ANTICORPOS IgG, soro')\n",
    "drop_DE_ANALITO.append('Herpes Simplex, Tipo 2, IgG')\n",
    "\n",
    "drop_DE_EXAME.append('SARAMPO, ANTICORPOS IgG, soro') \n",
    "drop_DE_ANALITO.append('Sarampo, Anticorpos IgG')\n",
    "drop_DE_EXAME.append('SARAMPO, ANTICORPOS IgM, soro') \n",
    "drop_DE_ANALITO.append('Sarampo, Anticorpos IgM')\n",
    "\n",
    "drop_DE_EXAME.append('CHLAMYDIA TRACHOMATIS, ANTICORPOS IgG, soro') \n",
    "drop_DE_ANALITO.append('Chlamydia Trachomatis, IgG')\n",
    "drop_DE_EXAME.append('CHLAMYDIA TRACHOMATIS, ANTICORPOS IgM, soro')\n",
    "drop_DE_ANALITO.append('Chlamydia Trachomatis, IgM')\n",
    "\n",
    "drop_DE_EXAME.append('VARICELLA-ZOSTER VIRUS, ANTICORPOS IgG, soro')\n",
    "drop_DE_ANALITO.append('Varicella-Zoster, anticorpos IgG')\n",
    "drop_DE_EXAME.append('VARICELLA-ZOSTER VIRUS, ANTICORPOS IgM, soro')\n",
    "drop_DE_ANALITO.append('Varicella-Zoster, anticorpos IgM')\n",
    "\n",
    "drop_DE_EXAME.append('ZIKA VÍRUS, PESQUISA DE ANTICORPOS DA CLASSE IGG, soro')\n",
    "drop_DE_ANALITO.append('Zika vírus - IgG - Índice')\n",
    "drop_DE_EXAME.append('ZIKA VÍRUS, PESQUISA DE ANTICORPOS DA CLASSE IGG, soro')\n",
    "drop_DE_ANALITO.append('Zika vírus - IgG')\n",
    "\n",
    "drop_DE_EXAME.append('DENGUE, ANTICORPOS IgG, PROVA RÁPIDA, soro')\n",
    "drop_DE_ANALITO.append('Dengue, IgG')\n",
    "drop_DE_EXAME.append('DENGUE, ANTICORPOS IgM, PROVA RÁPIDA, soro')\n",
    "drop_DE_ANALITO.append('Dengue, IgM')\n",
    "\n",
    "drop_DE_EXAME.append('DENGUE, ANTICORPOS IgG, soro')\n",
    "drop_DE_ANALITO.append('Dengue, IgG')\n",
    "drop_DE_EXAME.append('DENGUE, ANTICORPOS IgM, soro')\n",
    "drop_DE_ANALITO.append('Dengue, IgM')\n",
    "\n",
    "drop_DE_EXAME.append('HERPES SIMPLEX, TIPO  1 e 2, ANTICORPOS IgG, soro')\n",
    "drop_DE_ANALITO.append('Herpes Simplex, Tipo 1 e 2, IgG')\n",
    "drop_DE_EXAME.append('HERPES SIMPLEX, TIPO 1 e 2, ANTICORPO IgM, soro')\n",
    "drop_DE_ANALITO.append('Herpes Simplex, Tipo 1 e 2, IgM')\n",
    "\n",
    "\n",
    "drop_DE_EXAME.append('ENDOMISIO, ANTICORPOS IgG, soro')\n",
    "drop_DE_ANALITO.append('Endomisio, Anticorpos IgG')\n",
    "\n",
    "drop_DE_EXAME.append('CAXUMBA, ANTICORPOS IgG, soro')\n",
    "drop_DE_ANALITO.append('Caxumba, IgG')\n",
    "drop_DE_EXAME.append('CAXUMBA, ANTICORPOS IgM, soro')\n",
    "drop_DE_ANALITO.append('Caxumba, IgM')\n",
    "\n",
    "\n",
    "drop_DE_EXAME.append('HELICOBACTER PYLORI, ANTICORPOS IgG, soro')\n",
    "drop_DE_ANALITO.append('Helicobacter Pylori, IgG')\n",
    "\n",
    "drop_DE_EXAME.append('ERITROVIRUS B19, ANTICORPOS IgM, soro')\n",
    "drop_DE_ANALITO.append('Eritrovírus B19, IgM')\n",
    "\n",
    "drop_DE_EXAME.append('ANTICORPOS IgM CONTRA O VIRUS DA HEPATITE A (ANTI-VHA IgM)')\n",
    "drop_DE_ANALITO.append('Anti-VHA, IgM')\n",
    "\n",
    "drop_DE_EXAME.append('ANTICORPO IgM CONTRA ANTIGENO DO CORE DO VIRUS DA HEPATITE B, soro')\n",
    "drop_DE_ANALITO.append('Anti-HBc, IgM')\n",
    "\n",
    "drop_DE_EXAME.append('TOXOPLASMA, ANTICORPOS IgG, soro')\n",
    "drop_DE_ANALITO.append('Toxoplasma, IgG')\n",
    "drop_DE_EXAME.append('TOXOPLASMA, ANTICORPOS IgM, soro')\n",
    "drop_DE_ANALITO.append('Toxoplasma, IgM')"
   ]
  },
  {
   "cell_type": "code",
   "execution_count": 115,
   "metadata": {},
   "outputs": [
    {
     "data": {
      "text/plain": [
       "Int64Index([    371,     372,     401,     402,     403,     404,     409,\n",
       "                410,     525,     526,\n",
       "            ...\n",
       "            2492184, 2492185, 2492190, 2492191, 2493511, 2493512, 2494539,\n",
       "            2494540, 2494567, 2494568],\n",
       "           dtype='int64', length=21121)"
      ]
     },
     "execution_count": 115,
     "metadata": {},
     "output_type": "execute_result"
    }
   ],
   "source": [
    "indexNames"
   ]
  },
  {
   "cell_type": "code",
   "execution_count": 299,
   "metadata": {},
   "outputs": [],
   "source": [
    "indexNames = resultados_exames[resultados_exames['DE_ANALITO'].isin(drop_DE_ANALITO)].index\n",
    "resultados_exames.drop(indexNames , inplace=True)"
   ]
  },
  {
   "cell_type": "code",
   "execution_count": 300,
   "metadata": {},
   "outputs": [
    {
     "data": {
      "text/plain": [
       "(2420233, 8)"
      ]
     },
     "execution_count": 300,
     "metadata": {},
     "output_type": "execute_result"
    }
   ],
   "source": [
    "resultados_exames.shape"
   ]
  },
  {
   "cell_type": "markdown",
   "metadata": {},
   "source": [
    "Também temos dados que representam a mesma coisa, pois tem o seu valor original e o valor normalizado dele na forma de porcentagem, exemplo:\n",
    "<img src='covid_images/1.png'>\n",
    "\n",
    "Vamos manter os valores normalizados e deletar os originais"
   ]
  },
  {
   "cell_type": "code",
   "execution_count": 301,
   "metadata": {},
   "outputs": [],
   "source": [
    "index_deletar = ['Neutrófilos', 'Monócitos', 'Linfócitos', 'Basófilos', 'Eosinófilos', \\\n",
    "                 'Bastonetes', 'Reticulócitos', 'Metamielócitos', 'Mielócitos', \\\n",
    "                 'Promielócitos', 'Blastos', 'Plasmócitos']"
   ]
  },
  {
   "cell_type": "code",
   "execution_count": 302,
   "metadata": {},
   "outputs": [],
   "source": [
    "indexNames = resultados_exames[resultados_exames['DE_ANALITO'].isin(index_deletar)].index\n",
    "resultados_exames.drop(indexNames , inplace=True)"
   ]
  },
  {
   "cell_type": "code",
   "execution_count": 303,
   "metadata": {},
   "outputs": [
    {
     "data": {
      "text/plain": [
       "(2240474, 8)"
      ]
     },
     "execution_count": 303,
     "metadata": {},
     "output_type": "execute_result"
    }
   ],
   "source": [
    "resultados_exames.shape"
   ]
  },
  {
   "cell_type": "code",
   "execution_count": 73,
   "metadata": {},
   "outputs": [
    {
     "name": "stdout",
     "output_type": "stream",
     "text": [
      "<class 'pandas.core.frame.DataFrame'>\n",
      "Int64Index: 2240474 entries, 0 to 2494611\n",
      "Data columns (total 8 columns):\n",
      " #   Column               Dtype \n",
      "---  ------               ----- \n",
      " 0   ID_PACIENTE          object\n",
      " 1   DT_COLETA            object\n",
      " 2   DE_ORIGEM            object\n",
      " 3   DE_EXAME             object\n",
      " 4   DE_ANALITO           object\n",
      " 5   DE_RESULTADO         object\n",
      " 6   CD_UNIDADE           object\n",
      " 7   DE_VALOR_REFERENCIA  object\n",
      "dtypes: object(8)\n",
      "memory usage: 153.8+ MB\n"
     ]
    }
   ],
   "source": [
    "resultados_exames.info()"
   ]
  },
  {
   "cell_type": "markdown",
   "metadata": {},
   "source": [
    "## Analise dos labels referentes ao COVID\n",
    "\n",
    "### PCR\n",
    "Tem muitos teste de PCR, porém para gente interessa o PCR relacionado com COVID19.\n",
    "\n",
    "Exame relacionado com isso:\n",
    "- DE_ANALITO: 'Covid 19, Detecção por PCR' tem 50223 ocorrencias\n",
    "\n",
    "Vamos analizar o resultado desse teste"
   ]
  },
  {
   "cell_type": "code",
   "execution_count": 136,
   "metadata": {},
   "outputs": [
    {
     "data": {
      "text/plain": [
       "array(['NÃO DETECTADO', 'NÃO DETECTADO (NEGATIVO)',\n",
       "       'DETECTADO (POSITIVO)', 'DETECTADO', 'Inconclusivo ',\n",
       "       'Inconclusivo', 'INCONCLUSIVO', 'INCONCLUSIVO '], dtype=object)"
      ]
     },
     "execution_count": 136,
     "metadata": {},
     "output_type": "execute_result"
    }
   ],
   "source": [
    "resultados_exames[resultados_exames['DE_ANALITO'] == 'Covid 19, Detecção por PCR']['DE_RESULTADO'].unique()"
   ]
  },
  {
   "cell_type": "code",
   "execution_count": 137,
   "metadata": {},
   "outputs": [
    {
     "data": {
      "text/plain": [
       "NÃO DETECTADO               19285\n",
       "NÃO DETECTADO (NEGATIVO)    18287\n",
       "DETECTADO                    8159\n",
       "DETECTADO (POSITIVO)         4362\n",
       "Inconclusivo                   48\n",
       "INCONCLUSIVO                   41\n",
       "Inconclusivo                   40\n",
       "INCONCLUSIVO                    1\n",
       "Name: DE_RESULTADO, dtype: int64"
      ]
     },
     "execution_count": 137,
     "metadata": {},
     "output_type": "execute_result"
    }
   ],
   "source": [
    "resultados_exames[resultados_exames['DE_ANALITO'] == 'Covid 19, Detecção por PCR']['DE_RESULTADO'].value_counts()"
   ]
  },
  {
   "cell_type": "markdown",
   "metadata": {},
   "source": [
    "Vamos deletar os resultados **Inconclusivos**, que no total são 130, pois é uma pequena quantidade em relação no total."
   ]
  },
  {
   "cell_type": "code",
   "execution_count": 304,
   "metadata": {},
   "outputs": [],
   "source": [
    "resultados_deletar = ['Inconclusivo ', 'Inconclusivo', 'INCONCLUSIVO', 'INCONCLUSIVO ']"
   ]
  },
  {
   "cell_type": "code",
   "execution_count": 305,
   "metadata": {},
   "outputs": [],
   "source": [
    "index_covid = resultados_exames.loc[resultados_exames['DE_ANALITO'] == 'Covid 19, Detecção por PCR', 'DE_RESULTADO']"
   ]
  },
  {
   "cell_type": "code",
   "execution_count": 306,
   "metadata": {},
   "outputs": [],
   "source": [
    "index_to_delete = index_covid[index_covid.isin(resultados_deletar) == True].index"
   ]
  },
  {
   "cell_type": "code",
   "execution_count": 307,
   "metadata": {},
   "outputs": [],
   "source": [
    "resultados_exames.drop(index_to_delete , inplace=True)"
   ]
  },
  {
   "cell_type": "code",
   "execution_count": null,
   "metadata": {},
   "outputs": [],
   "source": []
  },
  {
   "cell_type": "code",
   "execution_count": 308,
   "metadata": {},
   "outputs": [
    {
     "data": {
      "text/plain": [
       "array(['NÃO DETECTADO', 'NÃO DETECTADO (NEGATIVO)',\n",
       "       'DETECTADO (POSITIVO)', 'DETECTADO'], dtype=object)"
      ]
     },
     "execution_count": 308,
     "metadata": {},
     "output_type": "execute_result"
    }
   ],
   "source": [
    "resultados_exames[resultados_exames['DE_ANALITO'] == 'Covid 19, Detecção por PCR']['DE_RESULTADO'].unique()"
   ]
  },
  {
   "cell_type": "markdown",
   "metadata": {},
   "source": [
    "Agora temos 4 tipos de respostas redundantes, vamos converter apenas para uma resposta binaria, onde:\n",
    "- 1 -> positivo/detectado\n",
    "- 0 -> não detetado/negativo"
   ]
  },
  {
   "cell_type": "code",
   "execution_count": 309,
   "metadata": {},
   "outputs": [],
   "source": [
    "index_covid_pcr = resultados_exames.loc[resultados_exames['DE_ANALITO'] == 'Covid 19, Detecção por PCR', 'DE_RESULTADO']"
   ]
  },
  {
   "cell_type": "code",
   "execution_count": 310,
   "metadata": {},
   "outputs": [],
   "source": [
    "index_covid_pcr.replace({'NÃO DETECTADO': 0, \\\n",
    "                     'NÃO DETECTADO (NEGATIVO)': 0, \\\n",
    "                     'DETECTADO (POSITIVO)': 1, \\\n",
    "                     'DETECTADO': 1}, inplace=True) "
   ]
  },
  {
   "cell_type": "code",
   "execution_count": 311,
   "metadata": {},
   "outputs": [],
   "source": [
    "resultados_exames.loc[index_covid_pcr.index, 'DE_RESULTADO'] = index_covid_pcr.values"
   ]
  },
  {
   "cell_type": "code",
   "execution_count": 312,
   "metadata": {},
   "outputs": [
    {
     "data": {
      "text/plain": [
       "array([0, 1], dtype=object)"
      ]
     },
     "execution_count": 312,
     "metadata": {},
     "output_type": "execute_result"
    }
   ],
   "source": [
    "resultados_exames[resultados_exames['DE_ANALITO'] == 'Covid 19, Detecção por PCR']['DE_RESULTADO'].unique()"
   ]
  },
  {
   "cell_type": "markdown",
   "metadata": {},
   "source": [
    "Note-se que temos mais exames COVID19 PCR negativos do que positivos, por tanto, os dados estão desbalanceados"
   ]
  },
  {
   "cell_type": "code",
   "execution_count": 313,
   "metadata": {},
   "outputs": [
    {
     "data": {
      "text/plain": [
       "0    37572\n",
       "1    12521\n",
       "Name: DE_RESULTADO, dtype: int64"
      ]
     },
     "execution_count": 313,
     "metadata": {},
     "output_type": "execute_result"
    }
   ],
   "source": [
    "resultados_exames[resultados_exames['DE_ANALITO'] == 'Covid 19, Detecção por PCR']['DE_RESULTADO'].value_counts()"
   ]
  },
  {
   "attachments": {},
   "cell_type": "markdown",
   "metadata": {},
   "source": [
    "### IgG\n",
    "Vamos listar os exames relacionados com IgG apenas para COVID19\n",
    "- 'COVID19, ANTICORPOS IgG, soro'\t'Covid 19, Anticorpos IgG, Quimiolumin.-Índice'\n",
    "- 'COVID19, ANTICORPOS IgG, soro'\t'Covid 19, Anticorpos IgG, Quimioluminescência'\n",
    "- 'COVID19, ANTICORPOS IgG, soro'\t'Covid 19, Anticorpos IgG, Elisa - Índice'\n",
    "- 'COVID19, ANTICORPOS IgG, soro'\t'Covid 19, Anticorpos IgG, Elisa'\n",
    "\n",
    "\n",
    "- 'SARS-CoV-2, ANTICORPOS IgM E IgG, TESTE RÁPIDO'\t'Covid 19, Antic IgM/IgG, teste rápido-Observ'\n",
    "\n",
    "SARS-CoV-2, ANTICORPOS IgM E IgG, TESTE RÁPIDO\tCovid 19, Anticorpos IgG, teste rápido\n",
    "\n",
    "SARS-COV-2, ANTICORPOS IgG, soro\tCovid 19, Anticorpos IgG, Elisa - Índice\n",
    "SARS-COV-2, ANTICORPOS IgG, soro\tCovid 19, Anticorpos IgG, Elisa"
   ]
  },
  {
   "cell_type": "markdown",
   "metadata": {},
   "source": [
    "Quando analizamos esses exames, por exemplo\n",
    "- 'COVID19, ANTICORPOS IgG, soro' 'Covid 19, Anticorpos IgG, Quimiolumin.-Índice'\n",
    "- 'COVID19, ANTICORPOS IgG, soro' 'Covid 19, Anticorpos IgG, Quimioluminescência'\n",
    "\n",
    "Notamos que ambos quem dizer a mesma coisa, pois **'Covid 19, Anticorpos IgG, Quimiolumin.-Índice'** é o valor original do resultado, enquanto que **'Covid 19, Anticorpos IgG, Quimioluminescência** aplica um umbral de 0.8 a esse valor original do exame anterior, se ele for inferior do 0,8, o resultado deste exame é NÂO REAGENTE, caso contrario é REAGENTE. Note-se que também existem valores de Indeterminado, o qual deletaremos mais pra frente, pois não fica claro porque que fica assim, ademas disso tem poucos registros com esse estado."
   ]
  },
  {
   "cell_type": "code",
   "execution_count": 314,
   "metadata": {},
   "outputs": [],
   "source": [
    "drop_DE_ANALITO = 'Covid 19, Anticorpos IgG, Quimiolumin.-Índice'"
   ]
  },
  {
   "cell_type": "code",
   "execution_count": 315,
   "metadata": {},
   "outputs": [],
   "source": [
    "indexNames = resultados_exames[resultados_exames['DE_ANALITO'] == drop_DE_ANALITO].index\n",
    "resultados_exames.drop(indexNames , inplace=True)"
   ]
  },
  {
   "cell_type": "code",
   "execution_count": 316,
   "metadata": {},
   "outputs": [
    {
     "data": {
      "text/plain": [
       "NÃO REAGENTE     73795\n",
       "REAGENTE          7894\n",
       "Indeterminado     2078\n",
       "Name: DE_RESULTADO, dtype: int64"
      ]
     },
     "execution_count": 316,
     "metadata": {},
     "output_type": "execute_result"
    }
   ],
   "source": [
    "resultados_exames[resultados_exames['DE_ANALITO'] == 'Covid 19, Anticorpos IgG, Quimioluminescência']['DE_RESULTADO'].value_counts()"
   ]
  },
  {
   "cell_type": "markdown",
   "metadata": {},
   "source": [
    "Deletamos os registros indeterminados, pois não fica claro, quando que acaba sendo indeterminado."
   ]
  },
  {
   "cell_type": "code",
   "execution_count": 317,
   "metadata": {},
   "outputs": [],
   "source": [
    "resultados_deletar = ['Indeterminado']\n",
    "index_igg_indeterminado = resultados_exames.loc[resultados_exames['DE_ANALITO'] == 'Covid 19, Anticorpos IgG, Quimioluminescência', 'DE_RESULTADO']\n",
    "index_to_delete = index_igg_indeterminado[index_igg_indeterminado.isin(resultados_deletar) == True].index\n",
    "resultados_exames.drop(index_to_delete , inplace=True)"
   ]
  },
  {
   "cell_type": "code",
   "execution_count": 318,
   "metadata": {},
   "outputs": [
    {
     "data": {
      "text/plain": [
       "NÃO REAGENTE    73795\n",
       "REAGENTE         7894\n",
       "Name: DE_RESULTADO, dtype: int64"
      ]
     },
     "execution_count": 318,
     "metadata": {},
     "output_type": "execute_result"
    }
   ],
   "source": [
    "resultados_exames[resultados_exames['DE_ANALITO'] == 'Covid 19, Anticorpos IgG, Quimioluminescência']['DE_RESULTADO'].value_counts()"
   ]
  },
  {
   "cell_type": "markdown",
   "metadata": {},
   "source": [
    "Fazemos a conversão para valores numéricos:\n",
    "- 1 -> 'REAGENTE'\n",
    "- 0 -> 'NÃO REAGENTE'"
   ]
  },
  {
   "cell_type": "code",
   "execution_count": 319,
   "metadata": {},
   "outputs": [],
   "source": [
    "index_covid_igg = resultados_exames.loc[resultados_exames['DE_ANALITO'] == 'Covid 19, Anticorpos IgG, Quimioluminescência', 'DE_RESULTADO']"
   ]
  },
  {
   "cell_type": "code",
   "execution_count": 320,
   "metadata": {},
   "outputs": [],
   "source": [
    "index_covid_igg.replace({'REAGENTE': 1, \\\n",
    "                     'NÃO REAGENTE': 0 }, inplace=True) "
   ]
  },
  {
   "cell_type": "code",
   "execution_count": 321,
   "metadata": {},
   "outputs": [],
   "source": [
    "resultados_exames.loc[index_covid_igg.index, 'DE_RESULTADO'] = index_covid_igg.values"
   ]
  },
  {
   "cell_type": "code",
   "execution_count": 322,
   "metadata": {},
   "outputs": [
    {
     "data": {
      "text/plain": [
       "0    73795\n",
       "1     7894\n",
       "Name: DE_RESULTADO, dtype: int64"
      ]
     },
     "execution_count": 322,
     "metadata": {},
     "output_type": "execute_result"
    }
   ],
   "source": [
    "resultados_exames[resultados_exames['DE_ANALITO'] == 'Covid 19, Anticorpos IgG, Quimioluminescência']['DE_RESULTADO'].value_counts()"
   ]
  },
  {
   "cell_type": "code",
   "execution_count": null,
   "metadata": {},
   "outputs": [],
   "source": []
  },
  {
   "cell_type": "markdown",
   "metadata": {},
   "source": [
    "- 'COVID19, ANTICORPOS IgG, soro'\t'Covid 19, Anticorpos IgG, Elisa - Índice'\n",
    "- 'COVID19, ANTICORPOS IgG, soro'\t'Covid 19, Anticorpos IgG, Elisa'"
   ]
  },
  {
   "cell_type": "code",
   "execution_count": 174,
   "metadata": {},
   "outputs": [
    {
     "data": {
      "text/html": [
       "<div>\n",
       "<style scoped>\n",
       "    .dataframe tbody tr th:only-of-type {\n",
       "        vertical-align: middle;\n",
       "    }\n",
       "\n",
       "    .dataframe tbody tr th {\n",
       "        vertical-align: top;\n",
       "    }\n",
       "\n",
       "    .dataframe thead th {\n",
       "        text-align: right;\n",
       "    }\n",
       "</style>\n",
       "<table border=\"1\" class=\"dataframe\">\n",
       "  <thead>\n",
       "    <tr style=\"text-align: right;\">\n",
       "      <th></th>\n",
       "      <th>ID_PACIENTE</th>\n",
       "      <th>DT_COLETA</th>\n",
       "      <th>DE_ORIGEM</th>\n",
       "      <th>DE_EXAME</th>\n",
       "      <th>DE_ANALITO</th>\n",
       "      <th>DE_RESULTADO</th>\n",
       "      <th>CD_UNIDADE</th>\n",
       "      <th>DE_VALOR_REFERENCIA</th>\n",
       "    </tr>\n",
       "  </thead>\n",
       "  <tbody>\n",
       "    <tr>\n",
       "      <th>1417</th>\n",
       "      <td>0022EB7AEA16787058664AE513C81C64</td>\n",
       "      <td>11/05/2020</td>\n",
       "      <td>LAB</td>\n",
       "      <td>COVID19, ANTICORPOS IgG, soro</td>\n",
       "      <td>Covid 19, Anticorpos IgG, Elisa - Índice</td>\n",
       "      <td>0,31</td>\n",
       "      <td>NaN</td>\n",
       "      <td>inferior a 0,80</td>\n",
       "    </tr>\n",
       "    <tr>\n",
       "      <th>1418</th>\n",
       "      <td>0022EB7AEA16787058664AE513C81C64</td>\n",
       "      <td>11/05/2020</td>\n",
       "      <td>LAB</td>\n",
       "      <td>COVID19, ANTICORPOS IgG, soro</td>\n",
       "      <td>Covid 19, Anticorpos IgG, Elisa</td>\n",
       "      <td>NÃO REAGENTE</td>\n",
       "      <td>NaN</td>\n",
       "      <td>Não reagente</td>\n",
       "    </tr>\n",
       "    <tr>\n",
       "      <th>3342</th>\n",
       "      <td>00580F44A90B9EA70A2D629821660AB0</td>\n",
       "      <td>30/04/2020</td>\n",
       "      <td>LAB</td>\n",
       "      <td>COVID19, ANTICORPOS IgG, soro</td>\n",
       "      <td>Covid 19, Anticorpos IgG, Elisa - Índice</td>\n",
       "      <td>0,23</td>\n",
       "      <td>NaN</td>\n",
       "      <td>inferior a 0,80</td>\n",
       "    </tr>\n",
       "    <tr>\n",
       "      <th>3343</th>\n",
       "      <td>00580F44A90B9EA70A2D629821660AB0</td>\n",
       "      <td>30/04/2020</td>\n",
       "      <td>LAB</td>\n",
       "      <td>COVID19, ANTICORPOS IgG, soro</td>\n",
       "      <td>Covid 19, Anticorpos IgG, Elisa</td>\n",
       "      <td>NÃO REAGENTE</td>\n",
       "      <td>NaN</td>\n",
       "      <td>Não reagente</td>\n",
       "    </tr>\n",
       "    <tr>\n",
       "      <th>3365</th>\n",
       "      <td>00597A74024C3E3C091753B54697C26C</td>\n",
       "      <td>08/05/2020</td>\n",
       "      <td>LAB</td>\n",
       "      <td>COVID19, ANTICORPOS IgG, soro</td>\n",
       "      <td>Covid 19, Anticorpos IgG, Elisa - Índice</td>\n",
       "      <td>0,31</td>\n",
       "      <td>NaN</td>\n",
       "      <td>inferior a 0,80</td>\n",
       "    </tr>\n",
       "    <tr>\n",
       "      <th>...</th>\n",
       "      <td>...</td>\n",
       "      <td>...</td>\n",
       "      <td>...</td>\n",
       "      <td>...</td>\n",
       "      <td>...</td>\n",
       "      <td>...</td>\n",
       "      <td>...</td>\n",
       "      <td>...</td>\n",
       "    </tr>\n",
       "    <tr>\n",
       "      <th>2490135</th>\n",
       "      <td>FFA9E255E059B3665B77A75240438486</td>\n",
       "      <td>28/04/2020</td>\n",
       "      <td>LAB</td>\n",
       "      <td>COVID19, ANTICORPOS IgG, soro</td>\n",
       "      <td>Covid 19, Anticorpos IgG, Elisa</td>\n",
       "      <td>NÃO REAGENTE</td>\n",
       "      <td>NaN</td>\n",
       "      <td>Não reagente</td>\n",
       "    </tr>\n",
       "    <tr>\n",
       "      <th>2491209</th>\n",
       "      <td>FFC4E71F192F5AEC77DFF9A43089FF21</td>\n",
       "      <td>08/05/2020</td>\n",
       "      <td>LAB</td>\n",
       "      <td>COVID19, ANTICORPOS IgG, soro</td>\n",
       "      <td>Covid 19, Anticorpos IgG, Elisa - Índice</td>\n",
       "      <td>8,48</td>\n",
       "      <td>NaN</td>\n",
       "      <td>inferior a 0,80</td>\n",
       "    </tr>\n",
       "    <tr>\n",
       "      <th>2491210</th>\n",
       "      <td>FFC4E71F192F5AEC77DFF9A43089FF21</td>\n",
       "      <td>08/05/2020</td>\n",
       "      <td>LAB</td>\n",
       "      <td>COVID19, ANTICORPOS IgG, soro</td>\n",
       "      <td>Covid 19, Anticorpos IgG, Elisa</td>\n",
       "      <td>REAGENTE</td>\n",
       "      <td>NaN</td>\n",
       "      <td>Não reagente</td>\n",
       "    </tr>\n",
       "    <tr>\n",
       "      <th>2492384</th>\n",
       "      <td>FFD4549AF74B98D04BD6445A5D938390</td>\n",
       "      <td>06/04/2020</td>\n",
       "      <td>LAB</td>\n",
       "      <td>SARS-COV-2, ANTICORPOS IgG, soro</td>\n",
       "      <td>Covid 19, Anticorpos IgG, Elisa - Índice</td>\n",
       "      <td>0,12</td>\n",
       "      <td>NaN</td>\n",
       "      <td>inferior a 0,80</td>\n",
       "    </tr>\n",
       "    <tr>\n",
       "      <th>2492385</th>\n",
       "      <td>FFD4549AF74B98D04BD6445A5D938390</td>\n",
       "      <td>06/04/2020</td>\n",
       "      <td>LAB</td>\n",
       "      <td>SARS-COV-2, ANTICORPOS IgG, soro</td>\n",
       "      <td>Covid 19, Anticorpos IgG, Elisa</td>\n",
       "      <td>NÃO REAGENTE</td>\n",
       "      <td>NaN</td>\n",
       "      <td>Não reagente</td>\n",
       "    </tr>\n",
       "  </tbody>\n",
       "</table>\n",
       "<p>7898 rows × 8 columns</p>\n",
       "</div>"
      ],
      "text/plain": [
       "                              ID_PACIENTE   DT_COLETA DE_ORIGEM  \\\n",
       "1417     0022EB7AEA16787058664AE513C81C64  11/05/2020       LAB   \n",
       "1418     0022EB7AEA16787058664AE513C81C64  11/05/2020       LAB   \n",
       "3342     00580F44A90B9EA70A2D629821660AB0  30/04/2020       LAB   \n",
       "3343     00580F44A90B9EA70A2D629821660AB0  30/04/2020       LAB   \n",
       "3365     00597A74024C3E3C091753B54697C26C  08/05/2020       LAB   \n",
       "...                                   ...         ...       ...   \n",
       "2490135  FFA9E255E059B3665B77A75240438486  28/04/2020       LAB   \n",
       "2491209  FFC4E71F192F5AEC77DFF9A43089FF21  08/05/2020       LAB   \n",
       "2491210  FFC4E71F192F5AEC77DFF9A43089FF21  08/05/2020       LAB   \n",
       "2492384  FFD4549AF74B98D04BD6445A5D938390  06/04/2020       LAB   \n",
       "2492385  FFD4549AF74B98D04BD6445A5D938390  06/04/2020       LAB   \n",
       "\n",
       "                                 DE_EXAME  \\\n",
       "1417        COVID19, ANTICORPOS IgG, soro   \n",
       "1418        COVID19, ANTICORPOS IgG, soro   \n",
       "3342        COVID19, ANTICORPOS IgG, soro   \n",
       "3343        COVID19, ANTICORPOS IgG, soro   \n",
       "3365        COVID19, ANTICORPOS IgG, soro   \n",
       "...                                   ...   \n",
       "2490135     COVID19, ANTICORPOS IgG, soro   \n",
       "2491209     COVID19, ANTICORPOS IgG, soro   \n",
       "2491210     COVID19, ANTICORPOS IgG, soro   \n",
       "2492384  SARS-COV-2, ANTICORPOS IgG, soro   \n",
       "2492385  SARS-COV-2, ANTICORPOS IgG, soro   \n",
       "\n",
       "                                       DE_ANALITO  DE_RESULTADO CD_UNIDADE  \\\n",
       "1417     Covid 19, Anticorpos IgG, Elisa - Índice          0,31        NaN   \n",
       "1418              Covid 19, Anticorpos IgG, Elisa  NÃO REAGENTE        NaN   \n",
       "3342     Covid 19, Anticorpos IgG, Elisa - Índice          0,23        NaN   \n",
       "3343              Covid 19, Anticorpos IgG, Elisa  NÃO REAGENTE        NaN   \n",
       "3365     Covid 19, Anticorpos IgG, Elisa - Índice          0,31        NaN   \n",
       "...                                           ...           ...        ...   \n",
       "2490135           Covid 19, Anticorpos IgG, Elisa  NÃO REAGENTE        NaN   \n",
       "2491209  Covid 19, Anticorpos IgG, Elisa - Índice          8,48        NaN   \n",
       "2491210           Covid 19, Anticorpos IgG, Elisa      REAGENTE        NaN   \n",
       "2492384  Covid 19, Anticorpos IgG, Elisa - Índice          0,12        NaN   \n",
       "2492385           Covid 19, Anticorpos IgG, Elisa  NÃO REAGENTE        NaN   \n",
       "\n",
       "        DE_VALOR_REFERENCIA  \n",
       "1417        inferior a 0,80  \n",
       "1418           Não reagente  \n",
       "3342        inferior a 0,80  \n",
       "3343           Não reagente  \n",
       "3365        inferior a 0,80  \n",
       "...                     ...  \n",
       "2490135        Não reagente  \n",
       "2491209     inferior a 0,80  \n",
       "2491210        Não reagente  \n",
       "2492384     inferior a 0,80  \n",
       "2492385        Não reagente  \n",
       "\n",
       "[7898 rows x 8 columns]"
      ]
     },
     "execution_count": 174,
     "metadata": {},
     "output_type": "execute_result"
    }
   ],
   "source": [
    "resultados_exames[resultados_exames['DE_ANALITO'].str.contains('Covid 19, Anticorpos IgG, Elisa')]"
   ]
  },
  {
   "cell_type": "code",
   "execution_count": 323,
   "metadata": {},
   "outputs": [],
   "source": [
    "indexNames = resultados_exames[resultados_exames['DE_ANALITO'] == 'Covid 19, Anticorpos IgG, Elisa - Índice'].index\n",
    "resultados_exames.drop(indexNames , inplace=True)"
   ]
  },
  {
   "cell_type": "code",
   "execution_count": 324,
   "metadata": {},
   "outputs": [
    {
     "data": {
      "text/plain": [
       "NÃO REAGENTE     3301\n",
       "REAGENTE          543\n",
       "Indeterminado     105\n",
       "Name: DE_RESULTADO, dtype: int64"
      ]
     },
     "execution_count": 324,
     "metadata": {},
     "output_type": "execute_result"
    }
   ],
   "source": [
    "resultados_exames[resultados_exames['DE_ANALITO'] == 'Covid 19, Anticorpos IgG, Elisa']['DE_RESULTADO'].value_counts()"
   ]
  },
  {
   "cell_type": "code",
   "execution_count": 325,
   "metadata": {},
   "outputs": [],
   "source": [
    "resultados_deletar = ['Indeterminado']\n",
    "index_igg_indeterminado = resultados_exames.loc[resultados_exames['DE_ANALITO'] == 'Covid 19, Anticorpos IgG, Elisa', 'DE_RESULTADO']\n",
    "index_to_delete = index_igg_indeterminado[index_igg_indeterminado.isin(resultados_deletar) == True].index\n",
    "resultados_exames.drop(index_to_delete , inplace=True)"
   ]
  },
  {
   "cell_type": "code",
   "execution_count": 326,
   "metadata": {},
   "outputs": [
    {
     "data": {
      "text/plain": [
       "NÃO REAGENTE    3301\n",
       "REAGENTE         543\n",
       "Name: DE_RESULTADO, dtype: int64"
      ]
     },
     "execution_count": 326,
     "metadata": {},
     "output_type": "execute_result"
    }
   ],
   "source": [
    "resultados_exames[resultados_exames['DE_ANALITO'] == 'Covid 19, Anticorpos IgG, Elisa']['DE_RESULTADO'].value_counts()"
   ]
  },
  {
   "cell_type": "code",
   "execution_count": 327,
   "metadata": {},
   "outputs": [],
   "source": [
    "index_covid_igg = resultados_exames.loc[resultados_exames['DE_ANALITO'] == 'Covid 19, Anticorpos IgG, Elisa', 'DE_RESULTADO']"
   ]
  },
  {
   "cell_type": "code",
   "execution_count": 328,
   "metadata": {},
   "outputs": [],
   "source": [
    "index_covid_igg.replace({'REAGENTE': 1, \\\n",
    "                     'NÃO REAGENTE': 0 }, inplace=True) "
   ]
  },
  {
   "cell_type": "code",
   "execution_count": 329,
   "metadata": {},
   "outputs": [],
   "source": [
    "resultados_exames.loc[index_covid_igg.index, 'DE_RESULTADO'] = index_covid_igg.values"
   ]
  },
  {
   "cell_type": "code",
   "execution_count": 330,
   "metadata": {},
   "outputs": [
    {
     "data": {
      "text/plain": [
       "0    3301\n",
       "1     543\n",
       "Name: DE_RESULTADO, dtype: int64"
      ]
     },
     "execution_count": 330,
     "metadata": {},
     "output_type": "execute_result"
    }
   ],
   "source": [
    "resultados_exames[resultados_exames['DE_ANALITO'] == 'Covid 19, Anticorpos IgG, Elisa']['DE_RESULTADO'].value_counts()"
   ]
  },
  {
   "cell_type": "markdown",
   "metadata": {},
   "source": [
    "- 'SARS-CoV-2, ANTICORPOS IgM E IgG, TESTE RÁPIDO'\t'Covid 19, Antic IgM/IgG, teste rápido-Observ'\n",
    "- 'SARS-CoV-2, ANTICORPOS IgM E IgG, TESTE RÁPIDO'\t'Covid 19, Anticorpos IgG, teste rápido'"
   ]
  },
  {
   "cell_type": "code",
   "execution_count": 183,
   "metadata": {},
   "outputs": [
    {
     "data": {
      "text/html": [
       "<div>\n",
       "<style scoped>\n",
       "    .dataframe tbody tr th:only-of-type {\n",
       "        vertical-align: middle;\n",
       "    }\n",
       "\n",
       "    .dataframe tbody tr th {\n",
       "        vertical-align: top;\n",
       "    }\n",
       "\n",
       "    .dataframe thead th {\n",
       "        text-align: right;\n",
       "    }\n",
       "</style>\n",
       "<table border=\"1\" class=\"dataframe\">\n",
       "  <thead>\n",
       "    <tr style=\"text-align: right;\">\n",
       "      <th></th>\n",
       "      <th>ID_PACIENTE</th>\n",
       "      <th>DT_COLETA</th>\n",
       "      <th>DE_ORIGEM</th>\n",
       "      <th>DE_EXAME</th>\n",
       "      <th>DE_ANALITO</th>\n",
       "      <th>DE_RESULTADO</th>\n",
       "      <th>CD_UNIDADE</th>\n",
       "      <th>DE_VALOR_REFERENCIA</th>\n",
       "    </tr>\n",
       "  </thead>\n",
       "  <tbody>\n",
       "    <tr>\n",
       "      <th>358</th>\n",
       "      <td>0002632EFE862D6479C37F4E21AE33AB</td>\n",
       "      <td>26/05/2020</td>\n",
       "      <td>LAB</td>\n",
       "      <td>SARS-CoV-2, ANTICORPOS IgM E IgG, TESTE RÁPIDO</td>\n",
       "      <td>Covid 19,Antic IgM/IgG,teste rápido-Interpret</td>\n",
       "      <td>Sem evidência sorológica de infecção por SARS-...</td>\n",
       "      <td>NaN</td>\n",
       "      <td>NaN</td>\n",
       "    </tr>\n",
       "    <tr>\n",
       "      <th>359</th>\n",
       "      <td>0002632EFE862D6479C37F4E21AE33AB</td>\n",
       "      <td>26/05/2020</td>\n",
       "      <td>LAB</td>\n",
       "      <td>SARS-CoV-2, ANTICORPOS IgM E IgG, TESTE RÁPIDO</td>\n",
       "      <td>Covid 19, Antic IgM/IgG, teste rápido-Observ</td>\n",
       "      <td>A dinâmica de produção de anticorpos na COVID-...</td>\n",
       "      <td>NaN</td>\n",
       "      <td>NaN</td>\n",
       "    </tr>\n",
       "    <tr>\n",
       "      <th>360</th>\n",
       "      <td>0002632EFE862D6479C37F4E21AE33AB</td>\n",
       "      <td>26/05/2020</td>\n",
       "      <td>LAB</td>\n",
       "      <td>SARS-CoV-2, ANTICORPOS IgM E IgG, TESTE RÁPIDO</td>\n",
       "      <td>Covid 19, Anticorpos IgG, teste rápido</td>\n",
       "      <td>NÃO REAGENTE</td>\n",
       "      <td>NaN</td>\n",
       "      <td>Não reagente</td>\n",
       "    </tr>\n",
       "    <tr>\n",
       "      <th>361</th>\n",
       "      <td>0002632EFE862D6479C37F4E21AE33AB</td>\n",
       "      <td>26/05/2020</td>\n",
       "      <td>LAB</td>\n",
       "      <td>SARS-CoV-2, ANTICORPOS IgM E IgG, TESTE RÁPIDO</td>\n",
       "      <td>Covid 19, Anticorpos IgM, teste rápido</td>\n",
       "      <td>NÃO REAGENTE</td>\n",
       "      <td>NaN</td>\n",
       "      <td>Não reagente</td>\n",
       "    </tr>\n",
       "    <tr>\n",
       "      <th>1210</th>\n",
       "      <td>001A0DF9C9CD2364E82BD7EFFB986DAE</td>\n",
       "      <td>27/05/2020</td>\n",
       "      <td>LAB</td>\n",
       "      <td>SARS-CoV-2, ANTICORPOS IgM E IgG, TESTE RÁPIDO</td>\n",
       "      <td>Covid 19,Antic IgM/IgG,teste rápido-Interpret</td>\n",
       "      <td>Sem evidência sorológica de infecção por SARS-...</td>\n",
       "      <td>NaN</td>\n",
       "      <td>NaN</td>\n",
       "    </tr>\n",
       "    <tr>\n",
       "      <th>...</th>\n",
       "      <td>...</td>\n",
       "      <td>...</td>\n",
       "      <td>...</td>\n",
       "      <td>...</td>\n",
       "      <td>...</td>\n",
       "      <td>...</td>\n",
       "      <td>...</td>\n",
       "      <td>...</td>\n",
       "    </tr>\n",
       "    <tr>\n",
       "      <th>2493600</th>\n",
       "      <td>FFF1A8DAF4556625DAE23B0A06F02037</td>\n",
       "      <td>25/05/2020</td>\n",
       "      <td>LAB</td>\n",
       "      <td>SARS-CoV-2, ANTICORPOS IgM E IgG, TESTE RÁPIDO</td>\n",
       "      <td>Covid 19, Anticorpos IgM, teste rápido</td>\n",
       "      <td>NÃO REAGENTE</td>\n",
       "      <td>NaN</td>\n",
       "      <td>Não reagente</td>\n",
       "    </tr>\n",
       "    <tr>\n",
       "      <th>2494006</th>\n",
       "      <td>FFF9A90B9075869736C88DD5548C2C47</td>\n",
       "      <td>09/06/2020</td>\n",
       "      <td>LAB</td>\n",
       "      <td>SARS-CoV-2, ANTICORPOS IgM E IgG, TESTE RÁPIDO</td>\n",
       "      <td>Covid 19,Antic IgM/IgG,teste rápido-Interpret</td>\n",
       "      <td>Evidência sorológica de infecção pregressa por...</td>\n",
       "      <td>NaN</td>\n",
       "      <td>NaN</td>\n",
       "    </tr>\n",
       "    <tr>\n",
       "      <th>2494007</th>\n",
       "      <td>FFF9A90B9075869736C88DD5548C2C47</td>\n",
       "      <td>09/06/2020</td>\n",
       "      <td>LAB</td>\n",
       "      <td>SARS-CoV-2, ANTICORPOS IgM E IgG, TESTE RÁPIDO</td>\n",
       "      <td>Covid 19, Antic IgM/IgG, teste rápido-Observ</td>\n",
       "      <td>A dinâmica de produção de anticorpos na COVID-...</td>\n",
       "      <td>NaN</td>\n",
       "      <td>NaN</td>\n",
       "    </tr>\n",
       "    <tr>\n",
       "      <th>2494008</th>\n",
       "      <td>FFF9A90B9075869736C88DD5548C2C47</td>\n",
       "      <td>09/06/2020</td>\n",
       "      <td>LAB</td>\n",
       "      <td>SARS-CoV-2, ANTICORPOS IgM E IgG, TESTE RÁPIDO</td>\n",
       "      <td>Covid 19, Anticorpos IgG, teste rápido</td>\n",
       "      <td>REAGENTE</td>\n",
       "      <td>NaN</td>\n",
       "      <td>Não reagente</td>\n",
       "    </tr>\n",
       "    <tr>\n",
       "      <th>2494009</th>\n",
       "      <td>FFF9A90B9075869736C88DD5548C2C47</td>\n",
       "      <td>09/06/2020</td>\n",
       "      <td>LAB</td>\n",
       "      <td>SARS-CoV-2, ANTICORPOS IgM E IgG, TESTE RÁPIDO</td>\n",
       "      <td>Covid 19, Anticorpos IgM, teste rápido</td>\n",
       "      <td>NÃO REAGENTE</td>\n",
       "      <td>NaN</td>\n",
       "      <td>Não reagente</td>\n",
       "    </tr>\n",
       "  </tbody>\n",
       "</table>\n",
       "<p>12096 rows × 8 columns</p>\n",
       "</div>"
      ],
      "text/plain": [
       "                              ID_PACIENTE   DT_COLETA DE_ORIGEM  \\\n",
       "358      0002632EFE862D6479C37F4E21AE33AB  26/05/2020       LAB   \n",
       "359      0002632EFE862D6479C37F4E21AE33AB  26/05/2020       LAB   \n",
       "360      0002632EFE862D6479C37F4E21AE33AB  26/05/2020       LAB   \n",
       "361      0002632EFE862D6479C37F4E21AE33AB  26/05/2020       LAB   \n",
       "1210     001A0DF9C9CD2364E82BD7EFFB986DAE  27/05/2020       LAB   \n",
       "...                                   ...         ...       ...   \n",
       "2493600  FFF1A8DAF4556625DAE23B0A06F02037  25/05/2020       LAB   \n",
       "2494006  FFF9A90B9075869736C88DD5548C2C47  09/06/2020       LAB   \n",
       "2494007  FFF9A90B9075869736C88DD5548C2C47  09/06/2020       LAB   \n",
       "2494008  FFF9A90B9075869736C88DD5548C2C47  09/06/2020       LAB   \n",
       "2494009  FFF9A90B9075869736C88DD5548C2C47  09/06/2020       LAB   \n",
       "\n",
       "                                               DE_EXAME  \\\n",
       "358      SARS-CoV-2, ANTICORPOS IgM E IgG, TESTE RÁPIDO   \n",
       "359      SARS-CoV-2, ANTICORPOS IgM E IgG, TESTE RÁPIDO   \n",
       "360      SARS-CoV-2, ANTICORPOS IgM E IgG, TESTE RÁPIDO   \n",
       "361      SARS-CoV-2, ANTICORPOS IgM E IgG, TESTE RÁPIDO   \n",
       "1210     SARS-CoV-2, ANTICORPOS IgM E IgG, TESTE RÁPIDO   \n",
       "...                                                 ...   \n",
       "2493600  SARS-CoV-2, ANTICORPOS IgM E IgG, TESTE RÁPIDO   \n",
       "2494006  SARS-CoV-2, ANTICORPOS IgM E IgG, TESTE RÁPIDO   \n",
       "2494007  SARS-CoV-2, ANTICORPOS IgM E IgG, TESTE RÁPIDO   \n",
       "2494008  SARS-CoV-2, ANTICORPOS IgM E IgG, TESTE RÁPIDO   \n",
       "2494009  SARS-CoV-2, ANTICORPOS IgM E IgG, TESTE RÁPIDO   \n",
       "\n",
       "                                            DE_ANALITO  \\\n",
       "358      Covid 19,Antic IgM/IgG,teste rápido-Interpret   \n",
       "359       Covid 19, Antic IgM/IgG, teste rápido-Observ   \n",
       "360             Covid 19, Anticorpos IgG, teste rápido   \n",
       "361             Covid 19, Anticorpos IgM, teste rápido   \n",
       "1210     Covid 19,Antic IgM/IgG,teste rápido-Interpret   \n",
       "...                                                ...   \n",
       "2493600         Covid 19, Anticorpos IgM, teste rápido   \n",
       "2494006  Covid 19,Antic IgM/IgG,teste rápido-Interpret   \n",
       "2494007   Covid 19, Antic IgM/IgG, teste rápido-Observ   \n",
       "2494008         Covid 19, Anticorpos IgG, teste rápido   \n",
       "2494009         Covid 19, Anticorpos IgM, teste rápido   \n",
       "\n",
       "                                              DE_RESULTADO CD_UNIDADE  \\\n",
       "358      Sem evidência sorológica de infecção por SARS-...        NaN   \n",
       "359      A dinâmica de produção de anticorpos na COVID-...        NaN   \n",
       "360                                           NÃO REAGENTE        NaN   \n",
       "361                                           NÃO REAGENTE        NaN   \n",
       "1210     Sem evidência sorológica de infecção por SARS-...        NaN   \n",
       "...                                                    ...        ...   \n",
       "2493600                                       NÃO REAGENTE        NaN   \n",
       "2494006  Evidência sorológica de infecção pregressa por...        NaN   \n",
       "2494007  A dinâmica de produção de anticorpos na COVID-...        NaN   \n",
       "2494008                                           REAGENTE        NaN   \n",
       "2494009                                       NÃO REAGENTE        NaN   \n",
       "\n",
       "        DE_VALOR_REFERENCIA  \n",
       "358                     NaN  \n",
       "359                     NaN  \n",
       "360            Não reagente  \n",
       "361            Não reagente  \n",
       "1210                    NaN  \n",
       "...                     ...  \n",
       "2493600        Não reagente  \n",
       "2494006                 NaN  \n",
       "2494007                 NaN  \n",
       "2494008        Não reagente  \n",
       "2494009        Não reagente  \n",
       "\n",
       "[12096 rows x 8 columns]"
      ]
     },
     "execution_count": 183,
     "metadata": {},
     "output_type": "execute_result"
    }
   ],
   "source": [
    "resultados_exames[resultados_exames['DE_EXAME'].str.contains('SARS-CoV-2, ANTICORPOS IgM E IgG, TESTE RÁPIDO')]"
   ]
  },
  {
   "cell_type": "markdown",
   "metadata": {},
   "source": [
    "Encontramos 4 subexames (DE_ANALITO) principais, por paciente onde para o DE_EXAME:\n",
    "- Covid 19,Antic IgM/IgG,teste rápido-Interpret\n",
    "- Covid 19, Antic IgM/IgG, teste rápido-Observ\n",
    "- Covid 19, Anticorpos IgG, teste rápido\n",
    "- Covid 19, Anticorpos IgM, teste rápido\n",
    "\n",
    "Deletamos os dois primeiros subexames que são a observação e interpretação, a conclusão sobre os anticorpos ficam em os últmos dois subexames, por tanto, mantemos as duas últimas:"
   ]
  },
  {
   "cell_type": "code",
   "execution_count": 331,
   "metadata": {},
   "outputs": [],
   "source": [
    "resultados_deletar = ['Covid 19,Antic IgM/IgG,teste rápido-Interpret', 'Covid 19, Antic IgM/IgG, teste rápido-Observ']\n",
    "indexNames = resultados_exames[resultados_exames['DE_ANALITO'].isin(resultados_deletar)].index\n",
    "resultados_exames.drop(indexNames , inplace=True)"
   ]
  },
  {
   "cell_type": "code",
   "execution_count": 332,
   "metadata": {},
   "outputs": [
    {
     "data": {
      "text/plain": [
       "NÃO REAGENTE    2853\n",
       "REAGENTE         183\n",
       "Name: DE_RESULTADO, dtype: int64"
      ]
     },
     "execution_count": 332,
     "metadata": {},
     "output_type": "execute_result"
    }
   ],
   "source": [
    "resultados_exames[resultados_exames['DE_ANALITO'] == 'Covid 19, Anticorpos IgG, teste rápido']['DE_RESULTADO'].value_counts()"
   ]
  },
  {
   "cell_type": "code",
   "execution_count": 333,
   "metadata": {},
   "outputs": [
    {
     "data": {
      "text/plain": [
       "0    2853\n",
       "1     183\n",
       "Name: DE_RESULTADO, dtype: int64"
      ]
     },
     "execution_count": 333,
     "metadata": {},
     "output_type": "execute_result"
    }
   ],
   "source": [
    "index_covid_igg = resultados_exames.loc[resultados_exames['DE_ANALITO'] == 'Covid 19, Anticorpos IgG, teste rápido', 'DE_RESULTADO']\n",
    "index_covid_igg.replace({'REAGENTE': 1, \\\n",
    "                     'NÃO REAGENTE': 0 }, inplace=True) \n",
    "resultados_exames.loc[index_covid_igg.index, 'DE_RESULTADO'] = index_covid_igg.values\n",
    "resultados_exames[resultados_exames['DE_ANALITO'] == 'Covid 19, Anticorpos IgG, teste rápido']['DE_RESULTADO'].value_counts()"
   ]
  },
  {
   "cell_type": "markdown",
   "metadata": {},
   "source": []
  },
  {
   "cell_type": "markdown",
   "metadata": {},
   "source": [
    "- 'SARS-COV-2, ANTICORPOS IgG, soro'\t'Covid 19, Anticorpos IgG, Elisa - Índice'\n",
    "- 'SARS-COV-2, ANTICORPOS IgG, soro'\t'Covid 19, Anticorpos IgG, Elisa'"
   ]
  },
  {
   "cell_type": "code",
   "execution_count": 334,
   "metadata": {},
   "outputs": [
    {
     "data": {
      "text/html": [
       "<div>\n",
       "<style scoped>\n",
       "    .dataframe tbody tr th:only-of-type {\n",
       "        vertical-align: middle;\n",
       "    }\n",
       "\n",
       "    .dataframe tbody tr th {\n",
       "        vertical-align: top;\n",
       "    }\n",
       "\n",
       "    .dataframe thead th {\n",
       "        text-align: right;\n",
       "    }\n",
       "</style>\n",
       "<table border=\"1\" class=\"dataframe\">\n",
       "  <thead>\n",
       "    <tr style=\"text-align: right;\">\n",
       "      <th></th>\n",
       "      <th>ID_PACIENTE</th>\n",
       "      <th>DT_COLETA</th>\n",
       "      <th>DE_ORIGEM</th>\n",
       "      <th>DE_EXAME</th>\n",
       "      <th>DE_ANALITO</th>\n",
       "      <th>DE_RESULTADO</th>\n",
       "      <th>CD_UNIDADE</th>\n",
       "      <th>DE_VALOR_REFERENCIA</th>\n",
       "    </tr>\n",
       "  </thead>\n",
       "  <tbody>\n",
       "    <tr>\n",
       "      <th>4617</th>\n",
       "      <td>006C31B2A7125A71EBADD880BBE62364</td>\n",
       "      <td>30/04/2020</td>\n",
       "      <td>LAB</td>\n",
       "      <td>SARS-COV-2, ANTICORPOS IgG, soro</td>\n",
       "      <td>Covid 19, Anticorpos IgG, Elisa</td>\n",
       "      <td>0</td>\n",
       "      <td>NaN</td>\n",
       "      <td>Não reagente</td>\n",
       "    </tr>\n",
       "    <tr>\n",
       "      <th>21728</th>\n",
       "      <td>0233869ECE16722480922E0A490160D5</td>\n",
       "      <td>01/05/2020</td>\n",
       "      <td>LAB</td>\n",
       "      <td>SARS-COV-2, ANTICORPOS IgG, soro</td>\n",
       "      <td>Covid 19, Anticorpos IgG, Elisa</td>\n",
       "      <td>0</td>\n",
       "      <td>NaN</td>\n",
       "      <td>Não reagente</td>\n",
       "    </tr>\n",
       "    <tr>\n",
       "      <th>26455</th>\n",
       "      <td>029533878A1869C608308001D72093AF</td>\n",
       "      <td>08/04/2020</td>\n",
       "      <td>LAB</td>\n",
       "      <td>SARS-COV-2, ANTICORPOS IgG, soro</td>\n",
       "      <td>Covid 19, Antic IgA/IgG, Elisa-Interpretação</td>\n",
       "      <td>Sem evidência sorológica de infecção por SARS-...</td>\n",
       "      <td>NaN</td>\n",
       "      <td>NaN</td>\n",
       "    </tr>\n",
       "    <tr>\n",
       "      <th>26456</th>\n",
       "      <td>029533878A1869C608308001D72093AF</td>\n",
       "      <td>08/04/2020</td>\n",
       "      <td>LAB</td>\n",
       "      <td>SARS-COV-2, ANTICORPOS IgG, soro</td>\n",
       "      <td>Covid 19, Antic IgA/IgG, Elisa - observação</td>\n",
       "      <td>Se persistir a hipótese diagnóstica, sugere-se...</td>\n",
       "      <td>NaN</td>\n",
       "      <td>NaN</td>\n",
       "    </tr>\n",
       "    <tr>\n",
       "      <th>26457</th>\n",
       "      <td>029533878A1869C608308001D72093AF</td>\n",
       "      <td>08/04/2020</td>\n",
       "      <td>LAB</td>\n",
       "      <td>SARS-COV-2, ANTICORPOS IgG, soro</td>\n",
       "      <td>Covid 19, Anticorpos IgA, Elisa - Índice</td>\n",
       "      <td>0,16</td>\n",
       "      <td>NaN</td>\n",
       "      <td>inferior a 0,80</td>\n",
       "    </tr>\n",
       "    <tr>\n",
       "      <th>...</th>\n",
       "      <td>...</td>\n",
       "      <td>...</td>\n",
       "      <td>...</td>\n",
       "      <td>...</td>\n",
       "      <td>...</td>\n",
       "      <td>...</td>\n",
       "      <td>...</td>\n",
       "      <td>...</td>\n",
       "    </tr>\n",
       "    <tr>\n",
       "      <th>2492380</th>\n",
       "      <td>FFD4549AF74B98D04BD6445A5D938390</td>\n",
       "      <td>06/04/2020</td>\n",
       "      <td>LAB</td>\n",
       "      <td>SARS-COV-2, ANTICORPOS IgG, soro</td>\n",
       "      <td>Covid 19, Antic IgA/IgG, Elisa-Interpretação</td>\n",
       "      <td>Sem evidência sorológica de infecção por SARS-...</td>\n",
       "      <td>NaN</td>\n",
       "      <td>NaN</td>\n",
       "    </tr>\n",
       "    <tr>\n",
       "      <th>2492381</th>\n",
       "      <td>FFD4549AF74B98D04BD6445A5D938390</td>\n",
       "      <td>06/04/2020</td>\n",
       "      <td>LAB</td>\n",
       "      <td>SARS-COV-2, ANTICORPOS IgG, soro</td>\n",
       "      <td>Covid 19, Antic IgA/IgG, Elisa - observação</td>\n",
       "      <td>Se persistir a hipótese diagnóstica, sugere-se...</td>\n",
       "      <td>NaN</td>\n",
       "      <td>NaN</td>\n",
       "    </tr>\n",
       "    <tr>\n",
       "      <th>2492382</th>\n",
       "      <td>FFD4549AF74B98D04BD6445A5D938390</td>\n",
       "      <td>06/04/2020</td>\n",
       "      <td>LAB</td>\n",
       "      <td>SARS-COV-2, ANTICORPOS IgG, soro</td>\n",
       "      <td>Covid 19, Anticorpos IgA, Elisa - Índice</td>\n",
       "      <td>0,38</td>\n",
       "      <td>NaN</td>\n",
       "      <td>inferior a 0,80</td>\n",
       "    </tr>\n",
       "    <tr>\n",
       "      <th>2492383</th>\n",
       "      <td>FFD4549AF74B98D04BD6445A5D938390</td>\n",
       "      <td>06/04/2020</td>\n",
       "      <td>LAB</td>\n",
       "      <td>SARS-COV-2, ANTICORPOS IgG, soro</td>\n",
       "      <td>Covid 19, Anticorpos IgA, Elisa</td>\n",
       "      <td>NÃO REAGENTE</td>\n",
       "      <td>NaN</td>\n",
       "      <td>Não reagente</td>\n",
       "    </tr>\n",
       "    <tr>\n",
       "      <th>2492385</th>\n",
       "      <td>FFD4549AF74B98D04BD6445A5D938390</td>\n",
       "      <td>06/04/2020</td>\n",
       "      <td>LAB</td>\n",
       "      <td>SARS-COV-2, ANTICORPOS IgG, soro</td>\n",
       "      <td>Covid 19, Anticorpos IgG, Elisa</td>\n",
       "      <td>0</td>\n",
       "      <td>NaN</td>\n",
       "      <td>Não reagente</td>\n",
       "    </tr>\n",
       "  </tbody>\n",
       "</table>\n",
       "<p>1296 rows × 8 columns</p>\n",
       "</div>"
      ],
      "text/plain": [
       "                              ID_PACIENTE   DT_COLETA DE_ORIGEM  \\\n",
       "4617     006C31B2A7125A71EBADD880BBE62364  30/04/2020       LAB   \n",
       "21728    0233869ECE16722480922E0A490160D5  01/05/2020       LAB   \n",
       "26455    029533878A1869C608308001D72093AF  08/04/2020       LAB   \n",
       "26456    029533878A1869C608308001D72093AF  08/04/2020       LAB   \n",
       "26457    029533878A1869C608308001D72093AF  08/04/2020       LAB   \n",
       "...                                   ...         ...       ...   \n",
       "2492380  FFD4549AF74B98D04BD6445A5D938390  06/04/2020       LAB   \n",
       "2492381  FFD4549AF74B98D04BD6445A5D938390  06/04/2020       LAB   \n",
       "2492382  FFD4549AF74B98D04BD6445A5D938390  06/04/2020       LAB   \n",
       "2492383  FFD4549AF74B98D04BD6445A5D938390  06/04/2020       LAB   \n",
       "2492385  FFD4549AF74B98D04BD6445A5D938390  06/04/2020       LAB   \n",
       "\n",
       "                                 DE_EXAME  \\\n",
       "4617     SARS-COV-2, ANTICORPOS IgG, soro   \n",
       "21728    SARS-COV-2, ANTICORPOS IgG, soro   \n",
       "26455    SARS-COV-2, ANTICORPOS IgG, soro   \n",
       "26456    SARS-COV-2, ANTICORPOS IgG, soro   \n",
       "26457    SARS-COV-2, ANTICORPOS IgG, soro   \n",
       "...                                   ...   \n",
       "2492380  SARS-COV-2, ANTICORPOS IgG, soro   \n",
       "2492381  SARS-COV-2, ANTICORPOS IgG, soro   \n",
       "2492382  SARS-COV-2, ANTICORPOS IgG, soro   \n",
       "2492383  SARS-COV-2, ANTICORPOS IgG, soro   \n",
       "2492385  SARS-COV-2, ANTICORPOS IgG, soro   \n",
       "\n",
       "                                           DE_ANALITO  \\\n",
       "4617                  Covid 19, Anticorpos IgG, Elisa   \n",
       "21728                 Covid 19, Anticorpos IgG, Elisa   \n",
       "26455    Covid 19, Antic IgA/IgG, Elisa-Interpretação   \n",
       "26456     Covid 19, Antic IgA/IgG, Elisa - observação   \n",
       "26457        Covid 19, Anticorpos IgA, Elisa - Índice   \n",
       "...                                               ...   \n",
       "2492380  Covid 19, Antic IgA/IgG, Elisa-Interpretação   \n",
       "2492381   Covid 19, Antic IgA/IgG, Elisa - observação   \n",
       "2492382      Covid 19, Anticorpos IgA, Elisa - Índice   \n",
       "2492383               Covid 19, Anticorpos IgA, Elisa   \n",
       "2492385               Covid 19, Anticorpos IgG, Elisa   \n",
       "\n",
       "                                              DE_RESULTADO CD_UNIDADE  \\\n",
       "4617                                                     0        NaN   \n",
       "21728                                                    0        NaN   \n",
       "26455    Sem evidência sorológica de infecção por SARS-...        NaN   \n",
       "26456    Se persistir a hipótese diagnóstica, sugere-se...        NaN   \n",
       "26457                                                 0,16        NaN   \n",
       "...                                                    ...        ...   \n",
       "2492380  Sem evidência sorológica de infecção por SARS-...        NaN   \n",
       "2492381  Se persistir a hipótese diagnóstica, sugere-se...        NaN   \n",
       "2492382                                               0,38        NaN   \n",
       "2492383                                       NÃO REAGENTE        NaN   \n",
       "2492385                                                  0        NaN   \n",
       "\n",
       "        DE_VALOR_REFERENCIA  \n",
       "4617           Não reagente  \n",
       "21728          Não reagente  \n",
       "26455                   NaN  \n",
       "26456                   NaN  \n",
       "26457       inferior a 0,80  \n",
       "...                     ...  \n",
       "2492380                 NaN  \n",
       "2492381                 NaN  \n",
       "2492382     inferior a 0,80  \n",
       "2492383        Não reagente  \n",
       "2492385        Não reagente  \n",
       "\n",
       "[1296 rows x 8 columns]"
      ]
     },
     "execution_count": 334,
     "metadata": {},
     "output_type": "execute_result"
    }
   ],
   "source": [
    "resultados_exames[resultados_exames['DE_EXAME'].str.contains('SARS-COV-2, ANTICORPOS IgG, soro')]"
   ]
  },
  {
   "cell_type": "code",
   "execution_count": 335,
   "metadata": {},
   "outputs": [],
   "source": [
    "resultados_deletar = ['Covid 19, Antic IgA/IgG, Elisa-Interpretação', 'Covid 19, Antic IgA/IgG, Elisa - observação']\n",
    "indexNames = resultados_exames[resultados_exames['DE_ANALITO'].isin(resultados_deletar)].index\n",
    "resultados_exames.drop(indexNames , inplace=True)"
   ]
  },
  {
   "cell_type": "code",
   "execution_count": 336,
   "metadata": {},
   "outputs": [],
   "source": [
    "resultados_deletar = ['Covid 19, Anticorpos IgA, Elisa - Índice']\n",
    "indexNames = resultados_exames[resultados_exames['DE_ANALITO'].isin(resultados_deletar)].index\n",
    "resultados_exames.drop(indexNames , inplace=True)"
   ]
  },
  {
   "cell_type": "code",
   "execution_count": 193,
   "metadata": {},
   "outputs": [
    {
     "data": {
      "text/html": [
       "<div>\n",
       "<style scoped>\n",
       "    .dataframe tbody tr th:only-of-type {\n",
       "        vertical-align: middle;\n",
       "    }\n",
       "\n",
       "    .dataframe tbody tr th {\n",
       "        vertical-align: top;\n",
       "    }\n",
       "\n",
       "    .dataframe thead th {\n",
       "        text-align: right;\n",
       "    }\n",
       "</style>\n",
       "<table border=\"1\" class=\"dataframe\">\n",
       "  <thead>\n",
       "    <tr style=\"text-align: right;\">\n",
       "      <th></th>\n",
       "      <th>ID_PACIENTE</th>\n",
       "      <th>DT_COLETA</th>\n",
       "      <th>DE_ORIGEM</th>\n",
       "      <th>DE_EXAME</th>\n",
       "      <th>DE_ANALITO</th>\n",
       "      <th>DE_RESULTADO</th>\n",
       "      <th>CD_UNIDADE</th>\n",
       "      <th>DE_VALOR_REFERENCIA</th>\n",
       "    </tr>\n",
       "  </thead>\n",
       "  <tbody>\n",
       "    <tr>\n",
       "      <th>4617</th>\n",
       "      <td>006C31B2A7125A71EBADD880BBE62364</td>\n",
       "      <td>30/04/2020</td>\n",
       "      <td>LAB</td>\n",
       "      <td>SARS-COV-2, ANTICORPOS IgG, soro</td>\n",
       "      <td>Covid 19, Anticorpos IgG, Elisa</td>\n",
       "      <td>0</td>\n",
       "      <td>NaN</td>\n",
       "      <td>Não reagente</td>\n",
       "    </tr>\n",
       "    <tr>\n",
       "      <th>21728</th>\n",
       "      <td>0233869ECE16722480922E0A490160D5</td>\n",
       "      <td>01/05/2020</td>\n",
       "      <td>LAB</td>\n",
       "      <td>SARS-COV-2, ANTICORPOS IgG, soro</td>\n",
       "      <td>Covid 19, Anticorpos IgG, Elisa</td>\n",
       "      <td>0</td>\n",
       "      <td>NaN</td>\n",
       "      <td>Não reagente</td>\n",
       "    </tr>\n",
       "    <tr>\n",
       "      <th>26458</th>\n",
       "      <td>029533878A1869C608308001D72093AF</td>\n",
       "      <td>08/04/2020</td>\n",
       "      <td>LAB</td>\n",
       "      <td>SARS-COV-2, ANTICORPOS IgG, soro</td>\n",
       "      <td>Covid 19, Anticorpos IgA, Elisa</td>\n",
       "      <td>NÃO REAGENTE</td>\n",
       "      <td>NaN</td>\n",
       "      <td>Não reagente</td>\n",
       "    </tr>\n",
       "    <tr>\n",
       "      <th>26460</th>\n",
       "      <td>029533878A1869C608308001D72093AF</td>\n",
       "      <td>08/04/2020</td>\n",
       "      <td>LAB</td>\n",
       "      <td>SARS-COV-2, ANTICORPOS IgG, soro</td>\n",
       "      <td>Covid 19, Anticorpos IgG, Elisa</td>\n",
       "      <td>0</td>\n",
       "      <td>NaN</td>\n",
       "      <td>Não reagente</td>\n",
       "    </tr>\n",
       "    <tr>\n",
       "      <th>35891</th>\n",
       "      <td>0398DADDFED16167749B90FAB9D1D2F8</td>\n",
       "      <td>08/04/2020</td>\n",
       "      <td>LAB</td>\n",
       "      <td>SARS-COV-2, ANTICORPOS IgG, soro</td>\n",
       "      <td>Covid 19, Anticorpos IgA, Elisa</td>\n",
       "      <td>NÃO REAGENTE</td>\n",
       "      <td>NaN</td>\n",
       "      <td>Não reagente</td>\n",
       "    </tr>\n",
       "    <tr>\n",
       "      <th>...</th>\n",
       "      <td>...</td>\n",
       "      <td>...</td>\n",
       "      <td>...</td>\n",
       "      <td>...</td>\n",
       "      <td>...</td>\n",
       "      <td>...</td>\n",
       "      <td>...</td>\n",
       "      <td>...</td>\n",
       "    </tr>\n",
       "    <tr>\n",
       "      <th>2485015</th>\n",
       "      <td>FF3099DD9E18B7C516CC44D0C387058D</td>\n",
       "      <td>28/04/2020</td>\n",
       "      <td>LAB</td>\n",
       "      <td>SARS-COV-2, ANTICORPOS IgG, soro</td>\n",
       "      <td>Covid 19, Anticorpos IgG, Elisa</td>\n",
       "      <td>0</td>\n",
       "      <td>NaN</td>\n",
       "      <td>Não reagente</td>\n",
       "    </tr>\n",
       "    <tr>\n",
       "      <th>2486130</th>\n",
       "      <td>FF51D43C0EEFA57DCEA8D1B858C47ACE</td>\n",
       "      <td>01/05/2020</td>\n",
       "      <td>LAB</td>\n",
       "      <td>SARS-COV-2, ANTICORPOS IgG, soro</td>\n",
       "      <td>Covid 19, Anticorpos IgG, Elisa</td>\n",
       "      <td>0</td>\n",
       "      <td>NaN</td>\n",
       "      <td>Não reagente</td>\n",
       "    </tr>\n",
       "    <tr>\n",
       "      <th>2489440</th>\n",
       "      <td>FFA1E24BD081DA0E36E9B3B55B7D63A4</td>\n",
       "      <td>29/04/2020</td>\n",
       "      <td>LAB</td>\n",
       "      <td>SARS-COV-2, ANTICORPOS IgG, soro</td>\n",
       "      <td>Covid 19, Anticorpos IgG, Elisa</td>\n",
       "      <td>0</td>\n",
       "      <td>NaN</td>\n",
       "      <td>Não reagente</td>\n",
       "    </tr>\n",
       "    <tr>\n",
       "      <th>2492383</th>\n",
       "      <td>FFD4549AF74B98D04BD6445A5D938390</td>\n",
       "      <td>06/04/2020</td>\n",
       "      <td>LAB</td>\n",
       "      <td>SARS-COV-2, ANTICORPOS IgG, soro</td>\n",
       "      <td>Covid 19, Anticorpos IgA, Elisa</td>\n",
       "      <td>NÃO REAGENTE</td>\n",
       "      <td>NaN</td>\n",
       "      <td>Não reagente</td>\n",
       "    </tr>\n",
       "    <tr>\n",
       "      <th>2492385</th>\n",
       "      <td>FFD4549AF74B98D04BD6445A5D938390</td>\n",
       "      <td>06/04/2020</td>\n",
       "      <td>LAB</td>\n",
       "      <td>SARS-COV-2, ANTICORPOS IgG, soro</td>\n",
       "      <td>Covid 19, Anticorpos IgG, Elisa</td>\n",
       "      <td>0</td>\n",
       "      <td>NaN</td>\n",
       "      <td>Não reagente</td>\n",
       "    </tr>\n",
       "  </tbody>\n",
       "</table>\n",
       "<p>672 rows × 8 columns</p>\n",
       "</div>"
      ],
      "text/plain": [
       "                              ID_PACIENTE   DT_COLETA DE_ORIGEM  \\\n",
       "4617     006C31B2A7125A71EBADD880BBE62364  30/04/2020       LAB   \n",
       "21728    0233869ECE16722480922E0A490160D5  01/05/2020       LAB   \n",
       "26458    029533878A1869C608308001D72093AF  08/04/2020       LAB   \n",
       "26460    029533878A1869C608308001D72093AF  08/04/2020       LAB   \n",
       "35891    0398DADDFED16167749B90FAB9D1D2F8  08/04/2020       LAB   \n",
       "...                                   ...         ...       ...   \n",
       "2485015  FF3099DD9E18B7C516CC44D0C387058D  28/04/2020       LAB   \n",
       "2486130  FF51D43C0EEFA57DCEA8D1B858C47ACE  01/05/2020       LAB   \n",
       "2489440  FFA1E24BD081DA0E36E9B3B55B7D63A4  29/04/2020       LAB   \n",
       "2492383  FFD4549AF74B98D04BD6445A5D938390  06/04/2020       LAB   \n",
       "2492385  FFD4549AF74B98D04BD6445A5D938390  06/04/2020       LAB   \n",
       "\n",
       "                                 DE_EXAME                       DE_ANALITO  \\\n",
       "4617     SARS-COV-2, ANTICORPOS IgG, soro  Covid 19, Anticorpos IgG, Elisa   \n",
       "21728    SARS-COV-2, ANTICORPOS IgG, soro  Covid 19, Anticorpos IgG, Elisa   \n",
       "26458    SARS-COV-2, ANTICORPOS IgG, soro  Covid 19, Anticorpos IgA, Elisa   \n",
       "26460    SARS-COV-2, ANTICORPOS IgG, soro  Covid 19, Anticorpos IgG, Elisa   \n",
       "35891    SARS-COV-2, ANTICORPOS IgG, soro  Covid 19, Anticorpos IgA, Elisa   \n",
       "...                                   ...                              ...   \n",
       "2485015  SARS-COV-2, ANTICORPOS IgG, soro  Covid 19, Anticorpos IgG, Elisa   \n",
       "2486130  SARS-COV-2, ANTICORPOS IgG, soro  Covid 19, Anticorpos IgG, Elisa   \n",
       "2489440  SARS-COV-2, ANTICORPOS IgG, soro  Covid 19, Anticorpos IgG, Elisa   \n",
       "2492383  SARS-COV-2, ANTICORPOS IgG, soro  Covid 19, Anticorpos IgA, Elisa   \n",
       "2492385  SARS-COV-2, ANTICORPOS IgG, soro  Covid 19, Anticorpos IgG, Elisa   \n",
       "\n",
       "         DE_RESULTADO CD_UNIDADE DE_VALOR_REFERENCIA  \n",
       "4617                0        NaN        Não reagente  \n",
       "21728               0        NaN        Não reagente  \n",
       "26458    NÃO REAGENTE        NaN        Não reagente  \n",
       "26460               0        NaN        Não reagente  \n",
       "35891    NÃO REAGENTE        NaN        Não reagente  \n",
       "...               ...        ...                 ...  \n",
       "2485015             0        NaN        Não reagente  \n",
       "2486130             0        NaN        Não reagente  \n",
       "2489440             0        NaN        Não reagente  \n",
       "2492383  NÃO REAGENTE        NaN        Não reagente  \n",
       "2492385             0        NaN        Não reagente  \n",
       "\n",
       "[672 rows x 8 columns]"
      ]
     },
     "execution_count": 193,
     "metadata": {},
     "output_type": "execute_result"
    }
   ],
   "source": [
    "resultados_exames[resultados_exames['DE_EXAME'].str.contains('SARS-COV-2, ANTICORPOS IgG, soro')]"
   ]
  },
  {
   "cell_type": "code",
   "execution_count": 337,
   "metadata": {},
   "outputs": [
    {
     "data": {
      "text/plain": [
       "0    3301\n",
       "1     543\n",
       "Name: DE_RESULTADO, dtype: int64"
      ]
     },
     "execution_count": 337,
     "metadata": {},
     "output_type": "execute_result"
    }
   ],
   "source": [
    "resultados_exames[resultados_exames['DE_ANALITO'].str.contains('Covid 19, Anticorpos IgG, Elisa')]['DE_RESULTADO'].value_counts()"
   ]
  },
  {
   "cell_type": "code",
   "execution_count": null,
   "metadata": {},
   "outputs": [],
   "source": []
  },
  {
   "cell_type": "code",
   "execution_count": 198,
   "metadata": {},
   "outputs": [
    {
     "data": {
      "text/plain": [
       "NÃO REAGENTE     2612\n",
       "REAGENTE          800\n",
       "Indeterminado     282\n",
       "Name: DE_RESULTADO, dtype: int64"
      ]
     },
     "execution_count": 198,
     "metadata": {},
     "output_type": "execute_result"
    }
   ],
   "source": [
    "resultados_exames[resultados_exames['DE_ANALITO'].str.contains('Covid 19, Anticorpos IgA, Elisa')]['DE_RESULTADO'].value_counts()"
   ]
  },
  {
   "cell_type": "code",
   "execution_count": 338,
   "metadata": {},
   "outputs": [],
   "source": [
    "resultados_deletar = ['Indeterminado']\n",
    "index_iga_indeterminado = resultados_exames.loc[resultados_exames['DE_ANALITO'] == 'Covid 19, Anticorpos IgA, Elisa', 'DE_RESULTADO']\n",
    "index_to_delete = index_iga_indeterminado[index_iga_indeterminado.isin(resultados_deletar) == True].index\n",
    "resultados_exames.drop(index_to_delete , inplace=True)"
   ]
  },
  {
   "cell_type": "code",
   "execution_count": 339,
   "metadata": {},
   "outputs": [
    {
     "data": {
      "text/plain": [
       "0    2612\n",
       "1     800\n",
       "Name: DE_RESULTADO, dtype: int64"
      ]
     },
     "execution_count": 339,
     "metadata": {},
     "output_type": "execute_result"
    }
   ],
   "source": [
    "index_covid_iga = resultados_exames.loc[resultados_exames['DE_ANALITO'] == 'Covid 19, Anticorpos IgA, Elisa', 'DE_RESULTADO']\n",
    "index_covid_iga.replace({'REAGENTE': 1, \\\n",
    "                     'NÃO REAGENTE': 0 }, inplace=True) \n",
    "resultados_exames.loc[index_covid_iga.index, 'DE_RESULTADO'] = index_covid_iga.values\n",
    "resultados_exames[resultados_exames['DE_ANALITO'] == 'Covid 19, Anticorpos IgA, Elisa']['DE_RESULTADO'].value_counts()"
   ]
  },
  {
   "cell_type": "markdown",
   "metadata": {},
   "source": [
    "- Rotulos IgG\n",
    "    - 'Covid 19, Anticorpos IgG, Quimioluminescência'\n",
    "    - 'Covid 19, Anticorpos IgG, Elisa'\n",
    "    - 'Covid 19, Anticorpos IgG, teste rápido'"
   ]
  },
  {
   "cell_type": "code",
   "execution_count": null,
   "metadata": {},
   "outputs": [],
   "source": []
  },
  {
   "cell_type": "code",
   "execution_count": null,
   "metadata": {},
   "outputs": [],
   "source": []
  },
  {
   "cell_type": "code",
   "execution_count": null,
   "metadata": {},
   "outputs": [],
   "source": []
  },
  {
   "attachments": {},
   "cell_type": "markdown",
   "metadata": {},
   "source": [
    "### IgM\n",
    "'SARS-CoV-2, ANTICORPOS IgM E IgG, TESTE RÁPIDO'\t'Covid 19, Anticorpos IgM, teste rápido'"
   ]
  },
  {
   "cell_type": "code",
   "execution_count": 187,
   "metadata": {},
   "outputs": [
    {
     "data": {
      "text/plain": [
       "NÃO REAGENTE    2859\n",
       "REAGENTE         177\n",
       "Name: DE_RESULTADO, dtype: int64"
      ]
     },
     "execution_count": 187,
     "metadata": {},
     "output_type": "execute_result"
    }
   ],
   "source": [
    "resultados_exames[resultados_exames['DE_ANALITO'] == 'Covid 19, Anticorpos IgM, teste rápido']['DE_RESULTADO'].value_counts()"
   ]
  },
  {
   "cell_type": "code",
   "execution_count": 340,
   "metadata": {},
   "outputs": [
    {
     "data": {
      "text/plain": [
       "0    2859\n",
       "1     177\n",
       "Name: DE_RESULTADO, dtype: int64"
      ]
     },
     "execution_count": 340,
     "metadata": {},
     "output_type": "execute_result"
    }
   ],
   "source": [
    "index_covid_igm = resultados_exames.loc[resultados_exames['DE_ANALITO'] == 'Covid 19, Anticorpos IgM, teste rápido', 'DE_RESULTADO']\n",
    "index_covid_igm.replace({'REAGENTE': 1, \\\n",
    "                     'NÃO REAGENTE': 0 }, inplace=True) \n",
    "resultados_exames.loc[index_covid_igm.index, 'DE_RESULTADO'] = index_covid_igm.values\n",
    "resultados_exames[resultados_exames['DE_ANALITO'] == 'Covid 19, Anticorpos IgM, teste rápido']['DE_RESULTADO'].value_counts()"
   ]
  },
  {
   "cell_type": "code",
   "execution_count": null,
   "metadata": {},
   "outputs": [],
   "source": [
    "COVID19, ANTICORPOS IgM, soro\tCovid 19, Anticorpos IgM, Quimiolumin.-Índice\n",
    "COVID19, ANTICORPOS IgM, soro\tCovid 19, Anticorpos IgM, Quimioluminescência"
   ]
  },
  {
   "cell_type": "code",
   "execution_count": 203,
   "metadata": {},
   "outputs": [
    {
     "data": {
      "text/html": [
       "<div>\n",
       "<style scoped>\n",
       "    .dataframe tbody tr th:only-of-type {\n",
       "        vertical-align: middle;\n",
       "    }\n",
       "\n",
       "    .dataframe tbody tr th {\n",
       "        vertical-align: top;\n",
       "    }\n",
       "\n",
       "    .dataframe thead th {\n",
       "        text-align: right;\n",
       "    }\n",
       "</style>\n",
       "<table border=\"1\" class=\"dataframe\">\n",
       "  <thead>\n",
       "    <tr style=\"text-align: right;\">\n",
       "      <th></th>\n",
       "      <th>ID_PACIENTE</th>\n",
       "      <th>DT_COLETA</th>\n",
       "      <th>DE_ORIGEM</th>\n",
       "      <th>DE_EXAME</th>\n",
       "      <th>DE_ANALITO</th>\n",
       "      <th>DE_RESULTADO</th>\n",
       "      <th>CD_UNIDADE</th>\n",
       "      <th>DE_VALOR_REFERENCIA</th>\n",
       "    </tr>\n",
       "  </thead>\n",
       "  <tbody>\n",
       "    <tr>\n",
       "      <th>73</th>\n",
       "      <td>00007BB4274722A63A38D415ACCD7705</td>\n",
       "      <td>15/05/2020</td>\n",
       "      <td>LAB</td>\n",
       "      <td>COVID19, ANTICORPOS IgM, soro</td>\n",
       "      <td>Covid 19, Anticorpos IgM, Quimioluminescência</td>\n",
       "      <td>NÃO REAGENTE</td>\n",
       "      <td>NaN</td>\n",
       "      <td>Não reagente</td>\n",
       "    </tr>\n",
       "    <tr>\n",
       "      <th>74</th>\n",
       "      <td>00007BB4274722A63A38D415ACCD7705</td>\n",
       "      <td>15/05/2020</td>\n",
       "      <td>LAB</td>\n",
       "      <td>COVID19, ANTICORPOS IgM, soro</td>\n",
       "      <td>Covid 19, Anticorpos IgM, Quimiolumin.-Índice</td>\n",
       "      <td>0,3</td>\n",
       "      <td>UA/mL</td>\n",
       "      <td>inferior a 0,8</td>\n",
       "    </tr>\n",
       "    <tr>\n",
       "      <th>352</th>\n",
       "      <td>0000A150D4C8B92A4F8D280C6D4656B0</td>\n",
       "      <td>19/05/2020</td>\n",
       "      <td>LAB</td>\n",
       "      <td>COVID19, ANTICORPOS IgM, soro</td>\n",
       "      <td>Covid 19, Anticorpos IgM, Quimioluminescência</td>\n",
       "      <td>REAGENTE</td>\n",
       "      <td>NaN</td>\n",
       "      <td>Não reagente</td>\n",
       "    </tr>\n",
       "    <tr>\n",
       "      <th>353</th>\n",
       "      <td>0000A150D4C8B92A4F8D280C6D4656B0</td>\n",
       "      <td>19/05/2020</td>\n",
       "      <td>LAB</td>\n",
       "      <td>COVID19, ANTICORPOS IgM, soro</td>\n",
       "      <td>Covid 19, Anticorpos IgM, Quimiolumin.-Índice</td>\n",
       "      <td>2,1</td>\n",
       "      <td>UA/mL</td>\n",
       "      <td>inferior a 0,8</td>\n",
       "    </tr>\n",
       "    <tr>\n",
       "      <th>356</th>\n",
       "      <td>000230CE71238C85771268A5B7D807BC</td>\n",
       "      <td>19/05/2020</td>\n",
       "      <td>LAB</td>\n",
       "      <td>COVID19, ANTICORPOS IgM, soro</td>\n",
       "      <td>Covid 19, Anticorpos IgM, Quimioluminescência</td>\n",
       "      <td>REAGENTE</td>\n",
       "      <td>NaN</td>\n",
       "      <td>Não reagente</td>\n",
       "    </tr>\n",
       "    <tr>\n",
       "      <th>...</th>\n",
       "      <td>...</td>\n",
       "      <td>...</td>\n",
       "      <td>...</td>\n",
       "      <td>...</td>\n",
       "      <td>...</td>\n",
       "      <td>...</td>\n",
       "      <td>...</td>\n",
       "      <td>...</td>\n",
       "    </tr>\n",
       "    <tr>\n",
       "      <th>2494598</th>\n",
       "      <td>FFFEDE2AD60338139A0CEB7019D1B687</td>\n",
       "      <td>05/06/2020</td>\n",
       "      <td>LAB</td>\n",
       "      <td>COVID19, ANTICORPOS IgM, soro</td>\n",
       "      <td>Covid 19, Anticorpos IgM, Quimiolumin.-Índice</td>\n",
       "      <td>0,6</td>\n",
       "      <td>UA/mL</td>\n",
       "      <td>inferior a 0,8</td>\n",
       "    </tr>\n",
       "    <tr>\n",
       "      <th>2494603</th>\n",
       "      <td>FFFEF2D4D69B8D55ED11FFB5E0DD661D</td>\n",
       "      <td>13/06/2020</td>\n",
       "      <td>LAB</td>\n",
       "      <td>COVID19, ANTICORPOS IgM, soro</td>\n",
       "      <td>Covid 19, Anticorpos IgM, Quimioluminescência</td>\n",
       "      <td>NÃO REAGENTE</td>\n",
       "      <td>NaN</td>\n",
       "      <td>Não reagente</td>\n",
       "    </tr>\n",
       "    <tr>\n",
       "      <th>2494604</th>\n",
       "      <td>FFFEF2D4D69B8D55ED11FFB5E0DD661D</td>\n",
       "      <td>13/06/2020</td>\n",
       "      <td>LAB</td>\n",
       "      <td>COVID19, ANTICORPOS IgM, soro</td>\n",
       "      <td>Covid 19, Anticorpos IgM, Quimiolumin.-Índice</td>\n",
       "      <td>0,6</td>\n",
       "      <td>UA/mL</td>\n",
       "      <td>inferior a 0,8</td>\n",
       "    </tr>\n",
       "    <tr>\n",
       "      <th>2494607</th>\n",
       "      <td>FFFFD7BD5939EF03FA62545752DF57D9</td>\n",
       "      <td>04/06/2020</td>\n",
       "      <td>LAB</td>\n",
       "      <td>COVID19, ANTICORPOS IgM, soro</td>\n",
       "      <td>Covid 19, Anticorpos IgM, Quimioluminescência</td>\n",
       "      <td>NÃO REAGENTE</td>\n",
       "      <td>NaN</td>\n",
       "      <td>Não reagente</td>\n",
       "    </tr>\n",
       "    <tr>\n",
       "      <th>2494608</th>\n",
       "      <td>FFFFD7BD5939EF03FA62545752DF57D9</td>\n",
       "      <td>04/06/2020</td>\n",
       "      <td>LAB</td>\n",
       "      <td>COVID19, ANTICORPOS IgM, soro</td>\n",
       "      <td>Covid 19, Anticorpos IgM, Quimiolumin.-Índice</td>\n",
       "      <td>0,7</td>\n",
       "      <td>UA/mL</td>\n",
       "      <td>inferior a 0,8</td>\n",
       "    </tr>\n",
       "  </tbody>\n",
       "</table>\n",
       "<p>168739 rows × 8 columns</p>\n",
       "</div>"
      ],
      "text/plain": [
       "                              ID_PACIENTE   DT_COLETA DE_ORIGEM  \\\n",
       "73       00007BB4274722A63A38D415ACCD7705  15/05/2020       LAB   \n",
       "74       00007BB4274722A63A38D415ACCD7705  15/05/2020       LAB   \n",
       "352      0000A150D4C8B92A4F8D280C6D4656B0  19/05/2020       LAB   \n",
       "353      0000A150D4C8B92A4F8D280C6D4656B0  19/05/2020       LAB   \n",
       "356      000230CE71238C85771268A5B7D807BC  19/05/2020       LAB   \n",
       "...                                   ...         ...       ...   \n",
       "2494598  FFFEDE2AD60338139A0CEB7019D1B687  05/06/2020       LAB   \n",
       "2494603  FFFEF2D4D69B8D55ED11FFB5E0DD661D  13/06/2020       LAB   \n",
       "2494604  FFFEF2D4D69B8D55ED11FFB5E0DD661D  13/06/2020       LAB   \n",
       "2494607  FFFFD7BD5939EF03FA62545752DF57D9  04/06/2020       LAB   \n",
       "2494608  FFFFD7BD5939EF03FA62545752DF57D9  04/06/2020       LAB   \n",
       "\n",
       "                              DE_EXAME  \\\n",
       "73       COVID19, ANTICORPOS IgM, soro   \n",
       "74       COVID19, ANTICORPOS IgM, soro   \n",
       "352      COVID19, ANTICORPOS IgM, soro   \n",
       "353      COVID19, ANTICORPOS IgM, soro   \n",
       "356      COVID19, ANTICORPOS IgM, soro   \n",
       "...                                ...   \n",
       "2494598  COVID19, ANTICORPOS IgM, soro   \n",
       "2494603  COVID19, ANTICORPOS IgM, soro   \n",
       "2494604  COVID19, ANTICORPOS IgM, soro   \n",
       "2494607  COVID19, ANTICORPOS IgM, soro   \n",
       "2494608  COVID19, ANTICORPOS IgM, soro   \n",
       "\n",
       "                                            DE_ANALITO  DE_RESULTADO  \\\n",
       "73       Covid 19, Anticorpos IgM, Quimioluminescência  NÃO REAGENTE   \n",
       "74       Covid 19, Anticorpos IgM, Quimiolumin.-Índice           0,3   \n",
       "352      Covid 19, Anticorpos IgM, Quimioluminescência      REAGENTE   \n",
       "353      Covid 19, Anticorpos IgM, Quimiolumin.-Índice           2,1   \n",
       "356      Covid 19, Anticorpos IgM, Quimioluminescência      REAGENTE   \n",
       "...                                                ...           ...   \n",
       "2494598  Covid 19, Anticorpos IgM, Quimiolumin.-Índice           0,6   \n",
       "2494603  Covid 19, Anticorpos IgM, Quimioluminescência  NÃO REAGENTE   \n",
       "2494604  Covid 19, Anticorpos IgM, Quimiolumin.-Índice           0,6   \n",
       "2494607  Covid 19, Anticorpos IgM, Quimioluminescência  NÃO REAGENTE   \n",
       "2494608  Covid 19, Anticorpos IgM, Quimiolumin.-Índice           0,7   \n",
       "\n",
       "        CD_UNIDADE DE_VALOR_REFERENCIA  \n",
       "73             NaN        Não reagente  \n",
       "74           UA/mL      inferior a 0,8  \n",
       "352            NaN        Não reagente  \n",
       "353          UA/mL      inferior a 0,8  \n",
       "356            NaN        Não reagente  \n",
       "...            ...                 ...  \n",
       "2494598      UA/mL      inferior a 0,8  \n",
       "2494603        NaN        Não reagente  \n",
       "2494604      UA/mL      inferior a 0,8  \n",
       "2494607        NaN        Não reagente  \n",
       "2494608      UA/mL      inferior a 0,8  \n",
       "\n",
       "[168739 rows x 8 columns]"
      ]
     },
     "execution_count": 203,
     "metadata": {},
     "output_type": "execute_result"
    }
   ],
   "source": [
    "resultados_exames[resultados_exames['DE_EXAME'].str.contains('COVID19, ANTICORPOS IgM, soro')]"
   ]
  },
  {
   "cell_type": "code",
   "execution_count": 341,
   "metadata": {},
   "outputs": [],
   "source": [
    "indexNames = resultados_exames[resultados_exames['DE_ANALITO'] == 'Covid 19, Anticorpos IgM, Quimiolumin.-Índice'].index\n",
    "resultados_exames.drop(indexNames , inplace=True)"
   ]
  },
  {
   "cell_type": "code",
   "execution_count": 342,
   "metadata": {},
   "outputs": [
    {
     "data": {
      "text/plain": [
       "NÃO REAGENTE     73748\n",
       "REAGENTE          5557\n",
       "Indeterminado     4448\n",
       "Name: DE_RESULTADO, dtype: int64"
      ]
     },
     "execution_count": 342,
     "metadata": {},
     "output_type": "execute_result"
    }
   ],
   "source": [
    "resultados_exames[resultados_exames['DE_ANALITO'].str.contains('Covid 19, Anticorpos IgM, Quimioluminescência')]['DE_RESULTADO'].value_counts()"
   ]
  },
  {
   "cell_type": "code",
   "execution_count": 343,
   "metadata": {},
   "outputs": [],
   "source": [
    "resultados_deletar = ['Indeterminado']\n",
    "index_igm_indeterminado = resultados_exames.loc[resultados_exames['DE_ANALITO'] == 'Covid 19, Anticorpos IgM, Quimioluminescência', 'DE_RESULTADO']\n",
    "index_to_delete = index_igm_indeterminado[index_igm_indeterminado.isin(resultados_deletar) == True].index\n",
    "resultados_exames.drop(index_to_delete , inplace=True)"
   ]
  },
  {
   "cell_type": "code",
   "execution_count": 344,
   "metadata": {},
   "outputs": [
    {
     "data": {
      "text/plain": [
       "0    73748\n",
       "1     5557\n",
       "Name: DE_RESULTADO, dtype: int64"
      ]
     },
     "execution_count": 344,
     "metadata": {},
     "output_type": "execute_result"
    }
   ],
   "source": [
    "index_covid_igm = resultados_exames.loc[resultados_exames['DE_ANALITO'] == 'Covid 19, Anticorpos IgM, Quimioluminescência', 'DE_RESULTADO']\n",
    "index_covid_igm.replace({'REAGENTE': 1, \\\n",
    "                     'NÃO REAGENTE': 0 }, inplace=True) \n",
    "resultados_exames.loc[index_covid_igm.index, 'DE_RESULTADO'] = index_covid_igm.values\n",
    "resultados_exames[resultados_exames['DE_ANALITO'] == 'Covid 19, Anticorpos IgM, Quimioluminescência']['DE_RESULTADO'].value_counts()"
   ]
  },
  {
   "cell_type": "code",
   "execution_count": 218,
   "metadata": {},
   "outputs": [
    {
     "data": {
      "text/html": [
       "<div>\n",
       "<style scoped>\n",
       "    .dataframe tbody tr th:only-of-type {\n",
       "        vertical-align: middle;\n",
       "    }\n",
       "\n",
       "    .dataframe tbody tr th {\n",
       "        vertical-align: top;\n",
       "    }\n",
       "\n",
       "    .dataframe thead th {\n",
       "        text-align: right;\n",
       "    }\n",
       "</style>\n",
       "<table border=\"1\" class=\"dataframe\">\n",
       "  <thead>\n",
       "    <tr style=\"text-align: right;\">\n",
       "      <th></th>\n",
       "      <th>ID_PACIENTE</th>\n",
       "      <th>DT_COLETA</th>\n",
       "      <th>DE_ORIGEM</th>\n",
       "      <th>DE_EXAME</th>\n",
       "      <th>DE_ANALITO</th>\n",
       "      <th>DE_RESULTADO</th>\n",
       "      <th>CD_UNIDADE</th>\n",
       "      <th>DE_VALOR_REFERENCIA</th>\n",
       "    </tr>\n",
       "  </thead>\n",
       "  <tbody>\n",
       "    <tr>\n",
       "      <th>73</th>\n",
       "      <td>00007BB4274722A63A38D415ACCD7705</td>\n",
       "      <td>15/05/2020</td>\n",
       "      <td>LAB</td>\n",
       "      <td>COVID19, ANTICORPOS IgM, soro</td>\n",
       "      <td>Covid 19, Anticorpos IgM, Quimioluminescência</td>\n",
       "      <td>0</td>\n",
       "      <td>NaN</td>\n",
       "      <td>Não reagente</td>\n",
       "    </tr>\n",
       "    <tr>\n",
       "      <th>352</th>\n",
       "      <td>0000A150D4C8B92A4F8D280C6D4656B0</td>\n",
       "      <td>19/05/2020</td>\n",
       "      <td>LAB</td>\n",
       "      <td>COVID19, ANTICORPOS IgM, soro</td>\n",
       "      <td>Covid 19, Anticorpos IgM, Quimioluminescência</td>\n",
       "      <td>1</td>\n",
       "      <td>NaN</td>\n",
       "      <td>Não reagente</td>\n",
       "    </tr>\n",
       "    <tr>\n",
       "      <th>356</th>\n",
       "      <td>000230CE71238C85771268A5B7D807BC</td>\n",
       "      <td>19/05/2020</td>\n",
       "      <td>LAB</td>\n",
       "      <td>COVID19, ANTICORPOS IgM, soro</td>\n",
       "      <td>Covid 19, Anticorpos IgM, Quimioluminescência</td>\n",
       "      <td>1</td>\n",
       "      <td>NaN</td>\n",
       "      <td>Não reagente</td>\n",
       "    </tr>\n",
       "    <tr>\n",
       "      <th>365</th>\n",
       "      <td>00026AF3CD39CC9D4CB97A70B0CBEEBF</td>\n",
       "      <td>06/06/2020</td>\n",
       "      <td>LAB</td>\n",
       "      <td>COVID19, ANTICORPOS IgM, soro</td>\n",
       "      <td>Covid 19, Anticorpos IgM, Quimioluminescência</td>\n",
       "      <td>0</td>\n",
       "      <td>NaN</td>\n",
       "      <td>Não reagente</td>\n",
       "    </tr>\n",
       "    <tr>\n",
       "      <th>429</th>\n",
       "      <td>000361AFC8886D4D822B30F6F5BE75EF</td>\n",
       "      <td>19/05/2020</td>\n",
       "      <td>LAB</td>\n",
       "      <td>COVID19, ANTICORPOS IgM, soro</td>\n",
       "      <td>Covid 19, Anticorpos IgM, Quimioluminescência</td>\n",
       "      <td>0</td>\n",
       "      <td>NaN</td>\n",
       "      <td>Não reagente</td>\n",
       "    </tr>\n",
       "    <tr>\n",
       "      <th>...</th>\n",
       "      <td>...</td>\n",
       "      <td>...</td>\n",
       "      <td>...</td>\n",
       "      <td>...</td>\n",
       "      <td>...</td>\n",
       "      <td>...</td>\n",
       "      <td>...</td>\n",
       "      <td>...</td>\n",
       "    </tr>\n",
       "    <tr>\n",
       "      <th>2494589</th>\n",
       "      <td>FFFEBBE5EEBFC9987D55450A2BB031B1</td>\n",
       "      <td>29/05/2020</td>\n",
       "      <td>LAB</td>\n",
       "      <td>COVID19, ANTICORPOS IgM, soro</td>\n",
       "      <td>Covid 19, Anticorpos IgM, Quimioluminescência</td>\n",
       "      <td>1</td>\n",
       "      <td>NaN</td>\n",
       "      <td>Não reagente</td>\n",
       "    </tr>\n",
       "    <tr>\n",
       "      <th>2494593</th>\n",
       "      <td>FFFECD3D227E71B0F889C0683D70C194</td>\n",
       "      <td>08/06/2020</td>\n",
       "      <td>LAB</td>\n",
       "      <td>COVID19, ANTICORPOS IgM, soro</td>\n",
       "      <td>Covid 19, Anticorpos IgM, Quimioluminescência</td>\n",
       "      <td>0</td>\n",
       "      <td>NaN</td>\n",
       "      <td>Não reagente</td>\n",
       "    </tr>\n",
       "    <tr>\n",
       "      <th>2494597</th>\n",
       "      <td>FFFEDE2AD60338139A0CEB7019D1B687</td>\n",
       "      <td>05/06/2020</td>\n",
       "      <td>LAB</td>\n",
       "      <td>COVID19, ANTICORPOS IgM, soro</td>\n",
       "      <td>Covid 19, Anticorpos IgM, Quimioluminescência</td>\n",
       "      <td>0</td>\n",
       "      <td>NaN</td>\n",
       "      <td>Não reagente</td>\n",
       "    </tr>\n",
       "    <tr>\n",
       "      <th>2494603</th>\n",
       "      <td>FFFEF2D4D69B8D55ED11FFB5E0DD661D</td>\n",
       "      <td>13/06/2020</td>\n",
       "      <td>LAB</td>\n",
       "      <td>COVID19, ANTICORPOS IgM, soro</td>\n",
       "      <td>Covid 19, Anticorpos IgM, Quimioluminescência</td>\n",
       "      <td>0</td>\n",
       "      <td>NaN</td>\n",
       "      <td>Não reagente</td>\n",
       "    </tr>\n",
       "    <tr>\n",
       "      <th>2494607</th>\n",
       "      <td>FFFFD7BD5939EF03FA62545752DF57D9</td>\n",
       "      <td>04/06/2020</td>\n",
       "      <td>LAB</td>\n",
       "      <td>COVID19, ANTICORPOS IgM, soro</td>\n",
       "      <td>Covid 19, Anticorpos IgM, Quimioluminescência</td>\n",
       "      <td>0</td>\n",
       "      <td>NaN</td>\n",
       "      <td>Não reagente</td>\n",
       "    </tr>\n",
       "  </tbody>\n",
       "</table>\n",
       "<p>79305 rows × 8 columns</p>\n",
       "</div>"
      ],
      "text/plain": [
       "                              ID_PACIENTE   DT_COLETA DE_ORIGEM  \\\n",
       "73       00007BB4274722A63A38D415ACCD7705  15/05/2020       LAB   \n",
       "352      0000A150D4C8B92A4F8D280C6D4656B0  19/05/2020       LAB   \n",
       "356      000230CE71238C85771268A5B7D807BC  19/05/2020       LAB   \n",
       "365      00026AF3CD39CC9D4CB97A70B0CBEEBF  06/06/2020       LAB   \n",
       "429      000361AFC8886D4D822B30F6F5BE75EF  19/05/2020       LAB   \n",
       "...                                   ...         ...       ...   \n",
       "2494589  FFFEBBE5EEBFC9987D55450A2BB031B1  29/05/2020       LAB   \n",
       "2494593  FFFECD3D227E71B0F889C0683D70C194  08/06/2020       LAB   \n",
       "2494597  FFFEDE2AD60338139A0CEB7019D1B687  05/06/2020       LAB   \n",
       "2494603  FFFEF2D4D69B8D55ED11FFB5E0DD661D  13/06/2020       LAB   \n",
       "2494607  FFFFD7BD5939EF03FA62545752DF57D9  04/06/2020       LAB   \n",
       "\n",
       "                              DE_EXAME  \\\n",
       "73       COVID19, ANTICORPOS IgM, soro   \n",
       "352      COVID19, ANTICORPOS IgM, soro   \n",
       "356      COVID19, ANTICORPOS IgM, soro   \n",
       "365      COVID19, ANTICORPOS IgM, soro   \n",
       "429      COVID19, ANTICORPOS IgM, soro   \n",
       "...                                ...   \n",
       "2494589  COVID19, ANTICORPOS IgM, soro   \n",
       "2494593  COVID19, ANTICORPOS IgM, soro   \n",
       "2494597  COVID19, ANTICORPOS IgM, soro   \n",
       "2494603  COVID19, ANTICORPOS IgM, soro   \n",
       "2494607  COVID19, ANTICORPOS IgM, soro   \n",
       "\n",
       "                                            DE_ANALITO DE_RESULTADO  \\\n",
       "73       Covid 19, Anticorpos IgM, Quimioluminescência            0   \n",
       "352      Covid 19, Anticorpos IgM, Quimioluminescência            1   \n",
       "356      Covid 19, Anticorpos IgM, Quimioluminescência            1   \n",
       "365      Covid 19, Anticorpos IgM, Quimioluminescência            0   \n",
       "429      Covid 19, Anticorpos IgM, Quimioluminescência            0   \n",
       "...                                                ...          ...   \n",
       "2494589  Covid 19, Anticorpos IgM, Quimioluminescência            1   \n",
       "2494593  Covid 19, Anticorpos IgM, Quimioluminescência            0   \n",
       "2494597  Covid 19, Anticorpos IgM, Quimioluminescência            0   \n",
       "2494603  Covid 19, Anticorpos IgM, Quimioluminescência            0   \n",
       "2494607  Covid 19, Anticorpos IgM, Quimioluminescência            0   \n",
       "\n",
       "        CD_UNIDADE DE_VALOR_REFERENCIA  \n",
       "73             NaN        Não reagente  \n",
       "352            NaN        Não reagente  \n",
       "356            NaN        Não reagente  \n",
       "365            NaN        Não reagente  \n",
       "429            NaN        Não reagente  \n",
       "...            ...                 ...  \n",
       "2494589        NaN        Não reagente  \n",
       "2494593        NaN        Não reagente  \n",
       "2494597        NaN        Não reagente  \n",
       "2494603        NaN        Não reagente  \n",
       "2494607        NaN        Não reagente  \n",
       "\n",
       "[79305 rows x 8 columns]"
      ]
     },
     "execution_count": 218,
     "metadata": {},
     "output_type": "execute_result"
    }
   ],
   "source": [
    "resultados_exames[resultados_exames['DE_ANALITO'].str.contains('Covid 19, Anticorpos IgM, Quimioluminescência')]"
   ]
  },
  {
   "cell_type": "markdown",
   "metadata": {},
   "source": [
    "Rotulos IgM\n",
    "- 'Covid 19, Anticorpos IgM, Quimioluminescência'\n",
    "- 'Covid 19, Anticorpos IgM, teste rápido'"
   ]
  },
  {
   "cell_type": "code",
   "execution_count": null,
   "metadata": {},
   "outputs": [],
   "source": []
  },
  {
   "cell_type": "markdown",
   "metadata": {},
   "source": [
    "## Arquivo general"
   ]
  },
  {
   "cell_type": "code",
   "execution_count": 345,
   "metadata": {
    "scrolled": true
   },
   "outputs": [
    {
     "data": {
      "text/html": [
       "<div>\n",
       "<style scoped>\n",
       "    .dataframe tbody tr th:only-of-type {\n",
       "        vertical-align: middle;\n",
       "    }\n",
       "\n",
       "    .dataframe tbody tr th {\n",
       "        vertical-align: top;\n",
       "    }\n",
       "\n",
       "    .dataframe thead th {\n",
       "        text-align: right;\n",
       "    }\n",
       "</style>\n",
       "<table border=\"1\" class=\"dataframe\">\n",
       "  <thead>\n",
       "    <tr style=\"text-align: right;\">\n",
       "      <th></th>\n",
       "      <th>ID_PACIENTE</th>\n",
       "      <th>DT_COLETA</th>\n",
       "      <th>DE_ORIGEM</th>\n",
       "      <th>DE_EXAME</th>\n",
       "      <th>DE_ANALITO</th>\n",
       "      <th>DE_RESULTADO</th>\n",
       "      <th>CD_UNIDADE</th>\n",
       "      <th>DE_VALOR_REFERENCIA</th>\n",
       "    </tr>\n",
       "  </thead>\n",
       "  <tbody>\n",
       "    <tr>\n",
       "      <th>0</th>\n",
       "      <td>00007BB4274722A63A38D415ACCD7705</td>\n",
       "      <td>13/05/2020</td>\n",
       "      <td>LAB</td>\n",
       "      <td>25 HIDROXI-VITAMINA D, soro</td>\n",
       "      <td>25 Hidroxi - vitamina D</td>\n",
       "      <td>78</td>\n",
       "      <td>ng/mL</td>\n",
       "      <td>NaN</td>\n",
       "    </tr>\n",
       "    <tr>\n",
       "      <th>1</th>\n",
       "      <td>00007BB4274722A63A38D415ACCD7705</td>\n",
       "      <td>13/05/2020</td>\n",
       "      <td>LAB</td>\n",
       "      <td>ACIDO FOLICO, soro</td>\n",
       "      <td>Ácido fólico - Eletroquimioluminescência</td>\n",
       "      <td>18,6</td>\n",
       "      <td>ng/mL</td>\n",
       "      <td>Superior a 3,9</td>\n",
       "    </tr>\n",
       "    <tr>\n",
       "      <th>2</th>\n",
       "      <td>00007BB4274722A63A38D415ACCD7705</td>\n",
       "      <td>13/05/2020</td>\n",
       "      <td>LAB</td>\n",
       "      <td>ACIDO URICO, soro</td>\n",
       "      <td>Ácido Úrico, soro</td>\n",
       "      <td>2,7</td>\n",
       "      <td>mg/dL</td>\n",
       "      <td>2,4 a 5,7</td>\n",
       "    </tr>\n",
       "    <tr>\n",
       "      <th>3</th>\n",
       "      <td>00007BB4274722A63A38D415ACCD7705</td>\n",
       "      <td>13/05/2020</td>\n",
       "      <td>LAB</td>\n",
       "      <td>ALUMINIO, plasma</td>\n",
       "      <td>Alumínio</td>\n",
       "      <td>10</td>\n",
       "      <td>microg/L</td>\n",
       "      <td>Até 10</td>\n",
       "    </tr>\n",
       "    <tr>\n",
       "      <th>4</th>\n",
       "      <td>00007BB4274722A63A38D415ACCD7705</td>\n",
       "      <td>13/05/2020</td>\n",
       "      <td>LAB</td>\n",
       "      <td>ANTICORPOS ANTI-PEROXIDASE TIROIDIANA, soro</td>\n",
       "      <td>Anticorpos Anti-Peroxidase Tiroidiana</td>\n",
       "      <td>inferior a 34</td>\n",
       "      <td>U/mL</td>\n",
       "      <td>inferior a 34</td>\n",
       "    </tr>\n",
       "  </tbody>\n",
       "</table>\n",
       "</div>"
      ],
      "text/plain": [
       "                        ID_PACIENTE   DT_COLETA DE_ORIGEM  \\\n",
       "0  00007BB4274722A63A38D415ACCD7705  13/05/2020       LAB   \n",
       "1  00007BB4274722A63A38D415ACCD7705  13/05/2020       LAB   \n",
       "2  00007BB4274722A63A38D415ACCD7705  13/05/2020       LAB   \n",
       "3  00007BB4274722A63A38D415ACCD7705  13/05/2020       LAB   \n",
       "4  00007BB4274722A63A38D415ACCD7705  13/05/2020       LAB   \n",
       "\n",
       "                                      DE_EXAME  \\\n",
       "0                  25 HIDROXI-VITAMINA D, soro   \n",
       "1                           ACIDO FOLICO, soro   \n",
       "2                            ACIDO URICO, soro   \n",
       "3                             ALUMINIO, plasma   \n",
       "4  ANTICORPOS ANTI-PEROXIDASE TIROIDIANA, soro   \n",
       "\n",
       "                                 DE_ANALITO   DE_RESULTADO CD_UNIDADE  \\\n",
       "0                   25 Hidroxi - vitamina D             78      ng/mL   \n",
       "1  Ácido fólico - Eletroquimioluminescência           18,6      ng/mL   \n",
       "2                         Ácido Úrico, soro            2,7      mg/dL   \n",
       "3                                  Alumínio             10   microg/L   \n",
       "4     Anticorpos Anti-Peroxidase Tiroidiana  inferior a 34       U/mL   \n",
       "\n",
       "  DE_VALOR_REFERENCIA  \n",
       "0                 NaN  \n",
       "1      Superior a 3,9  \n",
       "2           2,4 a 5,7  \n",
       "3              Até 10  \n",
       "4       inferior a 34  "
      ]
     },
     "execution_count": 345,
     "metadata": {},
     "output_type": "execute_result"
    }
   ],
   "source": [
    "resultados_exames.head()"
   ]
  },
  {
   "cell_type": "code",
   "execution_count": 346,
   "metadata": {},
   "outputs": [
    {
     "data": {
      "text/plain": [
       "LAB    2049366\n",
       "Name: DE_ORIGEM, dtype: int64"
      ]
     },
     "execution_count": 346,
     "metadata": {},
     "output_type": "execute_result"
    }
   ],
   "source": [
    "resultados_exames.DE_ORIGEM.value_counts()"
   ]
  },
  {
   "cell_type": "code",
   "execution_count": 347,
   "metadata": {},
   "outputs": [],
   "source": [
    "drop_columns = ['DE_ORIGEM', 'CD_UNIDADE', 'DE_VALOR_REFERENCIA']\n",
    "resultados_exames = resultados_exames.drop(drop_columns, axis=1)"
   ]
  },
  {
   "cell_type": "code",
   "execution_count": 348,
   "metadata": {},
   "outputs": [
    {
     "data": {
      "text/html": [
       "<div>\n",
       "<style scoped>\n",
       "    .dataframe tbody tr th:only-of-type {\n",
       "        vertical-align: middle;\n",
       "    }\n",
       "\n",
       "    .dataframe tbody tr th {\n",
       "        vertical-align: top;\n",
       "    }\n",
       "\n",
       "    .dataframe thead th {\n",
       "        text-align: right;\n",
       "    }\n",
       "</style>\n",
       "<table border=\"1\" class=\"dataframe\">\n",
       "  <thead>\n",
       "    <tr style=\"text-align: right;\">\n",
       "      <th></th>\n",
       "      <th>ID_PACIENTE</th>\n",
       "      <th>DT_COLETA</th>\n",
       "      <th>DE_EXAME</th>\n",
       "      <th>DE_ANALITO</th>\n",
       "      <th>DE_RESULTADO</th>\n",
       "    </tr>\n",
       "  </thead>\n",
       "  <tbody>\n",
       "    <tr>\n",
       "      <th>0</th>\n",
       "      <td>00007BB4274722A63A38D415ACCD7705</td>\n",
       "      <td>13/05/2020</td>\n",
       "      <td>25 HIDROXI-VITAMINA D, soro</td>\n",
       "      <td>25 Hidroxi - vitamina D</td>\n",
       "      <td>78</td>\n",
       "    </tr>\n",
       "    <tr>\n",
       "      <th>1</th>\n",
       "      <td>00007BB4274722A63A38D415ACCD7705</td>\n",
       "      <td>13/05/2020</td>\n",
       "      <td>ACIDO FOLICO, soro</td>\n",
       "      <td>Ácido fólico - Eletroquimioluminescência</td>\n",
       "      <td>18,6</td>\n",
       "    </tr>\n",
       "    <tr>\n",
       "      <th>2</th>\n",
       "      <td>00007BB4274722A63A38D415ACCD7705</td>\n",
       "      <td>13/05/2020</td>\n",
       "      <td>ACIDO URICO, soro</td>\n",
       "      <td>Ácido Úrico, soro</td>\n",
       "      <td>2,7</td>\n",
       "    </tr>\n",
       "    <tr>\n",
       "      <th>3</th>\n",
       "      <td>00007BB4274722A63A38D415ACCD7705</td>\n",
       "      <td>13/05/2020</td>\n",
       "      <td>ALUMINIO, plasma</td>\n",
       "      <td>Alumínio</td>\n",
       "      <td>10</td>\n",
       "    </tr>\n",
       "    <tr>\n",
       "      <th>4</th>\n",
       "      <td>00007BB4274722A63A38D415ACCD7705</td>\n",
       "      <td>13/05/2020</td>\n",
       "      <td>ANTICORPOS ANTI-PEROXIDASE TIROIDIANA, soro</td>\n",
       "      <td>Anticorpos Anti-Peroxidase Tiroidiana</td>\n",
       "      <td>inferior a 34</td>\n",
       "    </tr>\n",
       "  </tbody>\n",
       "</table>\n",
       "</div>"
      ],
      "text/plain": [
       "                        ID_PACIENTE   DT_COLETA  \\\n",
       "0  00007BB4274722A63A38D415ACCD7705  13/05/2020   \n",
       "1  00007BB4274722A63A38D415ACCD7705  13/05/2020   \n",
       "2  00007BB4274722A63A38D415ACCD7705  13/05/2020   \n",
       "3  00007BB4274722A63A38D415ACCD7705  13/05/2020   \n",
       "4  00007BB4274722A63A38D415ACCD7705  13/05/2020   \n",
       "\n",
       "                                      DE_EXAME  \\\n",
       "0                  25 HIDROXI-VITAMINA D, soro   \n",
       "1                           ACIDO FOLICO, soro   \n",
       "2                            ACIDO URICO, soro   \n",
       "3                             ALUMINIO, plasma   \n",
       "4  ANTICORPOS ANTI-PEROXIDASE TIROIDIANA, soro   \n",
       "\n",
       "                                 DE_ANALITO   DE_RESULTADO  \n",
       "0                   25 Hidroxi - vitamina D             78  \n",
       "1  Ácido fólico - Eletroquimioluminescência           18,6  \n",
       "2                         Ácido Úrico, soro            2,7  \n",
       "3                                  Alumínio             10  \n",
       "4     Anticorpos Anti-Peroxidase Tiroidiana  inferior a 34  "
      ]
     },
     "execution_count": 348,
     "metadata": {},
     "output_type": "execute_result"
    }
   ],
   "source": [
    "resultados_exames.head()"
   ]
  },
  {
   "cell_type": "code",
   "execution_count": 349,
   "metadata": {},
   "outputs": [],
   "source": [
    "resultados_exames.to_csv('resultados_exames.csv', index=False, sep='|')"
   ]
  },
  {
   "cell_type": "code",
   "execution_count": 350,
   "metadata": {},
   "outputs": [
    {
     "data": {
      "text/html": [
       "<div>\n",
       "<style scoped>\n",
       "    .dataframe tbody tr th:only-of-type {\n",
       "        vertical-align: middle;\n",
       "    }\n",
       "\n",
       "    .dataframe tbody tr th {\n",
       "        vertical-align: top;\n",
       "    }\n",
       "\n",
       "    .dataframe thead th {\n",
       "        text-align: right;\n",
       "    }\n",
       "</style>\n",
       "<table border=\"1\" class=\"dataframe\">\n",
       "  <thead>\n",
       "    <tr style=\"text-align: right;\">\n",
       "      <th></th>\n",
       "      <th>ID_PACIENTE</th>\n",
       "      <th>DT_COLETA</th>\n",
       "      <th>DE_EXAME</th>\n",
       "      <th>DE_ANALITO</th>\n",
       "      <th>DE_RESULTADO</th>\n",
       "    </tr>\n",
       "  </thead>\n",
       "  <tbody>\n",
       "    <tr>\n",
       "      <th>0</th>\n",
       "      <td>00007BB4274722A63A38D415ACCD7705</td>\n",
       "      <td>13/05/2020</td>\n",
       "      <td>25 HIDROXI-VITAMINA D, soro</td>\n",
       "      <td>25 Hidroxi - vitamina D</td>\n",
       "      <td>78</td>\n",
       "    </tr>\n",
       "    <tr>\n",
       "      <th>1</th>\n",
       "      <td>00007BB4274722A63A38D415ACCD7705</td>\n",
       "      <td>13/05/2020</td>\n",
       "      <td>ACIDO FOLICO, soro</td>\n",
       "      <td>Ácido fólico - Eletroquimioluminescência</td>\n",
       "      <td>18,6</td>\n",
       "    </tr>\n",
       "    <tr>\n",
       "      <th>2</th>\n",
       "      <td>00007BB4274722A63A38D415ACCD7705</td>\n",
       "      <td>13/05/2020</td>\n",
       "      <td>ACIDO URICO, soro</td>\n",
       "      <td>Ácido Úrico, soro</td>\n",
       "      <td>2,7</td>\n",
       "    </tr>\n",
       "    <tr>\n",
       "      <th>3</th>\n",
       "      <td>00007BB4274722A63A38D415ACCD7705</td>\n",
       "      <td>13/05/2020</td>\n",
       "      <td>ALUMINIO, plasma</td>\n",
       "      <td>Alumínio</td>\n",
       "      <td>10</td>\n",
       "    </tr>\n",
       "    <tr>\n",
       "      <th>4</th>\n",
       "      <td>00007BB4274722A63A38D415ACCD7705</td>\n",
       "      <td>13/05/2020</td>\n",
       "      <td>ANTICORPOS ANTI-PEROXIDASE TIROIDIANA, soro</td>\n",
       "      <td>Anticorpos Anti-Peroxidase Tiroidiana</td>\n",
       "      <td>inferior a 34</td>\n",
       "    </tr>\n",
       "  </tbody>\n",
       "</table>\n",
       "</div>"
      ],
      "text/plain": [
       "                        ID_PACIENTE   DT_COLETA  \\\n",
       "0  00007BB4274722A63A38D415ACCD7705  13/05/2020   \n",
       "1  00007BB4274722A63A38D415ACCD7705  13/05/2020   \n",
       "2  00007BB4274722A63A38D415ACCD7705  13/05/2020   \n",
       "3  00007BB4274722A63A38D415ACCD7705  13/05/2020   \n",
       "4  00007BB4274722A63A38D415ACCD7705  13/05/2020   \n",
       "\n",
       "                                      DE_EXAME  \\\n",
       "0                  25 HIDROXI-VITAMINA D, soro   \n",
       "1                           ACIDO FOLICO, soro   \n",
       "2                            ACIDO URICO, soro   \n",
       "3                             ALUMINIO, plasma   \n",
       "4  ANTICORPOS ANTI-PEROXIDASE TIROIDIANA, soro   \n",
       "\n",
       "                                 DE_ANALITO   DE_RESULTADO  \n",
       "0                   25 Hidroxi - vitamina D             78  \n",
       "1  Ácido fólico - Eletroquimioluminescência           18,6  \n",
       "2                         Ácido Úrico, soro            2,7  \n",
       "3                                  Alumínio             10  \n",
       "4     Anticorpos Anti-Peroxidase Tiroidiana  inferior a 34  "
      ]
     },
     "execution_count": 350,
     "metadata": {},
     "output_type": "execute_result"
    }
   ],
   "source": [
    "resultados_exames.head()"
   ]
  },
  {
   "cell_type": "code",
   "execution_count": 351,
   "metadata": {},
   "outputs": [
    {
     "data": {
      "text/plain": [
       "(2049366, 5)"
      ]
     },
     "execution_count": 351,
     "metadata": {},
     "output_type": "execute_result"
    }
   ],
   "source": [
    "resultados_exames.shape"
   ]
  },
  {
   "cell_type": "markdown",
   "metadata": {},
   "source": [
    "Vamos eliminar todos os exames com densidade menor do que 400, pois temos mais de 100 mil pacientes, e 400 exames no total significa que poucos pacientes fizeram esses exames. "
   ]
  },
  {
   "cell_type": "code",
   "execution_count": 251,
   "metadata": {},
   "outputs": [
    {
     "data": {
      "text/html": [
       "<div>\n",
       "<style scoped>\n",
       "    .dataframe tbody tr th:only-of-type {\n",
       "        vertical-align: middle;\n",
       "    }\n",
       "\n",
       "    .dataframe tbody tr th {\n",
       "        vertical-align: top;\n",
       "    }\n",
       "\n",
       "    .dataframe thead th {\n",
       "        text-align: right;\n",
       "    }\n",
       "</style>\n",
       "<table border=\"1\" class=\"dataframe\">\n",
       "  <thead>\n",
       "    <tr style=\"text-align: right;\">\n",
       "      <th></th>\n",
       "      <th>DE_EXAME</th>\n",
       "      <th>DE_ANALITO</th>\n",
       "      <th>VEZES</th>\n",
       "    </tr>\n",
       "  </thead>\n",
       "  <tbody>\n",
       "    <tr>\n",
       "      <th>277</th>\n",
       "      <td>COVID19, ANTICORPOS IgG, soro</td>\n",
       "      <td>Covid 19, Anticorpos IgG, Quimiolumin.-Índice</td>\n",
       "      <td>84996</td>\n",
       "    </tr>\n",
       "    <tr>\n",
       "      <th>279</th>\n",
       "      <td>COVID19, ANTICORPOS IgM, soro</td>\n",
       "      <td>Covid 19, Anticorpos IgM, Quimiolumin.-Índice</td>\n",
       "      <td>84986</td>\n",
       "    </tr>\n",
       "    <tr>\n",
       "      <th>278</th>\n",
       "      <td>COVID19, ANTICORPOS IgG, soro</td>\n",
       "      <td>Covid 19, Anticorpos IgG, Quimioluminescência</td>\n",
       "      <td>83767</td>\n",
       "    </tr>\n",
       "    <tr>\n",
       "      <th>280</th>\n",
       "      <td>COVID19, ANTICORPOS IgM, soro</td>\n",
       "      <td>Covid 19, Anticorpos IgM, Quimioluminescência</td>\n",
       "      <td>83753</td>\n",
       "    </tr>\n",
       "    <tr>\n",
       "      <th>797</th>\n",
       "      <td>NOVO CORONAVÍRUS 2019 (SARS-CoV-2), DETECÇÃO P...</td>\n",
       "      <td>Covid 19, Detecção por PCR</td>\n",
       "      <td>50223</td>\n",
       "    </tr>\n",
       "  </tbody>\n",
       "</table>\n",
       "</div>"
      ],
      "text/plain": [
       "                                              DE_EXAME  \\\n",
       "277                      COVID19, ANTICORPOS IgG, soro   \n",
       "279                      COVID19, ANTICORPOS IgM, soro   \n",
       "278                      COVID19, ANTICORPOS IgG, soro   \n",
       "280                      COVID19, ANTICORPOS IgM, soro   \n",
       "797  NOVO CORONAVÍRUS 2019 (SARS-CoV-2), DETECÇÃO P...   \n",
       "\n",
       "                                        DE_ANALITO  VEZES  \n",
       "277  Covid 19, Anticorpos IgG, Quimiolumin.-Índice  84996  \n",
       "279  Covid 19, Anticorpos IgM, Quimiolumin.-Índice  84986  \n",
       "278  Covid 19, Anticorpos IgG, Quimioluminescência  83767  \n",
       "280  Covid 19, Anticorpos IgM, Quimioluminescência  83753  \n",
       "797                     Covid 19, Detecção por PCR  50223  "
      ]
     },
     "execution_count": 251,
     "metadata": {},
     "output_type": "execute_result"
    }
   ],
   "source": [
    "exames_agrupados.head()"
   ]
  },
  {
   "cell_type": "code",
   "execution_count": 352,
   "metadata": {},
   "outputs": [
    {
     "data": {
      "text/plain": [
       "(1279, 3)"
      ]
     },
     "execution_count": 352,
     "metadata": {},
     "output_type": "execute_result"
    }
   ],
   "source": [
    "exames_agrupados.shape"
   ]
  },
  {
   "cell_type": "code",
   "execution_count": 353,
   "metadata": {},
   "outputs": [
    {
     "data": {
      "text/html": [
       "<div>\n",
       "<style scoped>\n",
       "    .dataframe tbody tr th:only-of-type {\n",
       "        vertical-align: middle;\n",
       "    }\n",
       "\n",
       "    .dataframe tbody tr th {\n",
       "        vertical-align: top;\n",
       "    }\n",
       "\n",
       "    .dataframe thead th {\n",
       "        text-align: right;\n",
       "    }\n",
       "</style>\n",
       "<table border=\"1\" class=\"dataframe\">\n",
       "  <thead>\n",
       "    <tr style=\"text-align: right;\">\n",
       "      <th></th>\n",
       "      <th>DE_EXAME</th>\n",
       "      <th>DE_ANALITO</th>\n",
       "      <th>VEZES</th>\n",
       "    </tr>\n",
       "  </thead>\n",
       "  <tbody>\n",
       "    <tr>\n",
       "      <th>1256</th>\n",
       "      <td>VITAMINA E (tocoferol), soro</td>\n",
       "      <td>Vitamina E (tocoferol), soro</td>\n",
       "      <td>399</td>\n",
       "    </tr>\n",
       "    <tr>\n",
       "      <th>910</th>\n",
       "      <td>PROTEINA C-REATIVA, plasma</td>\n",
       "      <td>Proteína C-Reativa</td>\n",
       "      <td>387</td>\n",
       "    </tr>\n",
       "    <tr>\n",
       "      <th>244</th>\n",
       "      <td>CKMB massa, plasma</td>\n",
       "      <td>CK-MB, Eletroquimioluminescência</td>\n",
       "      <td>363</td>\n",
       "    </tr>\n",
       "    <tr>\n",
       "      <th>289</th>\n",
       "      <td>CREATININA, plasma</td>\n",
       "      <td>Creatinina</td>\n",
       "      <td>363</td>\n",
       "    </tr>\n",
       "    <tr>\n",
       "      <th>1139</th>\n",
       "      <td>TRANSFERRINA, soro</td>\n",
       "      <td>Transferrina</td>\n",
       "      <td>360</td>\n",
       "    </tr>\n",
       "    <tr>\n",
       "      <th>...</th>\n",
       "      <td>...</td>\n",
       "      <td>...</td>\n",
       "      <td>...</td>\n",
       "    </tr>\n",
       "    <tr>\n",
       "      <th>945</th>\n",
       "      <td>QUANTIFICACAO DE INIBIDOR DE FATOR IX, plasma</td>\n",
       "      <td>Dosagem de fator IX</td>\n",
       "      <td>1</td>\n",
       "    </tr>\n",
       "    <tr>\n",
       "      <th>1141</th>\n",
       "      <td>TRIAGEM DE ANFETAMINAS E METANFETAMINAS, urina</td>\n",
       "      <td>Anfetaminas e Metanfetaminas, urina</td>\n",
       "      <td>1</td>\n",
       "    </tr>\n",
       "    <tr>\n",
       "      <th>759</th>\n",
       "      <td>MAG, ANTICORPOS, soro</td>\n",
       "      <td>MAG, anticorpos</td>\n",
       "      <td>1</td>\n",
       "    </tr>\n",
       "    <tr>\n",
       "      <th>852</th>\n",
       "      <td>PESQUISA DE MICROSPORIDIA NAS FEZES</td>\n",
       "      <td>Microsporidia, pesquisa, fezes</td>\n",
       "      <td>1</td>\n",
       "    </tr>\n",
       "    <tr>\n",
       "      <th>731</th>\n",
       "      <td>JO-1, AUTO-ANTICORPOS, soro</td>\n",
       "      <td>Jo-1, Auto-Anticorpos - imunodifusão dupla</td>\n",
       "      <td>1</td>\n",
       "    </tr>\n",
       "  </tbody>\n",
       "</table>\n",
       "<p>1014 rows × 3 columns</p>\n",
       "</div>"
      ],
      "text/plain": [
       "                                            DE_EXAME  \\\n",
       "1256                    VITAMINA E (tocoferol), soro   \n",
       "910                       PROTEINA C-REATIVA, plasma   \n",
       "244                               CKMB massa, plasma   \n",
       "289                               CREATININA, plasma   \n",
       "1139                              TRANSFERRINA, soro   \n",
       "...                                              ...   \n",
       "945    QUANTIFICACAO DE INIBIDOR DE FATOR IX, plasma   \n",
       "1141  TRIAGEM DE ANFETAMINAS E METANFETAMINAS, urina   \n",
       "759                            MAG, ANTICORPOS, soro   \n",
       "852              PESQUISA DE MICROSPORIDIA NAS FEZES   \n",
       "731                      JO-1, AUTO-ANTICORPOS, soro   \n",
       "\n",
       "                                      DE_ANALITO  VEZES  \n",
       "1256                Vitamina E (tocoferol), soro    399  \n",
       "910                           Proteína C-Reativa    387  \n",
       "244             CK-MB, Eletroquimioluminescência    363  \n",
       "289                                   Creatinina    363  \n",
       "1139                                Transferrina    360  \n",
       "...                                          ...    ...  \n",
       "945                          Dosagem de fator IX      1  \n",
       "1141         Anfetaminas e Metanfetaminas, urina      1  \n",
       "759                              MAG, anticorpos      1  \n",
       "852               Microsporidia, pesquisa, fezes      1  \n",
       "731   Jo-1, Auto-Anticorpos - imunodifusão dupla      1  \n",
       "\n",
       "[1014 rows x 3 columns]"
      ]
     },
     "execution_count": 353,
     "metadata": {},
     "output_type": "execute_result"
    }
   ],
   "source": [
    "exames_agrupados[exames_agrupados['VEZES'] < 400]"
   ]
  },
  {
   "cell_type": "code",
   "execution_count": 354,
   "metadata": {},
   "outputs": [],
   "source": [
    "DE_EXAME_to_delete = exames_agrupados[exames_agrupados['VEZES'] < 400][['DE_EXAME']].values\n",
    "DE_ANALITO_to_delete = exames_agrupados[exames_agrupados['VEZES'] < 400][['DE_ANALITO']].values"
   ]
  },
  {
   "cell_type": "code",
   "execution_count": 267,
   "metadata": {},
   "outputs": [
    {
     "name": "stdout",
     "output_type": "stream",
     "text": [
      "1013\n",
      "1013\n"
     ]
    }
   ],
   "source": [
    "print(len(DE_EXAME_to_delete))\n",
    "print(len(DE_ANALITO_to_delete))"
   ]
  },
  {
   "cell_type": "code",
   "execution_count": 355,
   "metadata": {},
   "outputs": [],
   "source": [
    "import numpy as np"
   ]
  },
  {
   "cell_type": "code",
   "execution_count": 356,
   "metadata": {},
   "outputs": [
    {
     "data": {
      "text/plain": [
       "(array([53]), array([0]))"
      ]
     },
     "execution_count": 356,
     "metadata": {},
     "output_type": "execute_result"
    }
   ],
   "source": [
    "np.where(DE_ANALITO_to_delete == 'Covid 19, Anticorpos IgA, Elisa')"
   ]
  },
  {
   "cell_type": "code",
   "execution_count": 357,
   "metadata": {},
   "outputs": [],
   "source": [
    "DE_EXAME_to_delete = np.delete(DE_EXAME_to_delete, 53)\n",
    "DE_ANALITO_to_delete = np.delete(DE_ANALITO_to_delete, 53)"
   ]
  },
  {
   "cell_type": "code",
   "execution_count": 358,
   "metadata": {},
   "outputs": [],
   "source": [
    "for exame, analito in zip(DE_EXAME_to_delete, DE_ANALITO_to_delete):\n",
    "    indexNames = resultados_exames[(resultados_exames['DE_EXAME'] == exame) & (resultados_exames['DE_ANALITO'] == analito)].index\n",
    "    resultados_exames.drop(indexNames , inplace=True)"
   ]
  },
  {
   "cell_type": "code",
   "execution_count": 359,
   "metadata": {},
   "outputs": [
    {
     "data": {
      "text/plain": [
       "(2000542, 5)"
      ]
     },
     "execution_count": 359,
     "metadata": {},
     "output_type": "execute_result"
    }
   ],
   "source": [
    "resultados_exames.shape"
   ]
  },
  {
   "cell_type": "code",
   "execution_count": 360,
   "metadata": {},
   "outputs": [
    {
     "data": {
      "text/html": [
       "<div>\n",
       "<style scoped>\n",
       "    .dataframe tbody tr th:only-of-type {\n",
       "        vertical-align: middle;\n",
       "    }\n",
       "\n",
       "    .dataframe tbody tr th {\n",
       "        vertical-align: top;\n",
       "    }\n",
       "\n",
       "    .dataframe thead th {\n",
       "        text-align: right;\n",
       "    }\n",
       "</style>\n",
       "<table border=\"1\" class=\"dataframe\">\n",
       "  <thead>\n",
       "    <tr style=\"text-align: right;\">\n",
       "      <th></th>\n",
       "      <th>ID_PACIENTE</th>\n",
       "      <th>DT_COLETA</th>\n",
       "      <th>DE_EXAME</th>\n",
       "      <th>DE_ANALITO</th>\n",
       "      <th>DE_RESULTADO</th>\n",
       "    </tr>\n",
       "  </thead>\n",
       "  <tbody>\n",
       "    <tr>\n",
       "      <th>0</th>\n",
       "      <td>00007BB4274722A63A38D415ACCD7705</td>\n",
       "      <td>13/05/2020</td>\n",
       "      <td>25 HIDROXI-VITAMINA D, soro</td>\n",
       "      <td>25 Hidroxi - vitamina D</td>\n",
       "      <td>78</td>\n",
       "    </tr>\n",
       "    <tr>\n",
       "      <th>1</th>\n",
       "      <td>00007BB4274722A63A38D415ACCD7705</td>\n",
       "      <td>13/05/2020</td>\n",
       "      <td>ACIDO FOLICO, soro</td>\n",
       "      <td>Ácido fólico - Eletroquimioluminescência</td>\n",
       "      <td>18,6</td>\n",
       "    </tr>\n",
       "    <tr>\n",
       "      <th>2</th>\n",
       "      <td>00007BB4274722A63A38D415ACCD7705</td>\n",
       "      <td>13/05/2020</td>\n",
       "      <td>ACIDO URICO, soro</td>\n",
       "      <td>Ácido Úrico, soro</td>\n",
       "      <td>2,7</td>\n",
       "    </tr>\n",
       "    <tr>\n",
       "      <th>3</th>\n",
       "      <td>00007BB4274722A63A38D415ACCD7705</td>\n",
       "      <td>13/05/2020</td>\n",
       "      <td>ALUMINIO, plasma</td>\n",
       "      <td>Alumínio</td>\n",
       "      <td>10</td>\n",
       "    </tr>\n",
       "    <tr>\n",
       "      <th>4</th>\n",
       "      <td>00007BB4274722A63A38D415ACCD7705</td>\n",
       "      <td>13/05/2020</td>\n",
       "      <td>ANTICORPOS ANTI-PEROXIDASE TIROIDIANA, soro</td>\n",
       "      <td>Anticorpos Anti-Peroxidase Tiroidiana</td>\n",
       "      <td>inferior a 34</td>\n",
       "    </tr>\n",
       "  </tbody>\n",
       "</table>\n",
       "</div>"
      ],
      "text/plain": [
       "                        ID_PACIENTE   DT_COLETA  \\\n",
       "0  00007BB4274722A63A38D415ACCD7705  13/05/2020   \n",
       "1  00007BB4274722A63A38D415ACCD7705  13/05/2020   \n",
       "2  00007BB4274722A63A38D415ACCD7705  13/05/2020   \n",
       "3  00007BB4274722A63A38D415ACCD7705  13/05/2020   \n",
       "4  00007BB4274722A63A38D415ACCD7705  13/05/2020   \n",
       "\n",
       "                                      DE_EXAME  \\\n",
       "0                  25 HIDROXI-VITAMINA D, soro   \n",
       "1                           ACIDO FOLICO, soro   \n",
       "2                            ACIDO URICO, soro   \n",
       "3                             ALUMINIO, plasma   \n",
       "4  ANTICORPOS ANTI-PEROXIDASE TIROIDIANA, soro   \n",
       "\n",
       "                                 DE_ANALITO   DE_RESULTADO  \n",
       "0                   25 Hidroxi - vitamina D             78  \n",
       "1  Ácido fólico - Eletroquimioluminescência           18,6  \n",
       "2                         Ácido Úrico, soro            2,7  \n",
       "3                                  Alumínio             10  \n",
       "4     Anticorpos Anti-Peroxidase Tiroidiana  inferior a 34  "
      ]
     },
     "execution_count": 360,
     "metadata": {},
     "output_type": "execute_result"
    }
   ],
   "source": [
    "resultados_exames.head()"
   ]
  },
  {
   "cell_type": "code",
   "execution_count": 361,
   "metadata": {},
   "outputs": [],
   "source": [
    "resultados_exames.to_csv('resultados_exames_densos.csv', index=False, sep='|')"
   ]
  },
  {
   "cell_type": "markdown",
   "metadata": {},
   "source": [
    "Para recuperar o resultado_exames"
   ]
  },
  {
   "cell_type": "code",
   "execution_count": null,
   "metadata": {},
   "outputs": [],
   "source": [
    "col_names = ['ID_PACIENTE', 'DT_COLETA', 'DE_EXAME', 'DE_ANALITO', 'DE_RESULTADO']\n",
    "pacientes = pd.read_csv('resultados_exames_densos.csv', sep='|', names=col_names)"
   ]
  },
  {
   "cell_type": "markdown",
   "metadata": {},
   "source": [
    "## Resultado por paciente"
   ]
  },
  {
   "cell_type": "code",
   "execution_count": 273,
   "metadata": {},
   "outputs": [
    {
     "data": {
      "text/plain": [
       "CE1F4D06FE83023E08DF680EC7324BF5    649\n",
       "A9DEF7F65875D4B92E59D50F9B21DCF2    644\n",
       "FD10C24CA5986B00FFDDED743447EC81    643\n",
       "4AD9371C8FAF9B4B3C409589E09104CE    587\n",
       "FC5675885071BBF89EE97CFFBB80B5D8    558\n",
       "                                   ... \n",
       "D5777D57B14E3CB2E2ED600C2EC86742      1\n",
       "B24C127D85F494A6145A60EE30246FE7      1\n",
       "C01D8355ABF56655EB5989E8789E663A      1\n",
       "5BFE3D28F619425E2E25D160F267E198      1\n",
       "0F4844A9976A99DC30DE8E011C0BA4DF      1\n",
       "Name: ID_PACIENTE, Length: 128706, dtype: int64"
      ]
     },
     "execution_count": 273,
     "metadata": {},
     "output_type": "execute_result"
    }
   ],
   "source": [
    "resultados_exames['ID_PACIENTE'].value_counts()"
   ]
  },
  {
   "cell_type": "code",
   "execution_count": 281,
   "metadata": {},
   "outputs": [],
   "source": [
    "exames_por_paciente = resultados_exames['ID_PACIENTE'].value_counts().reset_index()\n",
    "exames_por_paciente.columns = ['ID_PACIENTE', 'QUANTIDADE_EXAMES']\n",
    "exames_por_paciente.to_csv('exames_por_paciente.csv', index=False, sep='|')"
   ]
  },
  {
   "cell_type": "code",
   "execution_count": 282,
   "metadata": {},
   "outputs": [
    {
     "data": {
      "text/plain": [
       "CE1F4D06FE83023E08DF680EC7324BF5    649\n",
       "A9DEF7F65875D4B92E59D50F9B21DCF2    644\n",
       "FD10C24CA5986B00FFDDED743447EC81    643\n",
       "4AD9371C8FAF9B4B3C409589E09104CE    587\n",
       "FC5675885071BBF89EE97CFFBB80B5D8    558\n",
       "                                   ... \n",
       "D5777D57B14E3CB2E2ED600C2EC86742      1\n",
       "B24C127D85F494A6145A60EE30246FE7      1\n",
       "C01D8355ABF56655EB5989E8789E663A      1\n",
       "5BFE3D28F619425E2E25D160F267E198      1\n",
       "0F4844A9976A99DC30DE8E011C0BA4DF      1\n",
       "Name: ID_PACIENTE, Length: 128706, dtype: int64"
      ]
     },
     "execution_count": 282,
     "metadata": {},
     "output_type": "execute_result"
    }
   ],
   "source": [
    "resultados_exames['ID_PACIENTE'].value_counts()"
   ]
  },
  {
   "cell_type": "markdown",
   "metadata": {},
   "source": [
    "Vamos aceptar pacientes que pelo menos tenham feito 18 exames e deletar os restantes."
   ]
  },
  {
   "cell_type": "code",
   "execution_count": 362,
   "metadata": {},
   "outputs": [],
   "source": [
    "drop_pacientes = exames_por_paciente[exames_por_paciente['QUANTIDADE_EXAMES'] < 18]['ID_PACIENTE']\n",
    "drop_pacientes = drop_pacientes.values"
   ]
  },
  {
   "cell_type": "code",
   "execution_count": 363,
   "metadata": {},
   "outputs": [],
   "source": [
    "index_to_delete = resultados_exames[resultados_exames.ID_PACIENTE.isin(drop_pacientes) == True].index\n",
    "resultados_exames.drop(index_to_delete , inplace=True)"
   ]
  },
  {
   "cell_type": "code",
   "execution_count": 364,
   "metadata": {},
   "outputs": [
    {
     "data": {
      "text/plain": [
       "(1803555, 5)"
      ]
     },
     "execution_count": 364,
     "metadata": {},
     "output_type": "execute_result"
    }
   ],
   "source": [
    "resultados_exames.shape"
   ]
  },
  {
   "cell_type": "code",
   "execution_count": 365,
   "metadata": {},
   "outputs": [
    {
     "data": {
      "text/plain": [
       "CE1F4D06FE83023E08DF680EC7324BF5    649\n",
       "A9DEF7F65875D4B92E59D50F9B21DCF2    644\n",
       "FD10C24CA5986B00FFDDED743447EC81    643\n",
       "4AD9371C8FAF9B4B3C409589E09104CE    587\n",
       "FC5675885071BBF89EE97CFFBB80B5D8    558\n",
       "                                   ... \n",
       "A420012B68C72D4CD71088AD560A302F     18\n",
       "4EFF38F5EC982B7A9F1AEFB154154A3C     18\n",
       "C2060E3D27DC2CAEF2A28E14E108061D     18\n",
       "3DBB1C0ADD2799027ED193569CE8B4C1     18\n",
       "AFBA550AA6D3DE60D29DB92B431AC854     18\n",
       "Name: ID_PACIENTE, Length: 26032, dtype: int64"
      ]
     },
     "execution_count": 365,
     "metadata": {},
     "output_type": "execute_result"
    }
   ],
   "source": [
    "resultados_exames['ID_PACIENTE'].value_counts()"
   ]
  },
  {
   "cell_type": "code",
   "execution_count": 366,
   "metadata": {},
   "outputs": [],
   "source": [
    "resultados_exames.to_csv('resultados_exames_pacientes_densos.csv', index=False, sep='|')"
   ]
  },
  {
   "cell_type": "markdown",
   "metadata": {},
   "source": [
    "## Vamos separar em dataset para cada label\n",
    "\n",
    "### Covid19 PCR"
   ]
  },
  {
   "cell_type": "code",
   "execution_count": 368,
   "metadata": {},
   "outputs": [
    {
     "data": {
      "text/html": [
       "<div>\n",
       "<style scoped>\n",
       "    .dataframe tbody tr th:only-of-type {\n",
       "        vertical-align: middle;\n",
       "    }\n",
       "\n",
       "    .dataframe tbody tr th {\n",
       "        vertical-align: top;\n",
       "    }\n",
       "\n",
       "    .dataframe thead th {\n",
       "        text-align: right;\n",
       "    }\n",
       "</style>\n",
       "<table border=\"1\" class=\"dataframe\">\n",
       "  <thead>\n",
       "    <tr style=\"text-align: right;\">\n",
       "      <th></th>\n",
       "      <th>ID_PACIENTE</th>\n",
       "      <th>DT_COLETA</th>\n",
       "      <th>DE_EXAME</th>\n",
       "      <th>DE_ANALITO</th>\n",
       "      <th>DE_RESULTADO</th>\n",
       "    </tr>\n",
       "  </thead>\n",
       "  <tbody>\n",
       "    <tr>\n",
       "      <th>348</th>\n",
       "      <td>000085C48A31F50AE4F147392F6F35CF</td>\n",
       "      <td>22/05/2020</td>\n",
       "      <td>NOVO CORONAVÍRUS 2019 (SARS-CoV-2), DETECÇÃO P...</td>\n",
       "      <td>Covid 19, Detecção por PCR</td>\n",
       "      <td>0</td>\n",
       "    </tr>\n",
       "    <tr>\n",
       "      <th>425</th>\n",
       "      <td>00029A8E0091126C7A0D22568D37C5AA</td>\n",
       "      <td>20/05/2020</td>\n",
       "      <td>NOVO CORONAVÍRUS 2019 (SARS-CoV-2), DETECÇÃO P...</td>\n",
       "      <td>Covid 19, Detecção por PCR</td>\n",
       "      <td>0</td>\n",
       "    </tr>\n",
       "    <tr>\n",
       "      <th>607</th>\n",
       "      <td>0005E27C2FE72D781FC713004443FEA3</td>\n",
       "      <td>22/04/2020</td>\n",
       "      <td>NOVO CORONAVÍRUS 2019 (SARS-CoV-2), DETECÇÃO P...</td>\n",
       "      <td>Covid 19, Detecção por PCR</td>\n",
       "      <td>0</td>\n",
       "    </tr>\n",
       "    <tr>\n",
       "      <th>698</th>\n",
       "      <td>000CD49E7C56F5A9DFFA9C831CD621F7</td>\n",
       "      <td>01/06/2020</td>\n",
       "      <td>NOVO CORONAVÍRUS 2019 (SARS-CoV-2), DETECÇÃO P...</td>\n",
       "      <td>Covid 19, Detecção por PCR</td>\n",
       "      <td>1</td>\n",
       "    </tr>\n",
       "    <tr>\n",
       "      <th>864</th>\n",
       "      <td>00125406784443918658079BE96D4397</td>\n",
       "      <td>10/06/2020</td>\n",
       "      <td>NOVO CORONAVÍRUS 2019 (SARS-CoV-2), DETECÇÃO P...</td>\n",
       "      <td>Covid 19, Detecção por PCR</td>\n",
       "      <td>1</td>\n",
       "    </tr>\n",
       "    <tr>\n",
       "      <th>...</th>\n",
       "      <td>...</td>\n",
       "      <td>...</td>\n",
       "      <td>...</td>\n",
       "      <td>...</td>\n",
       "      <td>...</td>\n",
       "    </tr>\n",
       "    <tr>\n",
       "      <th>2492425</th>\n",
       "      <td>FFD5ACEB7EF7CEF057A71A80620604FB</td>\n",
       "      <td>02/06/2020</td>\n",
       "      <td>NOVO CORONAVÍRUS 2019 (SARS-CoV-2), DETECÇÃO P...</td>\n",
       "      <td>Covid 19, Detecção por PCR</td>\n",
       "      <td>1</td>\n",
       "    </tr>\n",
       "    <tr>\n",
       "      <th>2493009</th>\n",
       "      <td>FFE4087BE81DEB1BEFE175A933720780</td>\n",
       "      <td>04/05/2020</td>\n",
       "      <td>NOVO CORONAVÍRUS 2019 (SARS-CoV-2), DETECÇÃO P...</td>\n",
       "      <td>Covid 19, Detecção por PCR</td>\n",
       "      <td>1</td>\n",
       "    </tr>\n",
       "    <tr>\n",
       "      <th>2493241</th>\n",
       "      <td>FFED17CF58D8643F298D45D30DC5CED0</td>\n",
       "      <td>05/05/2020</td>\n",
       "      <td>NOVO CORONAVÍRUS 2019 (SARS-CoV-2), DETECÇÃO P...</td>\n",
       "      <td>Covid 19, Detecção por PCR</td>\n",
       "      <td>0</td>\n",
       "    </tr>\n",
       "    <tr>\n",
       "      <th>2493431</th>\n",
       "      <td>FFF04BC909F4AC6EFB11B94FC5FAFDEE</td>\n",
       "      <td>02/06/2020</td>\n",
       "      <td>NOVO CORONAVÍRUS 2019 (SARS-CoV-2), DETECÇÃO P...</td>\n",
       "      <td>Covid 19, Detecção por PCR</td>\n",
       "      <td>0</td>\n",
       "    </tr>\n",
       "    <tr>\n",
       "      <th>2494079</th>\n",
       "      <td>FFFB34F871D6727F0B9CEBF5F00F8314</td>\n",
       "      <td>07/04/2020</td>\n",
       "      <td>NOVO CORONAVÍRUS 2019 (SARS-CoV-2), DETECÇÃO P...</td>\n",
       "      <td>Covid 19, Detecção por PCR</td>\n",
       "      <td>0</td>\n",
       "    </tr>\n",
       "  </tbody>\n",
       "</table>\n",
       "<p>9117 rows × 5 columns</p>\n",
       "</div>"
      ],
      "text/plain": [
       "                              ID_PACIENTE   DT_COLETA  \\\n",
       "348      000085C48A31F50AE4F147392F6F35CF  22/05/2020   \n",
       "425      00029A8E0091126C7A0D22568D37C5AA  20/05/2020   \n",
       "607      0005E27C2FE72D781FC713004443FEA3  22/04/2020   \n",
       "698      000CD49E7C56F5A9DFFA9C831CD621F7  01/06/2020   \n",
       "864      00125406784443918658079BE96D4397  10/06/2020   \n",
       "...                                   ...         ...   \n",
       "2492425  FFD5ACEB7EF7CEF057A71A80620604FB  02/06/2020   \n",
       "2493009  FFE4087BE81DEB1BEFE175A933720780  04/05/2020   \n",
       "2493241  FFED17CF58D8643F298D45D30DC5CED0  05/05/2020   \n",
       "2493431  FFF04BC909F4AC6EFB11B94FC5FAFDEE  02/06/2020   \n",
       "2494079  FFFB34F871D6727F0B9CEBF5F00F8314  07/04/2020   \n",
       "\n",
       "                                                  DE_EXAME  \\\n",
       "348      NOVO CORONAVÍRUS 2019 (SARS-CoV-2), DETECÇÃO P...   \n",
       "425      NOVO CORONAVÍRUS 2019 (SARS-CoV-2), DETECÇÃO P...   \n",
       "607      NOVO CORONAVÍRUS 2019 (SARS-CoV-2), DETECÇÃO P...   \n",
       "698      NOVO CORONAVÍRUS 2019 (SARS-CoV-2), DETECÇÃO P...   \n",
       "864      NOVO CORONAVÍRUS 2019 (SARS-CoV-2), DETECÇÃO P...   \n",
       "...                                                    ...   \n",
       "2492425  NOVO CORONAVÍRUS 2019 (SARS-CoV-2), DETECÇÃO P...   \n",
       "2493009  NOVO CORONAVÍRUS 2019 (SARS-CoV-2), DETECÇÃO P...   \n",
       "2493241  NOVO CORONAVÍRUS 2019 (SARS-CoV-2), DETECÇÃO P...   \n",
       "2493431  NOVO CORONAVÍRUS 2019 (SARS-CoV-2), DETECÇÃO P...   \n",
       "2494079  NOVO CORONAVÍRUS 2019 (SARS-CoV-2), DETECÇÃO P...   \n",
       "\n",
       "                         DE_ANALITO DE_RESULTADO  \n",
       "348      Covid 19, Detecção por PCR            0  \n",
       "425      Covid 19, Detecção por PCR            0  \n",
       "607      Covid 19, Detecção por PCR            0  \n",
       "698      Covid 19, Detecção por PCR            1  \n",
       "864      Covid 19, Detecção por PCR            1  \n",
       "...                             ...          ...  \n",
       "2492425  Covid 19, Detecção por PCR            1  \n",
       "2493009  Covid 19, Detecção por PCR            1  \n",
       "2493241  Covid 19, Detecção por PCR            0  \n",
       "2493431  Covid 19, Detecção por PCR            0  \n",
       "2494079  Covid 19, Detecção por PCR            0  \n",
       "\n",
       "[9117 rows x 5 columns]"
      ]
     },
     "execution_count": 368,
     "metadata": {},
     "output_type": "execute_result"
    }
   ],
   "source": [
    "resultados_exames[resultados_exames['DE_ANALITO'] == 'Covid 19, Detecção por PCR']"
   ]
  },
  {
   "cell_type": "code",
   "execution_count": 375,
   "metadata": {},
   "outputs": [],
   "source": [
    "pacientes_covid19_PCR = resultados_exames.loc[resultados_exames['DE_ANALITO'] == 'Covid 19, Detecção por PCR', 'ID_PACIENTE'].values"
   ]
  },
  {
   "cell_type": "code",
   "execution_count": 376,
   "metadata": {},
   "outputs": [],
   "source": [
    "resultados_exames_covid19 = resultados_exames[resultados_exames['ID_PACIENTE'].isin(pacientes_covid19_PCR)]"
   ]
  },
  {
   "cell_type": "code",
   "execution_count": 377,
   "metadata": {},
   "outputs": [
    {
     "data": {
      "text/plain": [
       "(586943, 5)"
      ]
     },
     "execution_count": 377,
     "metadata": {},
     "output_type": "execute_result"
    }
   ],
   "source": [
    "resultados_exames_covid19.shape"
   ]
  },
  {
   "cell_type": "code",
   "execution_count": 378,
   "metadata": {},
   "outputs": [
    {
     "data": {
      "text/html": [
       "<div>\n",
       "<style scoped>\n",
       "    .dataframe tbody tr th:only-of-type {\n",
       "        vertical-align: middle;\n",
       "    }\n",
       "\n",
       "    .dataframe tbody tr th {\n",
       "        vertical-align: top;\n",
       "    }\n",
       "\n",
       "    .dataframe thead th {\n",
       "        text-align: right;\n",
       "    }\n",
       "</style>\n",
       "<table border=\"1\" class=\"dataframe\">\n",
       "  <thead>\n",
       "    <tr style=\"text-align: right;\">\n",
       "      <th></th>\n",
       "      <th>ID_PACIENTE</th>\n",
       "      <th>DT_COLETA</th>\n",
       "      <th>DE_EXAME</th>\n",
       "      <th>DE_ANALITO</th>\n",
       "      <th>DE_RESULTADO</th>\n",
       "    </tr>\n",
       "  </thead>\n",
       "  <tbody>\n",
       "    <tr>\n",
       "      <th>150</th>\n",
       "      <td>000085C48A31F50AE4F147392F6F35CF</td>\n",
       "      <td>01/06/2020</td>\n",
       "      <td>25 HIDROXI-VITAMINA D, soro</td>\n",
       "      <td>25 Hidroxi - vitamina D</td>\n",
       "      <td>62</td>\n",
       "    </tr>\n",
       "    <tr>\n",
       "      <th>151</th>\n",
       "      <td>000085C48A31F50AE4F147392F6F35CF</td>\n",
       "      <td>01/06/2020</td>\n",
       "      <td>ACIDO URICO, soro</td>\n",
       "      <td>Ácido Úrico, soro</td>\n",
       "      <td>4,6</td>\n",
       "    </tr>\n",
       "    <tr>\n",
       "      <th>152</th>\n",
       "      <td>000085C48A31F50AE4F147392F6F35CF</td>\n",
       "      <td>01/06/2020</td>\n",
       "      <td>ALBUMINA, soro</td>\n",
       "      <td>Albumina</td>\n",
       "      <td>4,2</td>\n",
       "    </tr>\n",
       "    <tr>\n",
       "      <th>153</th>\n",
       "      <td>000085C48A31F50AE4F147392F6F35CF</td>\n",
       "      <td>01/06/2020</td>\n",
       "      <td>ANTIGENO PROSTATICO ESPECIFICO(PSA), soro</td>\n",
       "      <td>PSA Total</td>\n",
       "      <td>1,5</td>\n",
       "    </tr>\n",
       "    <tr>\n",
       "      <th>154</th>\n",
       "      <td>000085C48A31F50AE4F147392F6F35CF</td>\n",
       "      <td>01/06/2020</td>\n",
       "      <td>BILIRRUBINAS, soro</td>\n",
       "      <td>Bilirrubina Direta</td>\n",
       "      <td>0,21</td>\n",
       "    </tr>\n",
       "  </tbody>\n",
       "</table>\n",
       "</div>"
      ],
      "text/plain": [
       "                          ID_PACIENTE   DT_COLETA  \\\n",
       "150  000085C48A31F50AE4F147392F6F35CF  01/06/2020   \n",
       "151  000085C48A31F50AE4F147392F6F35CF  01/06/2020   \n",
       "152  000085C48A31F50AE4F147392F6F35CF  01/06/2020   \n",
       "153  000085C48A31F50AE4F147392F6F35CF  01/06/2020   \n",
       "154  000085C48A31F50AE4F147392F6F35CF  01/06/2020   \n",
       "\n",
       "                                      DE_EXAME               DE_ANALITO  \\\n",
       "150                25 HIDROXI-VITAMINA D, soro  25 Hidroxi - vitamina D   \n",
       "151                          ACIDO URICO, soro        Ácido Úrico, soro   \n",
       "152                             ALBUMINA, soro                 Albumina   \n",
       "153  ANTIGENO PROSTATICO ESPECIFICO(PSA), soro                PSA Total   \n",
       "154                         BILIRRUBINAS, soro       Bilirrubina Direta   \n",
       "\n",
       "    DE_RESULTADO  \n",
       "150           62  \n",
       "151          4,6  \n",
       "152          4,2  \n",
       "153          1,5  \n",
       "154         0,21  "
      ]
     },
     "execution_count": 378,
     "metadata": {},
     "output_type": "execute_result"
    }
   ],
   "source": [
    "resultados_exames_covid19.head()"
   ]
  },
  {
   "cell_type": "code",
   "execution_count": 381,
   "metadata": {},
   "outputs": [
    {
     "data": {
      "text/plain": [
       "F08EBB2FD9844C9679107208DBB4AD75    5\n",
       "841EB1E4FE638D5BECBA309D10D0BD40    4\n",
       "5A3A9DFE5D87B8B75F24BDB55EEFA3E0    4\n",
       "D5ACD36E23071C2D34496045886F3125    4\n",
       "5F1AE16293D837CBCAAB5F9E7F1B01A8    4\n",
       "                                   ..\n",
       "A5124057D96987E4C4B6E04C8C3E1967    1\n",
       "9801789770A6F65B7BD163C8EE6335F7    1\n",
       "86BD7ED4537F28D43418AB0FF23B1B21    1\n",
       "3F383643E175D314186A35D7E9148A93    1\n",
       "DDBF3B1A9E48D766A17B2B32161BD039    1\n",
       "Name: ID_PACIENTE, Length: 8518, dtype: int64"
      ]
     },
     "execution_count": 381,
     "metadata": {},
     "output_type": "execute_result"
    }
   ],
   "source": [
    "resultados_exames_covid19[resultados_exames_covid19['DE_ANALITO'] == 'Covid 19, Detecção por PCR']['ID_PACIENTE'].value_counts()"
   ]
  },
  {
   "cell_type": "code",
   "execution_count": 383,
   "metadata": {},
   "outputs": [
    {
     "name": "stderr",
     "output_type": "stream",
     "text": [
      "/usr/local/lib/python3.7/dist-packages/ipykernel_launcher.py:1: SettingWithCopyWarning: \n",
      "A value is trying to be set on a copy of a slice from a DataFrame.\n",
      "Try using .loc[row_indexer,col_indexer] = value instead\n",
      "\n",
      "See the caveats in the documentation: https://pandas.pydata.org/pandas-docs/stable/user_guide/indexing.html#returning-a-view-versus-a-copy\n",
      "  \"\"\"Entry point for launching an IPython kernel.\n"
     ]
    }
   ],
   "source": [
    "resultados_exames_covid19['DT_COLETA'] =  pd.to_datetime(resultados_exames_covid19['DT_COLETA'], format='%d/%m/%Y')"
   ]
  },
  {
   "cell_type": "code",
   "execution_count": 385,
   "metadata": {},
   "outputs": [
    {
     "name": "stdout",
     "output_type": "stream",
     "text": [
      "<class 'pandas.core.frame.DataFrame'>\n",
      "Int64Index: 586943 entries, 150 to 2494118\n",
      "Data columns (total 5 columns):\n",
      " #   Column        Non-Null Count   Dtype         \n",
      "---  ------        --------------   -----         \n",
      " 0   ID_PACIENTE   586943 non-null  object        \n",
      " 1   DT_COLETA     586943 non-null  datetime64[ns]\n",
      " 2   DE_EXAME      586943 non-null  object        \n",
      " 3   DE_ANALITO    586943 non-null  object        \n",
      " 4   DE_RESULTADO  586943 non-null  object        \n",
      "dtypes: datetime64[ns](1), object(4)\n",
      "memory usage: 26.9+ MB\n"
     ]
    }
   ],
   "source": [
    "resultados_exames_covid19.info()"
   ]
  },
  {
   "cell_type": "code",
   "execution_count": 390,
   "metadata": {},
   "outputs": [],
   "source": [
    "resultados_pcr = resultados_exames_covid19[resultados_exames_covid19['DE_ANALITO'] == 'Covid 19, Detecção por PCR']"
   ]
  },
  {
   "cell_type": "markdown",
   "metadata": {},
   "source": [
    "Progreção de contagio segundo as datas"
   ]
  },
  {
   "cell_type": "code",
   "execution_count": 393,
   "metadata": {},
   "outputs": [],
   "source": [
    "resultados_pcr_prograsao = resultados_pcr.groupby(['ID_PACIENTE'], sort=False) \\\n",
    "                            .apply(lambda x: x.sort_values(['DT_COLETA'], ascending=True)) \\\n",
    "                            .reset_index(drop=True)\n",
    "resultados_pcr_prograsao.to_csv('resultados_pcr_prograsao.csv', encoding='utf-8', sep='|', index=False)"
   ]
  },
  {
   "cell_type": "markdown",
   "metadata": {},
   "source": [
    "Guardamos o resultado da ultima data"
   ]
  },
  {
   "cell_type": "code",
   "execution_count": 400,
   "metadata": {},
   "outputs": [],
   "source": [
    "paciente_covid_resultado_final = resultados_pcr.loc[resultados_pcr.groupby('ID_PACIENTE').DT_COLETA.idxmax()]"
   ]
  },
  {
   "cell_type": "code",
   "execution_count": 401,
   "metadata": {},
   "outputs": [],
   "source": [
    "paciente_covid_resultado_final.to_csv('paciente_covid_resultado_final.csv', encoding='utf-8', sep='|', index=False)"
   ]
  },
  {
   "cell_type": "code",
   "execution_count": 408,
   "metadata": {},
   "outputs": [],
   "source": [
    "resultados_exames_covid19.to_csv('resultados_exames_covid19.csv', encoding='utf-8', sep='|', index=False)"
   ]
  },
  {
   "cell_type": "code",
   "execution_count": null,
   "metadata": {},
   "outputs": [],
   "source": [
    "col_names = ['ID_PACIENTE', 'DT_COLETA', 'DE_EXAME', 'DE_ANALITO', 'DE_RESULTADO']\n",
    "resultados_exames_covid19 = pd.read_csv('resultados_exames_covid19.csv', sep='|', names=col_names)"
   ]
  },
  {
   "cell_type": "markdown",
   "metadata": {},
   "source": [
    "Separamos os DE_ANALITICOS em colunas para que sejam nossas features, pegamos os 30 exames com mais quantidade de vezes feito."
   ]
  },
  {
   "cell_type": "code",
   "execution_count": 407,
   "metadata": {},
   "outputs": [
    {
     "data": {
      "text/plain": [
       "Hematócrito                                11927\n",
       "Concentração de Hemoglobina Corpuscular    11927\n",
       "Leucócitos                                 11927\n",
       "Hemoglobina Corpuscular Média              11927\n",
       "Linfócitos (%)                             11927\n",
       "Plaquetas                                  11927\n",
       "Monócitos (%)                              11927\n",
       "Eritrócitos                                11927\n",
       "VCM                                        11927\n",
       "Neutrófilos (%)                            11927\n",
       "Hemoglobina                                11926\n",
       "Morfologia, Série Branca                   11926\n",
       "Basófilos (%)                              11926\n",
       "Eosinófilos (%)                            11926\n",
       "Morfologia, Série Vermelha                 11926\n",
       "RDW                                        11925\n",
       "Volume plaquetário médio                   11662\n",
       "Covid 19, Detecção por PCR                  9117\n",
       "Creatinina                                  8986\n",
       "Glicose                                     8462\n",
       "ALT (TGP)                                   8359\n",
       "AST (TGO)                                   8283\n",
       "Uréia                                       7877\n",
       "Hormônio Tiroestimulante                    7521\n",
       "Triglicérides                               7173\n",
       "Colesterol total                            7141\n",
       "HDL-Colesterol                              7097\n",
       "LDL-Colesterol                              6955\n",
       "Colesterol não-HDL, soro                    6948\n",
       "VLDL-Colesterol                             6699\n",
       "Name: DE_ANALITO, dtype: int64"
      ]
     },
     "execution_count": 407,
     "metadata": {},
     "output_type": "execute_result"
    }
   ],
   "source": [
    "resultados_exames_covid19.DE_ANALITO.value_counts()[:30]"
   ]
  }
 ],
 "metadata": {
  "kernelspec": {
   "display_name": "Python 3",
   "language": "python",
   "name": "python3"
  },
  "language_info": {
   "codemirror_mode": {
    "name": "ipython",
    "version": 3
   },
   "file_extension": ".py",
   "mimetype": "text/x-python",
   "name": "python",
   "nbconvert_exporter": "python",
   "pygments_lexer": "ipython3",
   "version": "3.7.5"
  }
 },
 "nbformat": 4,
 "nbformat_minor": 4
}
