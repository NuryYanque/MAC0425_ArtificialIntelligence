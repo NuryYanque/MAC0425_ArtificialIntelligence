{
 "cells": [
  {
   "cell_type": "markdown",
   "metadata": {},
   "source": [
    "# Grupo Fleury Dataset\n",
    "Vou analizar os dados disponibilizados pelo Grupo Fleury, que são esses dos arquivos\n",
    "- Grupo_Fleury_Dataset_Covid19_Resultados_Exames.csv\n",
    "- Grupo_Fleury_Dataset_Covid19_Pacientes.csv\n",
    "\n",
    "Primeiro vamos analizar o arquivo dos Pacientes do Covid 19 no grupo Fleury"
   ]
  },
  {
   "cell_type": "code",
   "execution_count": 2,
   "metadata": {},
   "outputs": [],
   "source": [
    "import pandas as pd"
   ]
  },
  {
   "cell_type": "code",
   "execution_count": 2,
   "metadata": {},
   "outputs": [],
   "source": [
    "pacientes = pd.read_csv('Grupo_Fleury_Dataset_Covid19_Pacientes.csv', sep='|')"
   ]
  },
  {
   "cell_type": "code",
   "execution_count": 3,
   "metadata": {},
   "outputs": [
    {
     "data": {
      "text/plain": [
       "(129596, 7)"
      ]
     },
     "execution_count": 3,
     "metadata": {},
     "output_type": "execute_result"
    }
   ],
   "source": [
    "pacientes.shape"
   ]
  },
  {
   "cell_type": "markdown",
   "metadata": {},
   "source": [
    "Temos 129596 pacientes"
   ]
  },
  {
   "cell_type": "code",
   "execution_count": 4,
   "metadata": {},
   "outputs": [
    {
     "data": {
      "text/html": [
       "<div>\n",
       "<style scoped>\n",
       "    .dataframe tbody tr th:only-of-type {\n",
       "        vertical-align: middle;\n",
       "    }\n",
       "\n",
       "    .dataframe tbody tr th {\n",
       "        vertical-align: top;\n",
       "    }\n",
       "\n",
       "    .dataframe thead th {\n",
       "        text-align: right;\n",
       "    }\n",
       "</style>\n",
       "<table border=\"1\" class=\"dataframe\">\n",
       "  <thead>\n",
       "    <tr style=\"text-align: right;\">\n",
       "      <th></th>\n",
       "      <th>ID_PACIENTE</th>\n",
       "      <th>IC_SEXO</th>\n",
       "      <th>AA_NASCIMENTO</th>\n",
       "      <th>CD_PAIS</th>\n",
       "      <th>CD_UF</th>\n",
       "      <th>CD_MUNICIPIO</th>\n",
       "      <th>CD_CEP</th>\n",
       "    </tr>\n",
       "  </thead>\n",
       "  <tbody>\n",
       "    <tr>\n",
       "      <th>0</th>\n",
       "      <td>1AD07C7A1E4D80B608DD7A650766CCF0</td>\n",
       "      <td>M</td>\n",
       "      <td>1961</td>\n",
       "      <td>Brasil</td>\n",
       "      <td>SP</td>\n",
       "      <td>SAO PAULO</td>\n",
       "      <td>CCCC</td>\n",
       "    </tr>\n",
       "    <tr>\n",
       "      <th>1</th>\n",
       "      <td>7B10786D64F27D7732503D915A38DE6F</td>\n",
       "      <td>M</td>\n",
       "      <td>1945</td>\n",
       "      <td>Brasil</td>\n",
       "      <td>SP</td>\n",
       "      <td>SAO PAULO</td>\n",
       "      <td>CCCC</td>\n",
       "    </tr>\n",
       "    <tr>\n",
       "      <th>2</th>\n",
       "      <td>83C018729869BB1BAB8819021D8E048E</td>\n",
       "      <td>F</td>\n",
       "      <td>1973</td>\n",
       "      <td>Brasil</td>\n",
       "      <td>SP</td>\n",
       "      <td>SAO PAULO</td>\n",
       "      <td>CCCC</td>\n",
       "    </tr>\n",
       "    <tr>\n",
       "      <th>3</th>\n",
       "      <td>74F422BB575BF224F676EE88DD77301F</td>\n",
       "      <td>M</td>\n",
       "      <td>2000</td>\n",
       "      <td>Brasil</td>\n",
       "      <td>SP</td>\n",
       "      <td>SAO PAULO</td>\n",
       "      <td>CCCC</td>\n",
       "    </tr>\n",
       "    <tr>\n",
       "      <th>4</th>\n",
       "      <td>3EDBAA8DBC42EE7F1CBBE2482B8CE42D</td>\n",
       "      <td>M</td>\n",
       "      <td>1972</td>\n",
       "      <td>Brasil</td>\n",
       "      <td>SP</td>\n",
       "      <td>SAO PAULO</td>\n",
       "      <td>CCCC</td>\n",
       "    </tr>\n",
       "  </tbody>\n",
       "</table>\n",
       "</div>"
      ],
      "text/plain": [
       "                        ID_PACIENTE IC_SEXO AA_NASCIMENTO CD_PAIS CD_UF  \\\n",
       "0  1AD07C7A1E4D80B608DD7A650766CCF0       M          1961  Brasil    SP   \n",
       "1  7B10786D64F27D7732503D915A38DE6F       M          1945  Brasil    SP   \n",
       "2  83C018729869BB1BAB8819021D8E048E       F          1973  Brasil    SP   \n",
       "3  74F422BB575BF224F676EE88DD77301F       M          2000  Brasil    SP   \n",
       "4  3EDBAA8DBC42EE7F1CBBE2482B8CE42D       M          1972  Brasil    SP   \n",
       "\n",
       "  CD_MUNICIPIO CD_CEP  \n",
       "0    SAO PAULO   CCCC  \n",
       "1    SAO PAULO   CCCC  \n",
       "2    SAO PAULO   CCCC  \n",
       "3    SAO PAULO   CCCC  \n",
       "4    SAO PAULO   CCCC  "
      ]
     },
     "execution_count": 4,
     "metadata": {},
     "output_type": "execute_result"
    }
   ],
   "source": [
    "pacientes.head()"
   ]
  },
  {
   "cell_type": "markdown",
   "metadata": {},
   "source": [
    "Será que temos registros duplicados, caso sim vamos a deletar os registros duplicados"
   ]
  },
  {
   "cell_type": "code",
   "execution_count": 8,
   "metadata": {},
   "outputs": [],
   "source": [
    "!sort -u Grupo_Fleury_Dataset_Covid19_Pacientes.csv > Covid19_Pacientes.csv"
   ]
  },
  {
   "cell_type": "markdown",
   "metadata": {},
   "source": [
    "Lemos o arquivo sem registros duplicados que é **Covid19_Pacientes.csv**"
   ]
  },
  {
   "cell_type": "code",
   "execution_count": 35,
   "metadata": {},
   "outputs": [],
   "source": [
    "pacientes = pd.read_csv('Covid19_Pacientes.csv', sep='|')"
   ]
  },
  {
   "cell_type": "code",
   "execution_count": 36,
   "metadata": {},
   "outputs": [
    {
     "data": {
      "text/plain": [
       "(129596, 7)"
      ]
     },
     "execution_count": 36,
     "metadata": {},
     "output_type": "execute_result"
    }
   ],
   "source": [
    "pacientes.shape"
   ]
  },
  {
   "cell_type": "markdown",
   "metadata": {},
   "source": [
    "Note-se que o numero de registros é igual do que o arquivo original, isto quer dizer que não se acharam registros duplicados. Porem o primeiro registro passou a ser header e o header passou a ser registro, vamos arrumar isto."
   ]
  },
  {
   "cell_type": "code",
   "execution_count": 37,
   "metadata": {},
   "outputs": [
    {
     "data": {
      "text/html": [
       "<div>\n",
       "<style scoped>\n",
       "    .dataframe tbody tr th:only-of-type {\n",
       "        vertical-align: middle;\n",
       "    }\n",
       "\n",
       "    .dataframe tbody tr th {\n",
       "        vertical-align: top;\n",
       "    }\n",
       "\n",
       "    .dataframe thead th {\n",
       "        text-align: right;\n",
       "    }\n",
       "</style>\n",
       "<table border=\"1\" class=\"dataframe\">\n",
       "  <thead>\n",
       "    <tr style=\"text-align: right;\">\n",
       "      <th></th>\n",
       "      <th>00007BB4274722A63A38D415ACCD7705</th>\n",
       "      <th>F</th>\n",
       "      <th>1955</th>\n",
       "      <th>Brasil</th>\n",
       "      <th>RJ</th>\n",
       "      <th>MMMM</th>\n",
       "      <th>CCCC</th>\n",
       "    </tr>\n",
       "  </thead>\n",
       "  <tbody>\n",
       "    <tr>\n",
       "      <th>129595</th>\n",
       "      <td>ID_PACIENTE</td>\n",
       "      <td>IC_SEXO</td>\n",
       "      <td>AA_NASCIMENTO</td>\n",
       "      <td>CD_PAIS</td>\n",
       "      <td>CD_UF</td>\n",
       "      <td>CD_MUNICIPIO</td>\n",
       "      <td>CD_CEP</td>\n",
       "    </tr>\n",
       "  </tbody>\n",
       "</table>\n",
       "</div>"
      ],
      "text/plain": [
       "       00007BB4274722A63A38D415ACCD7705        F           1955   Brasil  \\\n",
       "129595                      ID_PACIENTE  IC_SEXO  AA_NASCIMENTO  CD_PAIS   \n",
       "\n",
       "           RJ          MMMM    CCCC  \n",
       "129595  CD_UF  CD_MUNICIPIO  CD_CEP  "
      ]
     },
     "execution_count": 37,
     "metadata": {},
     "output_type": "execute_result"
    }
   ],
   "source": [
    "pacientes.tail(1)"
   ]
  },
  {
   "cell_type": "code",
   "execution_count": 38,
   "metadata": {},
   "outputs": [
    {
     "data": {
      "text/html": [
       "<div>\n",
       "<style scoped>\n",
       "    .dataframe tbody tr th:only-of-type {\n",
       "        vertical-align: middle;\n",
       "    }\n",
       "\n",
       "    .dataframe tbody tr th {\n",
       "        vertical-align: top;\n",
       "    }\n",
       "\n",
       "    .dataframe thead th {\n",
       "        text-align: right;\n",
       "    }\n",
       "</style>\n",
       "<table border=\"1\" class=\"dataframe\">\n",
       "  <thead>\n",
       "    <tr style=\"text-align: right;\">\n",
       "      <th></th>\n",
       "      <th>00007BB4274722A63A38D415ACCD7705</th>\n",
       "      <th>F</th>\n",
       "      <th>1955</th>\n",
       "      <th>Brasil</th>\n",
       "      <th>RJ</th>\n",
       "      <th>MMMM</th>\n",
       "      <th>CCCC</th>\n",
       "    </tr>\n",
       "  </thead>\n",
       "  <tbody>\n",
       "    <tr>\n",
       "      <th>0</th>\n",
       "      <td>000085C48A31F50AE4F147392F6F35CF</td>\n",
       "      <td>M</td>\n",
       "      <td>1972</td>\n",
       "      <td>Brasil</td>\n",
       "      <td>RJ</td>\n",
       "      <td>RIO DE JANEIRO</td>\n",
       "      <td>CCCC</td>\n",
       "    </tr>\n",
       "  </tbody>\n",
       "</table>\n",
       "</div>"
      ],
      "text/plain": [
       "   00007BB4274722A63A38D415ACCD7705  F  1955  Brasil  RJ            MMMM  CCCC\n",
       "0  000085C48A31F50AE4F147392F6F35CF  M  1972  Brasil  RJ  RIO DE JANEIRO  CCCC"
      ]
     },
     "execution_count": 38,
     "metadata": {},
     "output_type": "execute_result"
    }
   ],
   "source": [
    "pacientes.head(1)"
   ]
  },
  {
   "cell_type": "code",
   "execution_count": 39,
   "metadata": {},
   "outputs": [],
   "source": [
    "col_names = ['ID_PACIENTE', 'IC_SEXO', 'AA_NASCIMENTO', 'CD_PAIS', 'CD_UF', 'CD_MUNICIPIO', 'CD_CEP']\n",
    "pacientes = pd.read_csv('Covid19_Pacientes.csv', sep='|', names=col_names)"
   ]
  },
  {
   "cell_type": "code",
   "execution_count": 40,
   "metadata": {},
   "outputs": [
    {
     "data": {
      "text/html": [
       "<div>\n",
       "<style scoped>\n",
       "    .dataframe tbody tr th:only-of-type {\n",
       "        vertical-align: middle;\n",
       "    }\n",
       "\n",
       "    .dataframe tbody tr th {\n",
       "        vertical-align: top;\n",
       "    }\n",
       "\n",
       "    .dataframe thead th {\n",
       "        text-align: right;\n",
       "    }\n",
       "</style>\n",
       "<table border=\"1\" class=\"dataframe\">\n",
       "  <thead>\n",
       "    <tr style=\"text-align: right;\">\n",
       "      <th></th>\n",
       "      <th>ID_PACIENTE</th>\n",
       "      <th>IC_SEXO</th>\n",
       "      <th>AA_NASCIMENTO</th>\n",
       "      <th>CD_PAIS</th>\n",
       "      <th>CD_UF</th>\n",
       "      <th>CD_MUNICIPIO</th>\n",
       "      <th>CD_CEP</th>\n",
       "    </tr>\n",
       "  </thead>\n",
       "  <tbody>\n",
       "    <tr>\n",
       "      <th>0</th>\n",
       "      <td>00007BB4274722A63A38D415ACCD7705</td>\n",
       "      <td>F</td>\n",
       "      <td>1955</td>\n",
       "      <td>Brasil</td>\n",
       "      <td>RJ</td>\n",
       "      <td>MMMM</td>\n",
       "      <td>CCCC</td>\n",
       "    </tr>\n",
       "    <tr>\n",
       "      <th>1</th>\n",
       "      <td>000085C48A31F50AE4F147392F6F35CF</td>\n",
       "      <td>M</td>\n",
       "      <td>1972</td>\n",
       "      <td>Brasil</td>\n",
       "      <td>RJ</td>\n",
       "      <td>RIO DE JANEIRO</td>\n",
       "      <td>CCCC</td>\n",
       "    </tr>\n",
       "    <tr>\n",
       "      <th>2</th>\n",
       "      <td>0000A150D4C8B92A4F8D280C6D4656B0</td>\n",
       "      <td>M</td>\n",
       "      <td>2020</td>\n",
       "      <td>Brasil</td>\n",
       "      <td>RJ</td>\n",
       "      <td>MMMM</td>\n",
       "      <td>CCCC</td>\n",
       "    </tr>\n",
       "    <tr>\n",
       "      <th>3</th>\n",
       "      <td>000230CE71238C85771268A5B7D807BC</td>\n",
       "      <td>F</td>\n",
       "      <td>1989</td>\n",
       "      <td>Brasil</td>\n",
       "      <td>RJ</td>\n",
       "      <td>MMMM</td>\n",
       "      <td>CCCC</td>\n",
       "    </tr>\n",
       "    <tr>\n",
       "      <th>4</th>\n",
       "      <td>0002632EFE862D6479C37F4E21AE33AB</td>\n",
       "      <td>M</td>\n",
       "      <td>1981</td>\n",
       "      <td>Brasil</td>\n",
       "      <td>SP</td>\n",
       "      <td>SAO PAULO</td>\n",
       "      <td>01455</td>\n",
       "    </tr>\n",
       "  </tbody>\n",
       "</table>\n",
       "</div>"
      ],
      "text/plain": [
       "                        ID_PACIENTE IC_SEXO AA_NASCIMENTO CD_PAIS CD_UF  \\\n",
       "0  00007BB4274722A63A38D415ACCD7705       F          1955  Brasil    RJ   \n",
       "1  000085C48A31F50AE4F147392F6F35CF       M          1972  Brasil    RJ   \n",
       "2  0000A150D4C8B92A4F8D280C6D4656B0       M          2020  Brasil    RJ   \n",
       "3  000230CE71238C85771268A5B7D807BC       F          1989  Brasil    RJ   \n",
       "4  0002632EFE862D6479C37F4E21AE33AB       M          1981  Brasil    SP   \n",
       "\n",
       "     CD_MUNICIPIO CD_CEP  \n",
       "0            MMMM   CCCC  \n",
       "1  RIO DE JANEIRO   CCCC  \n",
       "2            MMMM   CCCC  \n",
       "3            MMMM   CCCC  \n",
       "4       SAO PAULO  01455  "
      ]
     },
     "execution_count": 40,
     "metadata": {},
     "output_type": "execute_result"
    }
   ],
   "source": [
    "pacientes.head()"
   ]
  },
  {
   "cell_type": "markdown",
   "metadata": {},
   "source": [
    "e deletamos o ultimo registro"
   ]
  },
  {
   "cell_type": "code",
   "execution_count": 41,
   "metadata": {},
   "outputs": [
    {
     "data": {
      "text/html": [
       "<div>\n",
       "<style scoped>\n",
       "    .dataframe tbody tr th:only-of-type {\n",
       "        vertical-align: middle;\n",
       "    }\n",
       "\n",
       "    .dataframe tbody tr th {\n",
       "        vertical-align: top;\n",
       "    }\n",
       "\n",
       "    .dataframe thead th {\n",
       "        text-align: right;\n",
       "    }\n",
       "</style>\n",
       "<table border=\"1\" class=\"dataframe\">\n",
       "  <thead>\n",
       "    <tr style=\"text-align: right;\">\n",
       "      <th></th>\n",
       "      <th>ID_PACIENTE</th>\n",
       "      <th>IC_SEXO</th>\n",
       "      <th>AA_NASCIMENTO</th>\n",
       "      <th>CD_PAIS</th>\n",
       "      <th>CD_UF</th>\n",
       "      <th>CD_MUNICIPIO</th>\n",
       "      <th>CD_CEP</th>\n",
       "    </tr>\n",
       "  </thead>\n",
       "  <tbody>\n",
       "    <tr>\n",
       "      <th>129596</th>\n",
       "      <td>ID_PACIENTE</td>\n",
       "      <td>IC_SEXO</td>\n",
       "      <td>AA_NASCIMENTO</td>\n",
       "      <td>CD_PAIS</td>\n",
       "      <td>CD_UF</td>\n",
       "      <td>CD_MUNICIPIO</td>\n",
       "      <td>CD_CEP</td>\n",
       "    </tr>\n",
       "  </tbody>\n",
       "</table>\n",
       "</div>"
      ],
      "text/plain": [
       "        ID_PACIENTE  IC_SEXO  AA_NASCIMENTO  CD_PAIS  CD_UF  CD_MUNICIPIO  \\\n",
       "129596  ID_PACIENTE  IC_SEXO  AA_NASCIMENTO  CD_PAIS  CD_UF  CD_MUNICIPIO   \n",
       "\n",
       "        CD_CEP  \n",
       "129596  CD_CEP  "
      ]
     },
     "execution_count": 41,
     "metadata": {},
     "output_type": "execute_result"
    }
   ],
   "source": [
    "pacientes.tail(1)"
   ]
  },
  {
   "cell_type": "code",
   "execution_count": 42,
   "metadata": {},
   "outputs": [],
   "source": [
    "pacientes.drop(pacientes.tail(1).index, inplace=True)"
   ]
  },
  {
   "cell_type": "code",
   "execution_count": 43,
   "metadata": {},
   "outputs": [
    {
     "data": {
      "text/plain": [
       "(129596, 7)"
      ]
     },
     "execution_count": 43,
     "metadata": {},
     "output_type": "execute_result"
    }
   ],
   "source": [
    "pacientes.shape"
   ]
  },
  {
   "cell_type": "markdown",
   "metadata": {},
   "source": [
    "Analizamos as colunas"
   ]
  },
  {
   "cell_type": "code",
   "execution_count": 30,
   "metadata": {},
   "outputs": [
    {
     "name": "stdout",
     "output_type": "stream",
     "text": [
      "<class 'pandas.core.frame.DataFrame'>\n",
      "Int64Index: 129596 entries, 0 to 129595\n",
      "Data columns (total 7 columns):\n",
      " #   Column         Non-Null Count   Dtype \n",
      "---  ------         --------------   ----- \n",
      " 0   ID_PACIENTE    129596 non-null  object\n",
      " 1   IC_SEXO        129596 non-null  object\n",
      " 2   AA_NASCIMENTO  129596 non-null  object\n",
      " 3   CD_PAIS        129596 non-null  object\n",
      " 4   CD_UF          129596 non-null  object\n",
      " 5   CD_MUNICIPIO   129596 non-null  object\n",
      " 6   CD_CEP         129596 non-null  object\n",
      "dtypes: object(7)\n",
      "memory usage: 7.9+ MB\n"
     ]
    }
   ],
   "source": [
    "pacientes.info()"
   ]
  },
  {
   "cell_type": "markdown",
   "metadata": {},
   "source": [
    "Cada registro tem 7 colunas com os datos descritos acima. No dicionario de dados está descrição de cada coluna.\n",
    "\n",
    "**AA_NASCIMENTO** que é o ano de nascimento do Paciente, tem valores numericos exeto pelo string **AAAA**, segundo o dicionado de dados, esse é o valor asignado quando o ano de nascimento é igual ou anterior a 1930. Vou adicionar uma nova coluna no Dataframe que vai ser **idade** do paciente, que vai ser obtido segundo o ano de nascimento, quanto o ano for AAAA a idade do paciente deberia ser de pelo menos de 90 anos, pois estamos no ano 2020, porém vamos colocar de 95 anos que é a meia entre 90 e 100 anos."
   ]
  },
  {
   "cell_type": "code",
   "execution_count": 45,
   "metadata": {},
   "outputs": [],
   "source": [
    "def to_age(year):\n",
    "    if year == 'AAAA': return 95\n",
    "    else: return pd.Timestamp('now').year - int(year)\n",
    "    \n",
    "pacientes['idade'] = pacientes['AA_NASCIMENTO'].apply(to_age)"
   ]
  },
  {
   "cell_type": "code",
   "execution_count": 46,
   "metadata": {},
   "outputs": [
    {
     "data": {
      "text/html": [
       "<div>\n",
       "<style scoped>\n",
       "    .dataframe tbody tr th:only-of-type {\n",
       "        vertical-align: middle;\n",
       "    }\n",
       "\n",
       "    .dataframe tbody tr th {\n",
       "        vertical-align: top;\n",
       "    }\n",
       "\n",
       "    .dataframe thead th {\n",
       "        text-align: right;\n",
       "    }\n",
       "</style>\n",
       "<table border=\"1\" class=\"dataframe\">\n",
       "  <thead>\n",
       "    <tr style=\"text-align: right;\">\n",
       "      <th></th>\n",
       "      <th>ID_PACIENTE</th>\n",
       "      <th>IC_SEXO</th>\n",
       "      <th>AA_NASCIMENTO</th>\n",
       "      <th>CD_PAIS</th>\n",
       "      <th>CD_UF</th>\n",
       "      <th>CD_MUNICIPIO</th>\n",
       "      <th>CD_CEP</th>\n",
       "      <th>idade</th>\n",
       "    </tr>\n",
       "  </thead>\n",
       "  <tbody>\n",
       "    <tr>\n",
       "      <th>0</th>\n",
       "      <td>00007BB4274722A63A38D415ACCD7705</td>\n",
       "      <td>F</td>\n",
       "      <td>1955</td>\n",
       "      <td>Brasil</td>\n",
       "      <td>RJ</td>\n",
       "      <td>MMMM</td>\n",
       "      <td>CCCC</td>\n",
       "      <td>65</td>\n",
       "    </tr>\n",
       "    <tr>\n",
       "      <th>1</th>\n",
       "      <td>000085C48A31F50AE4F147392F6F35CF</td>\n",
       "      <td>M</td>\n",
       "      <td>1972</td>\n",
       "      <td>Brasil</td>\n",
       "      <td>RJ</td>\n",
       "      <td>RIO DE JANEIRO</td>\n",
       "      <td>CCCC</td>\n",
       "      <td>48</td>\n",
       "    </tr>\n",
       "    <tr>\n",
       "      <th>2</th>\n",
       "      <td>0000A150D4C8B92A4F8D280C6D4656B0</td>\n",
       "      <td>M</td>\n",
       "      <td>2020</td>\n",
       "      <td>Brasil</td>\n",
       "      <td>RJ</td>\n",
       "      <td>MMMM</td>\n",
       "      <td>CCCC</td>\n",
       "      <td>0</td>\n",
       "    </tr>\n",
       "    <tr>\n",
       "      <th>3</th>\n",
       "      <td>000230CE71238C85771268A5B7D807BC</td>\n",
       "      <td>F</td>\n",
       "      <td>1989</td>\n",
       "      <td>Brasil</td>\n",
       "      <td>RJ</td>\n",
       "      <td>MMMM</td>\n",
       "      <td>CCCC</td>\n",
       "      <td>31</td>\n",
       "    </tr>\n",
       "    <tr>\n",
       "      <th>4</th>\n",
       "      <td>0002632EFE862D6479C37F4E21AE33AB</td>\n",
       "      <td>M</td>\n",
       "      <td>1981</td>\n",
       "      <td>Brasil</td>\n",
       "      <td>SP</td>\n",
       "      <td>SAO PAULO</td>\n",
       "      <td>01455</td>\n",
       "      <td>39</td>\n",
       "    </tr>\n",
       "  </tbody>\n",
       "</table>\n",
       "</div>"
      ],
      "text/plain": [
       "                        ID_PACIENTE IC_SEXO AA_NASCIMENTO CD_PAIS CD_UF  \\\n",
       "0  00007BB4274722A63A38D415ACCD7705       F          1955  Brasil    RJ   \n",
       "1  000085C48A31F50AE4F147392F6F35CF       M          1972  Brasil    RJ   \n",
       "2  0000A150D4C8B92A4F8D280C6D4656B0       M          2020  Brasil    RJ   \n",
       "3  000230CE71238C85771268A5B7D807BC       F          1989  Brasil    RJ   \n",
       "4  0002632EFE862D6479C37F4E21AE33AB       M          1981  Brasil    SP   \n",
       "\n",
       "     CD_MUNICIPIO CD_CEP  idade  \n",
       "0            MMMM   CCCC     65  \n",
       "1  RIO DE JANEIRO   CCCC     48  \n",
       "2            MMMM   CCCC      0  \n",
       "3            MMMM   CCCC     31  \n",
       "4       SAO PAULO  01455     39  "
      ]
     },
     "execution_count": 46,
     "metadata": {},
     "output_type": "execute_result"
    }
   ],
   "source": [
    "pacientes.head()"
   ]
  },
  {
   "cell_type": "markdown",
   "metadata": {},
   "source": [
    "Analizando a varíavel **IC_SEXO**"
   ]
  },
  {
   "cell_type": "code",
   "execution_count": 47,
   "metadata": {},
   "outputs": [
    {
     "data": {
      "text/plain": [
       "array(['F', 'M'], dtype=object)"
      ]
     },
     "execution_count": 47,
     "metadata": {},
     "output_type": "execute_result"
    }
   ],
   "source": [
    "pacientes['IC_SEXO'].unique()"
   ]
  },
  {
   "cell_type": "markdown",
   "metadata": {},
   "source": [
    "Vamos mapeiar esses valores para 0 caso for F e 1 caso for M"
   ]
  },
  {
   "cell_type": "code",
   "execution_count": 48,
   "metadata": {},
   "outputs": [],
   "source": [
    "pacientes['IC_SEXO'] = pacientes['IC_SEXO'].map( {'F': 0, 'M': 1} ).astype(int)"
   ]
  },
  {
   "cell_type": "code",
   "execution_count": 49,
   "metadata": {},
   "outputs": [
    {
     "data": {
      "text/html": [
       "<div>\n",
       "<style scoped>\n",
       "    .dataframe tbody tr th:only-of-type {\n",
       "        vertical-align: middle;\n",
       "    }\n",
       "\n",
       "    .dataframe tbody tr th {\n",
       "        vertical-align: top;\n",
       "    }\n",
       "\n",
       "    .dataframe thead th {\n",
       "        text-align: right;\n",
       "    }\n",
       "</style>\n",
       "<table border=\"1\" class=\"dataframe\">\n",
       "  <thead>\n",
       "    <tr style=\"text-align: right;\">\n",
       "      <th></th>\n",
       "      <th>ID_PACIENTE</th>\n",
       "      <th>IC_SEXO</th>\n",
       "      <th>AA_NASCIMENTO</th>\n",
       "      <th>CD_PAIS</th>\n",
       "      <th>CD_UF</th>\n",
       "      <th>CD_MUNICIPIO</th>\n",
       "      <th>CD_CEP</th>\n",
       "      <th>idade</th>\n",
       "    </tr>\n",
       "  </thead>\n",
       "  <tbody>\n",
       "    <tr>\n",
       "      <th>0</th>\n",
       "      <td>00007BB4274722A63A38D415ACCD7705</td>\n",
       "      <td>0</td>\n",
       "      <td>1955</td>\n",
       "      <td>Brasil</td>\n",
       "      <td>RJ</td>\n",
       "      <td>MMMM</td>\n",
       "      <td>CCCC</td>\n",
       "      <td>65</td>\n",
       "    </tr>\n",
       "    <tr>\n",
       "      <th>1</th>\n",
       "      <td>000085C48A31F50AE4F147392F6F35CF</td>\n",
       "      <td>1</td>\n",
       "      <td>1972</td>\n",
       "      <td>Brasil</td>\n",
       "      <td>RJ</td>\n",
       "      <td>RIO DE JANEIRO</td>\n",
       "      <td>CCCC</td>\n",
       "      <td>48</td>\n",
       "    </tr>\n",
       "    <tr>\n",
       "      <th>2</th>\n",
       "      <td>0000A150D4C8B92A4F8D280C6D4656B0</td>\n",
       "      <td>1</td>\n",
       "      <td>2020</td>\n",
       "      <td>Brasil</td>\n",
       "      <td>RJ</td>\n",
       "      <td>MMMM</td>\n",
       "      <td>CCCC</td>\n",
       "      <td>0</td>\n",
       "    </tr>\n",
       "    <tr>\n",
       "      <th>3</th>\n",
       "      <td>000230CE71238C85771268A5B7D807BC</td>\n",
       "      <td>0</td>\n",
       "      <td>1989</td>\n",
       "      <td>Brasil</td>\n",
       "      <td>RJ</td>\n",
       "      <td>MMMM</td>\n",
       "      <td>CCCC</td>\n",
       "      <td>31</td>\n",
       "    </tr>\n",
       "    <tr>\n",
       "      <th>4</th>\n",
       "      <td>0002632EFE862D6479C37F4E21AE33AB</td>\n",
       "      <td>1</td>\n",
       "      <td>1981</td>\n",
       "      <td>Brasil</td>\n",
       "      <td>SP</td>\n",
       "      <td>SAO PAULO</td>\n",
       "      <td>01455</td>\n",
       "      <td>39</td>\n",
       "    </tr>\n",
       "  </tbody>\n",
       "</table>\n",
       "</div>"
      ],
      "text/plain": [
       "                        ID_PACIENTE  IC_SEXO AA_NASCIMENTO CD_PAIS CD_UF  \\\n",
       "0  00007BB4274722A63A38D415ACCD7705        0          1955  Brasil    RJ   \n",
       "1  000085C48A31F50AE4F147392F6F35CF        1          1972  Brasil    RJ   \n",
       "2  0000A150D4C8B92A4F8D280C6D4656B0        1          2020  Brasil    RJ   \n",
       "3  000230CE71238C85771268A5B7D807BC        0          1989  Brasil    RJ   \n",
       "4  0002632EFE862D6479C37F4E21AE33AB        1          1981  Brasil    SP   \n",
       "\n",
       "     CD_MUNICIPIO CD_CEP  idade  \n",
       "0            MMMM   CCCC     65  \n",
       "1  RIO DE JANEIRO   CCCC     48  \n",
       "2            MMMM   CCCC      0  \n",
       "3            MMMM   CCCC     31  \n",
       "4       SAO PAULO  01455     39  "
      ]
     },
     "execution_count": 49,
     "metadata": {},
     "output_type": "execute_result"
    }
   ],
   "source": [
    "pacientes.head()"
   ]
  },
  {
   "cell_type": "code",
   "execution_count": 50,
   "metadata": {},
   "outputs": [
    {
     "data": {
      "text/plain": [
       "array(['Brasil'], dtype=object)"
      ]
     },
     "execution_count": 50,
     "metadata": {},
     "output_type": "execute_result"
    }
   ],
   "source": [
    "pacientes['CD_PAIS'].unique()"
   ]
  },
  {
   "cell_type": "markdown",
   "metadata": {},
   "source": [
    "Apenas tem um valor, essa coluna vai ser deletada"
   ]
  },
  {
   "cell_type": "code",
   "execution_count": 51,
   "metadata": {},
   "outputs": [
    {
     "data": {
      "text/plain": [
       "array(['RJ', 'SP', 'PE', 'BA', 'PR', 'RS', 'DF', 'MG', 'AM', 'PI', 'AL',\n",
       "       'CE', 'RN', 'ES', 'PA', 'SC', 'GO', 'PB', 'MS', 'SE', 'AC', 'MA',\n",
       "       'TO', 'MT', 'RO', 'AP'], dtype=object)"
      ]
     },
     "execution_count": 51,
     "metadata": {},
     "output_type": "execute_result"
    }
   ],
   "source": [
    "pacientes['CD_UF'].unique()"
   ]
  },
  {
   "cell_type": "markdown",
   "metadata": {},
   "source": [
    "Mudamos o tipo de coluna do object para Categorical"
   ]
  },
  {
   "cell_type": "code",
   "execution_count": 53,
   "metadata": {},
   "outputs": [],
   "source": [
    "pacientes.CD_UF = pd.Categorical(pacientes.CD_UF)"
   ]
  },
  {
   "cell_type": "markdown",
   "metadata": {},
   "source": [
    "Asignamos codigos a cada valor categorico"
   ]
  },
  {
   "cell_type": "code",
   "execution_count": 54,
   "metadata": {},
   "outputs": [],
   "source": [
    "pacientes['CD_UF_CODE'] = pacientes.CD_UF.cat.codes"
   ]
  },
  {
   "cell_type": "code",
   "execution_count": 55,
   "metadata": {},
   "outputs": [
    {
     "data": {
      "text/html": [
       "<div>\n",
       "<style scoped>\n",
       "    .dataframe tbody tr th:only-of-type {\n",
       "        vertical-align: middle;\n",
       "    }\n",
       "\n",
       "    .dataframe tbody tr th {\n",
       "        vertical-align: top;\n",
       "    }\n",
       "\n",
       "    .dataframe thead th {\n",
       "        text-align: right;\n",
       "    }\n",
       "</style>\n",
       "<table border=\"1\" class=\"dataframe\">\n",
       "  <thead>\n",
       "    <tr style=\"text-align: right;\">\n",
       "      <th></th>\n",
       "      <th>ID_PACIENTE</th>\n",
       "      <th>IC_SEXO</th>\n",
       "      <th>AA_NASCIMENTO</th>\n",
       "      <th>CD_PAIS</th>\n",
       "      <th>CD_UF</th>\n",
       "      <th>CD_MUNICIPIO</th>\n",
       "      <th>CD_CEP</th>\n",
       "      <th>idade</th>\n",
       "      <th>CD_UF_CODE</th>\n",
       "    </tr>\n",
       "  </thead>\n",
       "  <tbody>\n",
       "    <tr>\n",
       "      <th>0</th>\n",
       "      <td>00007BB4274722A63A38D415ACCD7705</td>\n",
       "      <td>0</td>\n",
       "      <td>1955</td>\n",
       "      <td>Brasil</td>\n",
       "      <td>RJ</td>\n",
       "      <td>MMMM</td>\n",
       "      <td>CCCC</td>\n",
       "      <td>65</td>\n",
       "      <td>18</td>\n",
       "    </tr>\n",
       "    <tr>\n",
       "      <th>1</th>\n",
       "      <td>000085C48A31F50AE4F147392F6F35CF</td>\n",
       "      <td>1</td>\n",
       "      <td>1972</td>\n",
       "      <td>Brasil</td>\n",
       "      <td>RJ</td>\n",
       "      <td>RIO DE JANEIRO</td>\n",
       "      <td>CCCC</td>\n",
       "      <td>48</td>\n",
       "      <td>18</td>\n",
       "    </tr>\n",
       "    <tr>\n",
       "      <th>2</th>\n",
       "      <td>0000A150D4C8B92A4F8D280C6D4656B0</td>\n",
       "      <td>1</td>\n",
       "      <td>2020</td>\n",
       "      <td>Brasil</td>\n",
       "      <td>RJ</td>\n",
       "      <td>MMMM</td>\n",
       "      <td>CCCC</td>\n",
       "      <td>0</td>\n",
       "      <td>18</td>\n",
       "    </tr>\n",
       "    <tr>\n",
       "      <th>3</th>\n",
       "      <td>000230CE71238C85771268A5B7D807BC</td>\n",
       "      <td>0</td>\n",
       "      <td>1989</td>\n",
       "      <td>Brasil</td>\n",
       "      <td>RJ</td>\n",
       "      <td>MMMM</td>\n",
       "      <td>CCCC</td>\n",
       "      <td>31</td>\n",
       "      <td>18</td>\n",
       "    </tr>\n",
       "    <tr>\n",
       "      <th>4</th>\n",
       "      <td>0002632EFE862D6479C37F4E21AE33AB</td>\n",
       "      <td>1</td>\n",
       "      <td>1981</td>\n",
       "      <td>Brasil</td>\n",
       "      <td>SP</td>\n",
       "      <td>SAO PAULO</td>\n",
       "      <td>01455</td>\n",
       "      <td>39</td>\n",
       "      <td>24</td>\n",
       "    </tr>\n",
       "  </tbody>\n",
       "</table>\n",
       "</div>"
      ],
      "text/plain": [
       "                        ID_PACIENTE  IC_SEXO AA_NASCIMENTO CD_PAIS CD_UF  \\\n",
       "0  00007BB4274722A63A38D415ACCD7705        0          1955  Brasil    RJ   \n",
       "1  000085C48A31F50AE4F147392F6F35CF        1          1972  Brasil    RJ   \n",
       "2  0000A150D4C8B92A4F8D280C6D4656B0        1          2020  Brasil    RJ   \n",
       "3  000230CE71238C85771268A5B7D807BC        0          1989  Brasil    RJ   \n",
       "4  0002632EFE862D6479C37F4E21AE33AB        1          1981  Brasil    SP   \n",
       "\n",
       "     CD_MUNICIPIO CD_CEP  idade  CD_UF_CODE  \n",
       "0            MMMM   CCCC     65          18  \n",
       "1  RIO DE JANEIRO   CCCC     48          18  \n",
       "2            MMMM   CCCC      0          18  \n",
       "3            MMMM   CCCC     31          18  \n",
       "4       SAO PAULO  01455     39          24  "
      ]
     },
     "execution_count": 55,
     "metadata": {},
     "output_type": "execute_result"
    }
   ],
   "source": [
    "pacientes.head()"
   ]
  },
  {
   "cell_type": "code",
   "execution_count": 56,
   "metadata": {},
   "outputs": [
    {
     "name": "stdout",
     "output_type": "stream",
     "text": [
      "<class 'pandas.core.frame.DataFrame'>\n",
      "Int64Index: 129596 entries, 0 to 129595\n",
      "Data columns (total 9 columns):\n",
      " #   Column         Non-Null Count   Dtype   \n",
      "---  ------         --------------   -----   \n",
      " 0   ID_PACIENTE    129596 non-null  object  \n",
      " 1   IC_SEXO        129596 non-null  int64   \n",
      " 2   AA_NASCIMENTO  129596 non-null  object  \n",
      " 3   CD_PAIS        129596 non-null  object  \n",
      " 4   CD_UF          129596 non-null  category\n",
      " 5   CD_MUNICIPIO   129596 non-null  object  \n",
      " 6   CD_CEP         129596 non-null  object  \n",
      " 7   idade          129596 non-null  int64   \n",
      " 8   CD_UF_CODE     129596 non-null  int8    \n",
      "dtypes: category(1), int64(2), int8(1), object(5)\n",
      "memory usage: 8.2+ MB\n"
     ]
    }
   ],
   "source": [
    "pacientes.info()"
   ]
  },
  {
   "cell_type": "markdown",
   "metadata": {},
   "source": [
    "Seleção de varíaveis que não iremos utilizar, porque tem valores desconhecidos e outras que já utilizamos para extrair outro valor."
   ]
  },
  {
   "cell_type": "code",
   "execution_count": 61,
   "metadata": {},
   "outputs": [],
   "source": [
    "drop_colunas = ['AA_NASCIMENTO', 'CD_PAIS', 'CD_UF', 'CD_MUNICIPIO', 'CD_CEP']"
   ]
  },
  {
   "cell_type": "code",
   "execution_count": 62,
   "metadata": {},
   "outputs": [],
   "source": [
    "pacientes = pacientes.drop(drop_colunas, axis=1)"
   ]
  },
  {
   "cell_type": "code",
   "execution_count": 63,
   "metadata": {},
   "outputs": [
    {
     "data": {
      "text/html": [
       "<div>\n",
       "<style scoped>\n",
       "    .dataframe tbody tr th:only-of-type {\n",
       "        vertical-align: middle;\n",
       "    }\n",
       "\n",
       "    .dataframe tbody tr th {\n",
       "        vertical-align: top;\n",
       "    }\n",
       "\n",
       "    .dataframe thead th {\n",
       "        text-align: right;\n",
       "    }\n",
       "</style>\n",
       "<table border=\"1\" class=\"dataframe\">\n",
       "  <thead>\n",
       "    <tr style=\"text-align: right;\">\n",
       "      <th></th>\n",
       "      <th>ID_PACIENTE</th>\n",
       "      <th>IC_SEXO</th>\n",
       "      <th>idade</th>\n",
       "      <th>CD_UF_CODE</th>\n",
       "    </tr>\n",
       "  </thead>\n",
       "  <tbody>\n",
       "    <tr>\n",
       "      <th>0</th>\n",
       "      <td>00007BB4274722A63A38D415ACCD7705</td>\n",
       "      <td>0</td>\n",
       "      <td>65</td>\n",
       "      <td>18</td>\n",
       "    </tr>\n",
       "    <tr>\n",
       "      <th>1</th>\n",
       "      <td>000085C48A31F50AE4F147392F6F35CF</td>\n",
       "      <td>1</td>\n",
       "      <td>48</td>\n",
       "      <td>18</td>\n",
       "    </tr>\n",
       "    <tr>\n",
       "      <th>2</th>\n",
       "      <td>0000A150D4C8B92A4F8D280C6D4656B0</td>\n",
       "      <td>1</td>\n",
       "      <td>0</td>\n",
       "      <td>18</td>\n",
       "    </tr>\n",
       "    <tr>\n",
       "      <th>3</th>\n",
       "      <td>000230CE71238C85771268A5B7D807BC</td>\n",
       "      <td>0</td>\n",
       "      <td>31</td>\n",
       "      <td>18</td>\n",
       "    </tr>\n",
       "    <tr>\n",
       "      <th>4</th>\n",
       "      <td>0002632EFE862D6479C37F4E21AE33AB</td>\n",
       "      <td>1</td>\n",
       "      <td>39</td>\n",
       "      <td>24</td>\n",
       "    </tr>\n",
       "  </tbody>\n",
       "</table>\n",
       "</div>"
      ],
      "text/plain": [
       "                        ID_PACIENTE  IC_SEXO  idade  CD_UF_CODE\n",
       "0  00007BB4274722A63A38D415ACCD7705        0     65          18\n",
       "1  000085C48A31F50AE4F147392F6F35CF        1     48          18\n",
       "2  0000A150D4C8B92A4F8D280C6D4656B0        1      0          18\n",
       "3  000230CE71238C85771268A5B7D807BC        0     31          18\n",
       "4  0002632EFE862D6479C37F4E21AE33AB        1     39          24"
      ]
     },
     "execution_count": 63,
     "metadata": {},
     "output_type": "execute_result"
    }
   ],
   "source": [
    "pacientes.head()"
   ]
  },
  {
   "cell_type": "markdown",
   "metadata": {},
   "source": [
    "Ficamos com essas columnas e salvamos num arquivo **Covid19_Pacientes_clean.csv**"
   ]
  },
  {
   "cell_type": "code",
   "execution_count": 64,
   "metadata": {},
   "outputs": [],
   "source": [
    "pacientes.to_csv('Covid19_Pacientes_clean.csv', index=False, header=True)"
   ]
  },
  {
   "cell_type": "markdown",
   "metadata": {},
   "source": [
    "## Analise do arquivo de resultados dos examenes dos pacientes\n",
    "- Grupo_Fleury_Dataset_Covid19_Resultados_Exames.csv"
   ]
  },
  {
   "cell_type": "code",
   "execution_count": 3,
   "metadata": {},
   "outputs": [],
   "source": [
    "resultados_exames = pd.read_csv('Grupo_Fleury_Dataset_Covid19_Resultados_Exames.csv', sep='|', encoding='latin-1')"
   ]
  },
  {
   "cell_type": "code",
   "execution_count": 4,
   "metadata": {},
   "outputs": [
    {
     "data": {
      "text/plain": [
       "(2496591, 8)"
      ]
     },
     "execution_count": 4,
     "metadata": {},
     "output_type": "execute_result"
    }
   ],
   "source": [
    "resultados_exames.shape"
   ]
  },
  {
   "cell_type": "markdown",
   "metadata": {},
   "source": [
    "~2.5 milhões de registros de resutaldos dos examenes dos pacientes.\n",
    "\n",
    "Podemos ter registros repetidos, para isso fazemos o seguinte para deletar os repetidos. "
   ]
  },
  {
   "cell_type": "code",
   "execution_count": 5,
   "metadata": {},
   "outputs": [],
   "source": [
    "!sort -u Grupo_Fleury_Dataset_Covid19_Resultados_Exames.csv > Covid19_Resultados_Exames.csv"
   ]
  },
  {
   "cell_type": "markdown",
   "metadata": {},
   "source": [
    "Lemos o arquivo sem registros duplicados que é Covid19_Resultados_Exames.csv"
   ]
  },
  {
   "cell_type": "code",
   "execution_count": 6,
   "metadata": {},
   "outputs": [],
   "source": [
    "resultados_exames = pd.read_csv('Covid19_Resultados_Exames.csv', sep='|', encoding='latin-1')"
   ]
  },
  {
   "cell_type": "code",
   "execution_count": 7,
   "metadata": {},
   "outputs": [
    {
     "data": {
      "text/plain": [
       "(2494613, 8)"
      ]
     },
     "execution_count": 7,
     "metadata": {},
     "output_type": "execute_result"
    }
   ],
   "source": [
    "resultados_exames.shape"
   ]
  },
  {
   "cell_type": "markdown",
   "metadata": {},
   "source": [
    "Note-se que a quantidade de registros diminui em 1978, por tanto tinhamos 1978 registros redundantes. Aqui também acontece que os nomes de colunas passou a ser registro, arrumamos isso."
   ]
  },
  {
   "cell_type": "code",
   "execution_count": 12,
   "metadata": {},
   "outputs": [
    {
     "data": {
      "text/html": [
       "<div>\n",
       "<style scoped>\n",
       "    .dataframe tbody tr th:only-of-type {\n",
       "        vertical-align: middle;\n",
       "    }\n",
       "\n",
       "    .dataframe tbody tr th {\n",
       "        vertical-align: top;\n",
       "    }\n",
       "\n",
       "    .dataframe thead th {\n",
       "        text-align: right;\n",
       "    }\n",
       "</style>\n",
       "<table border=\"1\" class=\"dataframe\">\n",
       "  <thead>\n",
       "    <tr style=\"text-align: right;\">\n",
       "      <th></th>\n",
       "      <th>00007BB4274722A63A38D415ACCD7705</th>\n",
       "      <th>13/05/2020</th>\n",
       "      <th>LAB</th>\n",
       "      <th>25 HIDROXI-VITAMINA D, soro</th>\n",
       "      <th>25 Hidroxi - vitamina D</th>\n",
       "      <th>78</th>\n",
       "      <th>ng/mL</th>\n",
       "      <th>Unnamed: 7</th>\n",
       "    </tr>\n",
       "  </thead>\n",
       "  <tbody>\n",
       "    <tr>\n",
       "      <th>2494612</th>\n",
       "      <td>ID_PACIENTE</td>\n",
       "      <td>DT_COLETA</td>\n",
       "      <td>DE_ORIGEM</td>\n",
       "      <td>DE_EXAME</td>\n",
       "      <td>DE_ANALITO</td>\n",
       "      <td>DE_RESULTADO</td>\n",
       "      <td>CD_UNIDADE</td>\n",
       "      <td>DE_VALOR_REFERENCIA</td>\n",
       "    </tr>\n",
       "  </tbody>\n",
       "</table>\n",
       "</div>"
      ],
      "text/plain": [
       "        00007BB4274722A63A38D415ACCD7705 13/05/2020        LAB  \\\n",
       "2494612                      ID_PACIENTE  DT_COLETA  DE_ORIGEM   \n",
       "\n",
       "        25 HIDROXI-VITAMINA D, soro 25 Hidroxi - vitamina D            78  \\\n",
       "2494612                    DE_EXAME              DE_ANALITO  DE_RESULTADO   \n",
       "\n",
       "              ng/mL           Unnamed: 7  \n",
       "2494612  CD_UNIDADE  DE_VALOR_REFERENCIA  "
      ]
     },
     "execution_count": 12,
     "metadata": {},
     "output_type": "execute_result"
    }
   ],
   "source": [
    "resultados_exames.tail(1)"
   ]
  },
  {
   "cell_type": "code",
   "execution_count": 14,
   "metadata": {},
   "outputs": [],
   "source": [
    "col_names = ['ID_PACIENTE', 'DT_COLETA', 'DE_ORIGEM', 'DE_EXAME', 'DE_ANALITO', 'DE_RESULTADO', 'CD_UNIDADE', 'DE_VALOR_REFERENCIA']\n",
    "resultados_exames = pd.read_csv('Covid19_Resultados_Exames.csv', sep='|', names=col_names, encoding='latin-1')"
   ]
  },
  {
   "cell_type": "code",
   "execution_count": 15,
   "metadata": {},
   "outputs": [],
   "source": [
    "resultados_exames.drop(resultados_exames.tail(1).index, inplace=True)"
   ]
  },
  {
   "cell_type": "code",
   "execution_count": 16,
   "metadata": {},
   "outputs": [
    {
     "data": {
      "text/html": [
       "<div>\n",
       "<style scoped>\n",
       "    .dataframe tbody tr th:only-of-type {\n",
       "        vertical-align: middle;\n",
       "    }\n",
       "\n",
       "    .dataframe tbody tr th {\n",
       "        vertical-align: top;\n",
       "    }\n",
       "\n",
       "    .dataframe thead th {\n",
       "        text-align: right;\n",
       "    }\n",
       "</style>\n",
       "<table border=\"1\" class=\"dataframe\">\n",
       "  <thead>\n",
       "    <tr style=\"text-align: right;\">\n",
       "      <th></th>\n",
       "      <th>ID_PACIENTE</th>\n",
       "      <th>DT_COLETA</th>\n",
       "      <th>DE_ORIGEM</th>\n",
       "      <th>DE_EXAME</th>\n",
       "      <th>DE_ANALITO</th>\n",
       "      <th>DE_RESULTADO</th>\n",
       "      <th>CD_UNIDADE</th>\n",
       "      <th>DE_VALOR_REFERENCIA</th>\n",
       "    </tr>\n",
       "  </thead>\n",
       "  <tbody>\n",
       "    <tr>\n",
       "      <th>0</th>\n",
       "      <td>00007BB4274722A63A38D415ACCD7705</td>\n",
       "      <td>13/05/2020</td>\n",
       "      <td>LAB</td>\n",
       "      <td>25 HIDROXI-VITAMINA D, soro</td>\n",
       "      <td>25 Hidroxi - vitamina D</td>\n",
       "      <td>78</td>\n",
       "      <td>ng/mL</td>\n",
       "      <td>NaN</td>\n",
       "    </tr>\n",
       "    <tr>\n",
       "      <th>1</th>\n",
       "      <td>00007BB4274722A63A38D415ACCD7705</td>\n",
       "      <td>13/05/2020</td>\n",
       "      <td>LAB</td>\n",
       "      <td>ACIDO FOLICO, soro</td>\n",
       "      <td>Ácido fólico - Eletroquimioluminescência</td>\n",
       "      <td>18,6</td>\n",
       "      <td>ng/mL</td>\n",
       "      <td>Superior a 3,9</td>\n",
       "    </tr>\n",
       "    <tr>\n",
       "      <th>2</th>\n",
       "      <td>00007BB4274722A63A38D415ACCD7705</td>\n",
       "      <td>13/05/2020</td>\n",
       "      <td>LAB</td>\n",
       "      <td>ACIDO URICO, soro</td>\n",
       "      <td>Ácido Úrico, soro</td>\n",
       "      <td>2,7</td>\n",
       "      <td>mg/dL</td>\n",
       "      <td>2,4 a 5,7</td>\n",
       "    </tr>\n",
       "    <tr>\n",
       "      <th>3</th>\n",
       "      <td>00007BB4274722A63A38D415ACCD7705</td>\n",
       "      <td>13/05/2020</td>\n",
       "      <td>LAB</td>\n",
       "      <td>ALUMINIO, plasma</td>\n",
       "      <td>Alumínio</td>\n",
       "      <td>10</td>\n",
       "      <td>microg/L</td>\n",
       "      <td>Até 10</td>\n",
       "    </tr>\n",
       "    <tr>\n",
       "      <th>4</th>\n",
       "      <td>00007BB4274722A63A38D415ACCD7705</td>\n",
       "      <td>13/05/2020</td>\n",
       "      <td>LAB</td>\n",
       "      <td>ANTICORPOS ANTI-PEROXIDASE TIROIDIANA, soro</td>\n",
       "      <td>Anticorpos Anti-Peroxidase Tiroidiana</td>\n",
       "      <td>inferior a 34</td>\n",
       "      <td>U/mL</td>\n",
       "      <td>inferior a 34</td>\n",
       "    </tr>\n",
       "  </tbody>\n",
       "</table>\n",
       "</div>"
      ],
      "text/plain": [
       "                        ID_PACIENTE   DT_COLETA DE_ORIGEM  \\\n",
       "0  00007BB4274722A63A38D415ACCD7705  13/05/2020       LAB   \n",
       "1  00007BB4274722A63A38D415ACCD7705  13/05/2020       LAB   \n",
       "2  00007BB4274722A63A38D415ACCD7705  13/05/2020       LAB   \n",
       "3  00007BB4274722A63A38D415ACCD7705  13/05/2020       LAB   \n",
       "4  00007BB4274722A63A38D415ACCD7705  13/05/2020       LAB   \n",
       "\n",
       "                                      DE_EXAME  \\\n",
       "0                  25 HIDROXI-VITAMINA D, soro   \n",
       "1                           ACIDO FOLICO, soro   \n",
       "2                            ACIDO URICO, soro   \n",
       "3                             ALUMINIO, plasma   \n",
       "4  ANTICORPOS ANTI-PEROXIDASE TIROIDIANA, soro   \n",
       "\n",
       "                                 DE_ANALITO   DE_RESULTADO CD_UNIDADE  \\\n",
       "0                   25 Hidroxi - vitamina D             78      ng/mL   \n",
       "1  Ácido fólico - Eletroquimioluminescência           18,6      ng/mL   \n",
       "2                         Ácido Úrico, soro            2,7      mg/dL   \n",
       "3                                  Alumínio             10   microg/L   \n",
       "4     Anticorpos Anti-Peroxidase Tiroidiana  inferior a 34       U/mL   \n",
       "\n",
       "  DE_VALOR_REFERENCIA  \n",
       "0                 NaN  \n",
       "1      Superior a 3,9  \n",
       "2           2,4 a 5,7  \n",
       "3              Até 10  \n",
       "4       inferior a 34  "
      ]
     },
     "execution_count": 16,
     "metadata": {},
     "output_type": "execute_result"
    }
   ],
   "source": [
    "resultados_exames.head()"
   ]
  },
  {
   "cell_type": "code",
   "execution_count": 18,
   "metadata": {},
   "outputs": [
    {
     "name": "stdout",
     "output_type": "stream",
     "text": [
      "<class 'pandas.core.frame.DataFrame'>\n",
      "Int64Index: 2494613 entries, 0 to 2494612\n",
      "Data columns (total 8 columns):\n",
      " #   Column               Dtype \n",
      "---  ------               ----- \n",
      " 0   ID_PACIENTE          object\n",
      " 1   DT_COLETA            object\n",
      " 2   DE_ORIGEM            object\n",
      " 3   DE_EXAME             object\n",
      " 4   DE_ANALITO           object\n",
      " 5   DE_RESULTADO         object\n",
      " 6   CD_UNIDADE           object\n",
      " 7   DE_VALOR_REFERENCIA  object\n",
      "dtypes: object(8)\n",
      "memory usage: 171.3+ MB\n"
     ]
    }
   ],
   "source": [
    "resultados_exames.info()"
   ]
  },
  {
   "cell_type": "markdown",
   "metadata": {},
   "source": [
    "Vamos a calcular a densidade de cada exame e subtipo de exame, isto para ter uma noção da quantidade de vezes com que foi realizado cada exame, e poder usar ela como feature ou não."
   ]
  },
  {
   "cell_type": "code",
   "execution_count": 40,
   "metadata": {},
   "outputs": [],
   "source": [
    "exames_agrupados = resultados_exames[['DE_EXAME', 'DE_ANALITO']].groupby(['DE_EXAME', 'DE_ANALITO'])['DE_ANALITO'] \\\n",
    "                                             .count() \\\n",
    "                                             .reset_index(name=\"VEZES\") \\\n",
    "                                             .sort_values(['VEZES'], ascending=False)"
   ]
  },
  {
   "cell_type": "code",
   "execution_count": 41,
   "metadata": {},
   "outputs": [
    {
     "data": {
      "text/html": [
       "<div>\n",
       "<style scoped>\n",
       "    .dataframe tbody tr th:only-of-type {\n",
       "        vertical-align: middle;\n",
       "    }\n",
       "\n",
       "    .dataframe tbody tr th {\n",
       "        vertical-align: top;\n",
       "    }\n",
       "\n",
       "    .dataframe thead th {\n",
       "        text-align: right;\n",
       "    }\n",
       "</style>\n",
       "<table border=\"1\" class=\"dataframe\">\n",
       "  <thead>\n",
       "    <tr style=\"text-align: right;\">\n",
       "      <th></th>\n",
       "      <th>DE_EXAME</th>\n",
       "      <th>DE_ANALITO</th>\n",
       "      <th>VEZES</th>\n",
       "    </tr>\n",
       "  </thead>\n",
       "  <tbody>\n",
       "    <tr>\n",
       "      <th>277</th>\n",
       "      <td>COVID19, ANTICORPOS IgG, soro</td>\n",
       "      <td>Covid 19, Anticorpos IgG, Quimiolumin.-Índice</td>\n",
       "      <td>84996</td>\n",
       "    </tr>\n",
       "    <tr>\n",
       "      <th>279</th>\n",
       "      <td>COVID19, ANTICORPOS IgM, soro</td>\n",
       "      <td>Covid 19, Anticorpos IgM, Quimiolumin.-Índice</td>\n",
       "      <td>84986</td>\n",
       "    </tr>\n",
       "    <tr>\n",
       "      <th>278</th>\n",
       "      <td>COVID19, ANTICORPOS IgG, soro</td>\n",
       "      <td>Covid 19, Anticorpos IgG, Quimioluminescência</td>\n",
       "      <td>83767</td>\n",
       "    </tr>\n",
       "    <tr>\n",
       "      <th>280</th>\n",
       "      <td>COVID19, ANTICORPOS IgM, soro</td>\n",
       "      <td>Covid 19, Anticorpos IgM, Quimioluminescência</td>\n",
       "      <td>83753</td>\n",
       "    </tr>\n",
       "    <tr>\n",
       "      <th>797</th>\n",
       "      <td>NOVO CORONAVÍRUS 2019 (SARS-CoV-2), DETECÇÃO P...</td>\n",
       "      <td>Covid 19, Detecção por PCR</td>\n",
       "      <td>50223</td>\n",
       "    </tr>\n",
       "    <tr>\n",
       "      <th>...</th>\n",
       "      <td>...</td>\n",
       "      <td>...</td>\n",
       "      <td>...</td>\n",
       "    </tr>\n",
       "    <tr>\n",
       "      <th>945</th>\n",
       "      <td>QUANTIFICACAO DE INIBIDOR DE FATOR IX, plasma</td>\n",
       "      <td>Dosagem de fator IX</td>\n",
       "      <td>1</td>\n",
       "    </tr>\n",
       "    <tr>\n",
       "      <th>1141</th>\n",
       "      <td>TRIAGEM DE ANFETAMINAS E METANFETAMINAS, urina</td>\n",
       "      <td>Anfetaminas e Metanfetaminas, urina</td>\n",
       "      <td>1</td>\n",
       "    </tr>\n",
       "    <tr>\n",
       "      <th>759</th>\n",
       "      <td>MAG, ANTICORPOS, soro</td>\n",
       "      <td>MAG, anticorpos</td>\n",
       "      <td>1</td>\n",
       "    </tr>\n",
       "    <tr>\n",
       "      <th>852</th>\n",
       "      <td>PESQUISA DE MICROSPORIDIA NAS FEZES</td>\n",
       "      <td>Microsporidia, pesquisa, fezes</td>\n",
       "      <td>1</td>\n",
       "    </tr>\n",
       "    <tr>\n",
       "      <th>731</th>\n",
       "      <td>JO-1, AUTO-ANTICORPOS, soro</td>\n",
       "      <td>Jo-1, Auto-Anticorpos - imunodifusão dupla</td>\n",
       "      <td>1</td>\n",
       "    </tr>\n",
       "  </tbody>\n",
       "</table>\n",
       "<p>1279 rows × 3 columns</p>\n",
       "</div>"
      ],
      "text/plain": [
       "                                               DE_EXAME  \\\n",
       "277                       COVID19, ANTICORPOS IgG, soro   \n",
       "279                       COVID19, ANTICORPOS IgM, soro   \n",
       "278                       COVID19, ANTICORPOS IgG, soro   \n",
       "280                       COVID19, ANTICORPOS IgM, soro   \n",
       "797   NOVO CORONAVÍRUS 2019 (SARS-CoV-2), DETECÇÃO P...   \n",
       "...                                                 ...   \n",
       "945       QUANTIFICACAO DE INIBIDOR DE FATOR IX, plasma   \n",
       "1141     TRIAGEM DE ANFETAMINAS E METANFETAMINAS, urina   \n",
       "759                               MAG, ANTICORPOS, soro   \n",
       "852                 PESQUISA DE MICROSPORIDIA NAS FEZES   \n",
       "731                         JO-1, AUTO-ANTICORPOS, soro   \n",
       "\n",
       "                                         DE_ANALITO  VEZES  \n",
       "277   Covid 19, Anticorpos IgG, Quimiolumin.-Índice  84996  \n",
       "279   Covid 19, Anticorpos IgM, Quimiolumin.-Índice  84986  \n",
       "278   Covid 19, Anticorpos IgG, Quimioluminescência  83767  \n",
       "280   Covid 19, Anticorpos IgM, Quimioluminescência  83753  \n",
       "797                      Covid 19, Detecção por PCR  50223  \n",
       "...                                             ...    ...  \n",
       "945                             Dosagem de fator IX      1  \n",
       "1141            Anfetaminas e Metanfetaminas, urina      1  \n",
       "759                                 MAG, anticorpos      1  \n",
       "852                  Microsporidia, pesquisa, fezes      1  \n",
       "731      Jo-1, Auto-Anticorpos - imunodifusão dupla      1  \n",
       "\n",
       "[1279 rows x 3 columns]"
      ]
     },
     "execution_count": 41,
     "metadata": {},
     "output_type": "execute_result"
    }
   ],
   "source": [
    "exames_agrupados"
   ]
  },
  {
   "cell_type": "markdown",
   "metadata": {},
   "source": [
    "Salvamos esse agrupamento de examenes num arquivo csv"
   ]
  },
  {
   "cell_type": "code",
   "execution_count": 43,
   "metadata": {},
   "outputs": [],
   "source": [
    "exames_agrupados.to_csv(r'examens_agrupados.csv', index=False, sep='|')"
   ]
  },
  {
   "cell_type": "markdown",
   "metadata": {},
   "source": [
    "Vamos analizar esses exames com detalhe.\n",
    "\n",
    "Primeiro vamos analizar quais exames que não são importantes para poder modelar o problema. Olhamos na coluna do \"DE_ANALITO\", lá encontramos registros como:\n",
    "- 'COVID 19, Material': descreve o material utilizado no PCR"
   ]
  },
  {
   "cell_type": "code",
   "execution_count": null,
   "metadata": {},
   "outputs": [],
   "source": [
    "'CITOMEGALOVIRUS, ANTICORPOS IgG, soro'  'CMV, IgG'\n",
    "'CITOMEGALOVIRUS, ANTICORPOS IgM, soro'  'CMV, IgM'\n",
    "\n",
    "'RUBEOLA, ANTICORPOS IgG, soro' 'Rubeola, IgG'\n",
    "'RUBEOLA, ANTICORPOS IgM, soro' 'Rubeola, IgM'\n",
    "\n",
    "\n",
    "'VIRUS EPSTEIN BARR (ANTIGENO DO CAPSIDEO VIRAL), ANTICORPOS IgM, soro\n",
    "' 'Epstein-Barr, IgM'\n",
    "'VIRUS EPSTEIN BARR (ANTIGENO DO CAPSIDEO VIRAL), ANTICORPOS IgG, soro\n",
    "' 'Epstein-Barr, IgG'\n",
    "\n",
    "'ZIKA VÍRUS, PESQUISA DE ANTICORPOS DA CLASSE IGM, soro' 'Zika vírus - IgM'\n",
    "'ZIKA VÍRUS, PESQUISA DE ANTICORPOS DA CLASSE IGM, soro' 'Zika vírus - IgM - Índice'\n",
    "\n",
    "'HERPES SIMPLEX, TIPO 1, ANTICORPOS IgG, soro' 'Herpes Simplex, Tipo 1, IgG'\n",
    "'HERPES SIMPLEX, TIPO 2, ANTICORPOS IgG, soro' 'Herpes Simplex, Tipo 2, IgG'\n",
    "\n",
    "'SARAMPO, ANTICORPOS IgG, soro' 'Sarampo, Anticorpos IgG'\n",
    "'SARAMPO, ANTICORPOS IgM, soro' 'Sarampo, Anticorpos IgM'\n",
    "\n",
    "'CHLAMYDIA TRACHOMATIS, ANTICORPOS IgG, soro' 'Chlamydia Trachomatis, IgG'\n",
    "\n",
    "'VARICELLA-ZOSTER VIRUS, ANTICORPOS IgG, soro' 'Varicella-Zoster, anticorpos IgG'\n",
    "\n",
    "'ZIKA VÍRUS, PESQUISA DE ANTICORPOS DA CLASSE IGG, soro'\t'Zika vírus - IgG - Índice'\n",
    "'ZIKA VÍRUS, PESQUISA DE ANTICORPOS DA CLASSE IGG, soro'\t'Zika vírus - IgG'\n"
   ]
  },
  {
   "cell_type": "markdown",
   "metadata": {},
   "source": []
  },
  {
   "cell_type": "code",
   "execution_count": null,
   "metadata": {},
   "outputs": [],
   "source": []
  },
  {
   "cell_type": "code",
   "execution_count": null,
   "metadata": {},
   "outputs": [],
   "source": []
  },
  {
   "cell_type": "code",
   "execution_count": null,
   "metadata": {},
   "outputs": [],
   "source": []
  },
  {
   "cell_type": "code",
   "execution_count": 17,
   "metadata": {},
   "outputs": [],
   "source": [
    "paciente_exame = feury_exames.groupby('ID_PACIENTE')"
   ]
  },
  {
   "cell_type": "code",
   "execution_count": 18,
   "metadata": {},
   "outputs": [
    {
     "data": {
      "text/html": [
       "<div>\n",
       "<style scoped>\n",
       "    .dataframe tbody tr th:only-of-type {\n",
       "        vertical-align: middle;\n",
       "    }\n",
       "\n",
       "    .dataframe tbody tr th {\n",
       "        vertical-align: top;\n",
       "    }\n",
       "\n",
       "    .dataframe thead th {\n",
       "        text-align: right;\n",
       "    }\n",
       "</style>\n",
       "<table border=\"1\" class=\"dataframe\">\n",
       "  <thead>\n",
       "    <tr style=\"text-align: right;\">\n",
       "      <th></th>\n",
       "      <th>ID_PACIENTE</th>\n",
       "      <th>DT_COLETA</th>\n",
       "      <th>DE_ORIGEM</th>\n",
       "      <th>DE_EXAME</th>\n",
       "      <th>DE_ANALITO</th>\n",
       "      <th>DE_RESULTADO</th>\n",
       "      <th>CD_UNIDADE</th>\n",
       "      <th>DE_VALOR_REFERENCIA</th>\n",
       "    </tr>\n",
       "  </thead>\n",
       "  <tbody>\n",
       "    <tr>\n",
       "      <th>0</th>\n",
       "      <td>1AD07C7A1E4D80B608DD7A650766CCF0</td>\n",
       "      <td>19/03/2020</td>\n",
       "      <td>LAB</td>\n",
       "      <td>NOVO CORONAVÍRUS 2019 (SARS-CoV-2), DETECÇÃO P...</td>\n",
       "      <td>Covid 19, Detecção por PCR</td>\n",
       "      <td>NÃO DETECTADO</td>\n",
       "      <td>NaN</td>\n",
       "      <td>Não detectado</td>\n",
       "    </tr>\n",
       "    <tr>\n",
       "      <th>1</th>\n",
       "      <td>1AD07C7A1E4D80B608DD7A650766CCF0</td>\n",
       "      <td>19/03/2020</td>\n",
       "      <td>LAB</td>\n",
       "      <td>NOVO CORONAVÍRUS 2019 (SARS-CoV-2), DETECÇÃO P...</td>\n",
       "      <td>Covid 19, Material</td>\n",
       "      <td>raspado de nasofaringe</td>\n",
       "      <td>NaN</td>\n",
       "      <td>NaN</td>\n",
       "    </tr>\n",
       "  </tbody>\n",
       "</table>\n",
       "</div>"
      ],
      "text/plain": [
       "                        ID_PACIENTE   DT_COLETA DE_ORIGEM  \\\n",
       "0  1AD07C7A1E4D80B608DD7A650766CCF0  19/03/2020       LAB   \n",
       "1  1AD07C7A1E4D80B608DD7A650766CCF0  19/03/2020       LAB   \n",
       "\n",
       "                                            DE_EXAME  \\\n",
       "0  NOVO CORONAVÍRUS 2019 (SARS-CoV-2), DETECÇÃO P...   \n",
       "1  NOVO CORONAVÍRUS 2019 (SARS-CoV-2), DETECÇÃO P...   \n",
       "\n",
       "                   DE_ANALITO            DE_RESULTADO CD_UNIDADE  \\\n",
       "0  Covid 19, Detecção por PCR           NÃO DETECTADO        NaN   \n",
       "1          Covid 19, Material  raspado de nasofaringe        NaN   \n",
       "\n",
       "  DE_VALOR_REFERENCIA  \n",
       "0       Não detectado  \n",
       "1                 NaN  "
      ]
     },
     "execution_count": 18,
     "metadata": {},
     "output_type": "execute_result"
    }
   ],
   "source": [
    "paciente_exame.get_group('1AD07C7A1E4D80B608DD7A650766CCF0')"
   ]
  },
  {
   "cell_type": "code",
   "execution_count": 19,
   "metadata": {},
   "outputs": [
    {
     "data": {
      "text/html": [
       "<div>\n",
       "<style scoped>\n",
       "    .dataframe tbody tr th:only-of-type {\n",
       "        vertical-align: middle;\n",
       "    }\n",
       "\n",
       "    .dataframe tbody tr th {\n",
       "        vertical-align: top;\n",
       "    }\n",
       "\n",
       "    .dataframe thead th {\n",
       "        text-align: right;\n",
       "    }\n",
       "</style>\n",
       "<table border=\"1\" class=\"dataframe\">\n",
       "  <thead>\n",
       "    <tr style=\"text-align: right;\">\n",
       "      <th></th>\n",
       "      <th>ID_PACIENTE</th>\n",
       "      <th>DT_COLETA</th>\n",
       "      <th>DE_ORIGEM</th>\n",
       "      <th>DE_EXAME</th>\n",
       "      <th>DE_ANALITO</th>\n",
       "      <th>DE_RESULTADO</th>\n",
       "      <th>CD_UNIDADE</th>\n",
       "      <th>DE_VALOR_REFERENCIA</th>\n",
       "    </tr>\n",
       "  </thead>\n",
       "  <tbody>\n",
       "    <tr>\n",
       "      <th>2</th>\n",
       "      <td>7B10786D64F27D7732503D915A38DE6F</td>\n",
       "      <td>30/12/2019</td>\n",
       "      <td>LAB</td>\n",
       "      <td>HEMOGRAMA, sangue total</td>\n",
       "      <td>Hemoglobina</td>\n",
       "      <td>15,2</td>\n",
       "      <td>g/dL</td>\n",
       "      <td>13,5 a 17,5</td>\n",
       "    </tr>\n",
       "    <tr>\n",
       "      <th>3</th>\n",
       "      <td>7B10786D64F27D7732503D915A38DE6F</td>\n",
       "      <td>30/12/2019</td>\n",
       "      <td>LAB</td>\n",
       "      <td>HEMOGRAMA, sangue total</td>\n",
       "      <td>VCM</td>\n",
       "      <td>89,2</td>\n",
       "      <td>fL</td>\n",
       "      <td>81,0 a 95,0</td>\n",
       "    </tr>\n",
       "    <tr>\n",
       "      <th>4</th>\n",
       "      <td>7B10786D64F27D7732503D915A38DE6F</td>\n",
       "      <td>30/12/2019</td>\n",
       "      <td>LAB</td>\n",
       "      <td>HEMOGRAMA, sangue total</td>\n",
       "      <td>Leucócitos</td>\n",
       "      <td>5940</td>\n",
       "      <td>/mm3</td>\n",
       "      <td>3.500 a 10.500</td>\n",
       "    </tr>\n",
       "    <tr>\n",
       "      <th>5</th>\n",
       "      <td>7B10786D64F27D7732503D915A38DE6F</td>\n",
       "      <td>30/12/2019</td>\n",
       "      <td>LAB</td>\n",
       "      <td>HEMOGRAMA, sangue total</td>\n",
       "      <td>Neutrófilos</td>\n",
       "      <td>3220</td>\n",
       "      <td>/mm3</td>\n",
       "      <td>1.700 a 7.000</td>\n",
       "    </tr>\n",
       "    <tr>\n",
       "      <th>6</th>\n",
       "      <td>7B10786D64F27D7732503D915A38DE6F</td>\n",
       "      <td>30/12/2019</td>\n",
       "      <td>LAB</td>\n",
       "      <td>HEMOGRAMA, sangue total</td>\n",
       "      <td>Eosinófilos</td>\n",
       "      <td>370</td>\n",
       "      <td>/mm3</td>\n",
       "      <td>50 a 500</td>\n",
       "    </tr>\n",
       "    <tr>\n",
       "      <th>...</th>\n",
       "      <td>...</td>\n",
       "      <td>...</td>\n",
       "      <td>...</td>\n",
       "      <td>...</td>\n",
       "      <td>...</td>\n",
       "      <td>...</td>\n",
       "      <td>...</td>\n",
       "      <td>...</td>\n",
       "    </tr>\n",
       "    <tr>\n",
       "      <th>76</th>\n",
       "      <td>7B10786D64F27D7732503D915A38DE6F</td>\n",
       "      <td>12/04/2020</td>\n",
       "      <td>LAB</td>\n",
       "      <td>COVID19, ANTICORPOS IgM, soro</td>\n",
       "      <td>Covid 19, Anticorpos IgM, Quimiolumin.-Índice</td>\n",
       "      <td>inferior a 1,0</td>\n",
       "      <td>UA/mL</td>\n",
       "      <td>inferior a 1,0</td>\n",
       "    </tr>\n",
       "    <tr>\n",
       "      <th>77</th>\n",
       "      <td>7B10786D64F27D7732503D915A38DE6F</td>\n",
       "      <td>03/06/2020</td>\n",
       "      <td>LAB</td>\n",
       "      <td>COVID19, ANTICORPOS IgG, soro</td>\n",
       "      <td>Covid 19, Anticorpos IgG, Quimiolumin.-Índice</td>\n",
       "      <td>0,1</td>\n",
       "      <td>UA/mL</td>\n",
       "      <td>inferior a 0,8</td>\n",
       "    </tr>\n",
       "    <tr>\n",
       "      <th>78</th>\n",
       "      <td>7B10786D64F27D7732503D915A38DE6F</td>\n",
       "      <td>03/06/2020</td>\n",
       "      <td>LAB</td>\n",
       "      <td>COVID19, ANTICORPOS IgG, soro</td>\n",
       "      <td>Covid 19, Anticorpos IgG, Quimioluminescência</td>\n",
       "      <td>NÃO REAGENTE</td>\n",
       "      <td>NaN</td>\n",
       "      <td>Não reagente</td>\n",
       "    </tr>\n",
       "    <tr>\n",
       "      <th>79</th>\n",
       "      <td>7B10786D64F27D7732503D915A38DE6F</td>\n",
       "      <td>03/06/2020</td>\n",
       "      <td>LAB</td>\n",
       "      <td>COVID19, ANTICORPOS IgM, soro</td>\n",
       "      <td>Covid 19, Anticorpos IgM, Quimiolumin.-Índice</td>\n",
       "      <td>0,6</td>\n",
       "      <td>UA/mL</td>\n",
       "      <td>inferior a 0,8</td>\n",
       "    </tr>\n",
       "    <tr>\n",
       "      <th>80</th>\n",
       "      <td>7B10786D64F27D7732503D915A38DE6F</td>\n",
       "      <td>03/06/2020</td>\n",
       "      <td>LAB</td>\n",
       "      <td>COVID19, ANTICORPOS IgM, soro</td>\n",
       "      <td>Covid 19, Anticorpos IgM, Quimioluminescência</td>\n",
       "      <td>NÃO REAGENTE</td>\n",
       "      <td>NaN</td>\n",
       "      <td>Não reagente</td>\n",
       "    </tr>\n",
       "  </tbody>\n",
       "</table>\n",
       "<p>79 rows × 8 columns</p>\n",
       "</div>"
      ],
      "text/plain": [
       "                         ID_PACIENTE   DT_COLETA DE_ORIGEM  \\\n",
       "2   7B10786D64F27D7732503D915A38DE6F  30/12/2019       LAB   \n",
       "3   7B10786D64F27D7732503D915A38DE6F  30/12/2019       LAB   \n",
       "4   7B10786D64F27D7732503D915A38DE6F  30/12/2019       LAB   \n",
       "5   7B10786D64F27D7732503D915A38DE6F  30/12/2019       LAB   \n",
       "6   7B10786D64F27D7732503D915A38DE6F  30/12/2019       LAB   \n",
       "..                               ...         ...       ...   \n",
       "76  7B10786D64F27D7732503D915A38DE6F  12/04/2020       LAB   \n",
       "77  7B10786D64F27D7732503D915A38DE6F  03/06/2020       LAB   \n",
       "78  7B10786D64F27D7732503D915A38DE6F  03/06/2020       LAB   \n",
       "79  7B10786D64F27D7732503D915A38DE6F  03/06/2020       LAB   \n",
       "80  7B10786D64F27D7732503D915A38DE6F  03/06/2020       LAB   \n",
       "\n",
       "                         DE_EXAME  \\\n",
       "2         HEMOGRAMA, sangue total   \n",
       "3         HEMOGRAMA, sangue total   \n",
       "4         HEMOGRAMA, sangue total   \n",
       "5         HEMOGRAMA, sangue total   \n",
       "6         HEMOGRAMA, sangue total   \n",
       "..                            ...   \n",
       "76  COVID19, ANTICORPOS IgM, soro   \n",
       "77  COVID19, ANTICORPOS IgG, soro   \n",
       "78  COVID19, ANTICORPOS IgG, soro   \n",
       "79  COVID19, ANTICORPOS IgM, soro   \n",
       "80  COVID19, ANTICORPOS IgM, soro   \n",
       "\n",
       "                                       DE_ANALITO    DE_RESULTADO CD_UNIDADE  \\\n",
       "2                                     Hemoglobina            15,2       g/dL   \n",
       "3                                             VCM            89,2         fL   \n",
       "4                                      Leucócitos            5940       /mm3   \n",
       "5                                     Neutrófilos            3220       /mm3   \n",
       "6                                     Eosinófilos             370       /mm3   \n",
       "..                                            ...             ...        ...   \n",
       "76  Covid 19, Anticorpos IgM, Quimiolumin.-Índice  inferior a 1,0      UA/mL   \n",
       "77  Covid 19, Anticorpos IgG, Quimiolumin.-Índice             0,1      UA/mL   \n",
       "78  Covid 19, Anticorpos IgG, Quimioluminescência    NÃO REAGENTE        NaN   \n",
       "79  Covid 19, Anticorpos IgM, Quimiolumin.-Índice             0,6      UA/mL   \n",
       "80  Covid 19, Anticorpos IgM, Quimioluminescência    NÃO REAGENTE        NaN   \n",
       "\n",
       "   DE_VALOR_REFERENCIA  \n",
       "2          13,5 a 17,5  \n",
       "3          81,0 a 95,0  \n",
       "4       3.500 a 10.500  \n",
       "5        1.700 a 7.000  \n",
       "6             50 a 500  \n",
       "..                 ...  \n",
       "76      inferior a 1,0  \n",
       "77      inferior a 0,8  \n",
       "78        Não reagente  \n",
       "79      inferior a 0,8  \n",
       "80        Não reagente  \n",
       "\n",
       "[79 rows x 8 columns]"
      ]
     },
     "execution_count": 19,
     "metadata": {},
     "output_type": "execute_result"
    }
   ],
   "source": [
    "paciente_exame.get_group('7B10786D64F27D7732503D915A38DE6F')"
   ]
  },
  {
   "cell_type": "code",
   "execution_count": 22,
   "metadata": {},
   "outputs": [
    {
     "data": {
      "text/plain": [
       "array(['HEMOGRAMA, sangue total', 'PROTEINA C-REATIVA, soro',\n",
       "       'HEMOGLOBINA GLICADA (A1C), sangue total',\n",
       "       'ELETROFORESE DAS PROTEÍNAS SÉRICAS', 'PROTEINA TOTAL, soro',\n",
       "       'GLICOSE, plasma', 'LDL-COLESTEROL, soro',\n",
       "       'COLESTEROL TOTAL, soro', 'HDL-COLESTEROL, soro',\n",
       "       'TRIGLICERIDES, soro', 'VLDL-COLESTEROL, soro',\n",
       "       'NÃO-HDL-COLESTEROL, soro', 'INSULINA, soro',\n",
       "       'DETECÇÃO DE VÍRUS E BACTÉRIAS DO TRATO RESPIRATÓRIO POR TÉCNICA MOLECULAR',\n",
       "       'NOVO CORONAVÍRUS 2019 (SARS-CoV-2), DETECÇÃO POR PCR',\n",
       "       'DIMEROS D, plasma', 'HEMOSSEDIMENTACAO, sangue total',\n",
       "       'FERRITINA, soro', 'CREATINOQUINASE TOTAL (CK), soro',\n",
       "       'COVID19, ANTICORPOS IgG, soro', 'COVID19, ANTICORPOS IgM, soro'],\n",
       "      dtype=object)"
      ]
     },
     "execution_count": 22,
     "metadata": {},
     "output_type": "execute_result"
    }
   ],
   "source": [
    "paciente_exame.get_group('7B10786D64F27D7732503D915A38DE6F')['DE_EXAME'].unique()"
   ]
  },
  {
   "cell_type": "code",
   "execution_count": 20,
   "metadata": {},
   "outputs": [
    {
     "data": {
      "text/plain": [
       "array(['15,2', '89,2', '5940', '3220', '370', '60', '1730', '560',\n",
       "       '214000', '4,89', '43,6', '31,1', '34,9', '12,3', '54,3', '6,2',\n",
       "       '1,0', '29,1', '9,4', 'normais',\n",
       "       'não foram observados caracteres tóxico-degenerativos nos neutrófilos, não foram observadas atipias linfocitárias',\n",
       "       '11,5', '0,07', '5,7', '4,61', '0,23', '0,87', '0,38', '0,39',\n",
       "       '1,02', '1,6', '7,5', '92', '73', '143', '43', '171', '27', '100',\n",
       "       '56', '12,6', 'POSITIVO', 'NÃO DETECTADO',\n",
       "       'raspado de nasofaringe', '255', '14,4', '87,9', '5620', '3750',\n",
       "       '150', '20', '1290', '410', '223000', '4,46', '39,2', '32,3',\n",
       "       '36,7', '12,2', '66,6', '2,7', '0,4', '23,0', '7,3', '10,9', '478',\n",
       "       'inferior a 1,0', '0,1', 'NÃO REAGENTE', '0,6'], dtype=object)"
      ]
     },
     "execution_count": 20,
     "metadata": {},
     "output_type": "execute_result"
    }
   ],
   "source": [
    "paciente_exame.get_group('7B10786D64F27D7732503D915A38DE6F')['DE_RESULTADO'].unique()"
   ]
  },
  {
   "cell_type": "code",
   "execution_count": 21,
   "metadata": {},
   "outputs": [
    {
     "data": {
      "text/plain": [
       "array(['Hemoglobina', 'VCM', 'Leucócitos', 'Neutrófilos', 'Eosinófilos',\n",
       "       'Basófilos', 'Linfócitos', 'Monócitos', 'Plaquetas', 'Eritrócitos',\n",
       "       'Hematócrito', 'Hemoglobina Corpuscular Média',\n",
       "       'Concentração de Hemoglobina Corpuscular', 'RDW',\n",
       "       'Neutrófilos (%)', 'Eosinófilos (%)', 'Basófilos (%)',\n",
       "       'Linfócitos (%)', 'Monócitos (%)', 'Morfologia, Série Vermelha',\n",
       "       'Morfologia, Série Branca', 'Volume plaquetário médio',\n",
       "       'Proteína C-Reativa', 'Hemoglobina Glicada', 'Eletro - Albumina',\n",
       "       'Eletro - Alfa 1 globulina', 'Eletro - Alfa 2 globulina',\n",
       "       'Eletro - Beta 1 globulina', 'Eletro - Beta 2 globulina',\n",
       "       'Eletro - Gama globulina', 'Eletro - Albumina/Globulina',\n",
       "       'Proteínas', 'Glicose', 'LDL-Colesterol', 'Colesterol total',\n",
       "       'HDL-Colesterol', 'Triglicérides', 'VLDL-Colesterol',\n",
       "       'Colesterol não-HDL, soro', 'Insulina', 'HOMA-IR',\n",
       "       'Vírus Respiratórios - Detecção molecular',\n",
       "       'Covid 19, Detecção por PCR', 'Covid 19, Material',\n",
       "       'Dimeros D, quantitativo', 'VHS', 'Ferritina', 'CK',\n",
       "       'Covid 19, Anticorpos IgG, Quimiolumin.-Índice',\n",
       "       'Covid 19, Anticorpos IgM, Quimiolumin.-Índice',\n",
       "       'Covid 19, Anticorpos IgG, Quimioluminescência',\n",
       "       'Covid 19, Anticorpos IgM, Quimioluminescência'], dtype=object)"
      ]
     },
     "execution_count": 21,
     "metadata": {},
     "output_type": "execute_result"
    }
   ],
   "source": [
    "paciente_exame.get_group('7B10786D64F27D7732503D915A38DE6F')['DE_ANALITO'].unique()"
   ]
  },
  {
   "cell_type": "code",
   "execution_count": 29,
   "metadata": {},
   "outputs": [
    {
     "data": {
      "text/html": [
       "<div>\n",
       "<style scoped>\n",
       "    .dataframe tbody tr th:only-of-type {\n",
       "        vertical-align: middle;\n",
       "    }\n",
       "\n",
       "    .dataframe tbody tr th {\n",
       "        vertical-align: top;\n",
       "    }\n",
       "\n",
       "    .dataframe thead th {\n",
       "        text-align: right;\n",
       "    }\n",
       "</style>\n",
       "<table border=\"1\" class=\"dataframe\">\n",
       "  <thead>\n",
       "    <tr style=\"text-align: right;\">\n",
       "      <th></th>\n",
       "      <th>ID_PACIENTE</th>\n",
       "      <th>count</th>\n",
       "    </tr>\n",
       "  </thead>\n",
       "  <tbody>\n",
       "    <tr>\n",
       "      <th>128040</th>\n",
       "      <td>FD10C24CA5986B00FFDDED743447EC81</td>\n",
       "      <td>908</td>\n",
       "    </tr>\n",
       "    <tr>\n",
       "      <th>104183</th>\n",
       "      <td>CE1F4D06FE83023E08DF680EC7324BF5</td>\n",
       "      <td>756</td>\n",
       "    </tr>\n",
       "    <tr>\n",
       "      <th>106155</th>\n",
       "      <td>D1FF1DC925E1126296C7A210AD234E14</td>\n",
       "      <td>745</td>\n",
       "    </tr>\n",
       "    <tr>\n",
       "      <th>101334</th>\n",
       "      <td>C871E03A1744DBBB71A116A1DF657373</td>\n",
       "      <td>707</td>\n",
       "    </tr>\n",
       "    <tr>\n",
       "      <th>85747</th>\n",
       "      <td>A9DEF7F65875D4B92E59D50F9B21DCF2</td>\n",
       "      <td>697</td>\n",
       "    </tr>\n",
       "    <tr>\n",
       "      <th>...</th>\n",
       "      <td>...</td>\n",
       "      <td>...</td>\n",
       "    </tr>\n",
       "    <tr>\n",
       "      <th>102815</th>\n",
       "      <td>CB8536EE0C74673BA40C9BF2B52F3640</td>\n",
       "      <td>2</td>\n",
       "    </tr>\n",
       "    <tr>\n",
       "      <th>30984</th>\n",
       "      <td>3DC0910D6B8914433CA7DA4FB1178470</td>\n",
       "      <td>2</td>\n",
       "    </tr>\n",
       "    <tr>\n",
       "      <th>129594</th>\n",
       "      <td>FFFFF4B47815FF61F542AF7D3351A200</td>\n",
       "      <td>2</td>\n",
       "    </tr>\n",
       "    <tr>\n",
       "      <th>97495</th>\n",
       "      <td>C0C91D37570E97ACD7A59A3E9ECA1DAD</td>\n",
       "      <td>1</td>\n",
       "    </tr>\n",
       "    <tr>\n",
       "      <th>19677</th>\n",
       "      <td>273CD446E6C929501C12F95842B4398F</td>\n",
       "      <td>1</td>\n",
       "    </tr>\n",
       "  </tbody>\n",
       "</table>\n",
       "<p>129595 rows × 2 columns</p>\n",
       "</div>"
      ],
      "text/plain": [
       "                             ID_PACIENTE  count\n",
       "128040  FD10C24CA5986B00FFDDED743447EC81    908\n",
       "104183  CE1F4D06FE83023E08DF680EC7324BF5    756\n",
       "106155  D1FF1DC925E1126296C7A210AD234E14    745\n",
       "101334  C871E03A1744DBBB71A116A1DF657373    707\n",
       "85747   A9DEF7F65875D4B92E59D50F9B21DCF2    697\n",
       "...                                  ...    ...\n",
       "102815  CB8536EE0C74673BA40C9BF2B52F3640      2\n",
       "30984   3DC0910D6B8914433CA7DA4FB1178470      2\n",
       "129594  FFFFF4B47815FF61F542AF7D3351A200      2\n",
       "97495   C0C91D37570E97ACD7A59A3E9ECA1DAD      1\n",
       "19677   273CD446E6C929501C12F95842B4398F      1\n",
       "\n",
       "[129595 rows x 2 columns]"
      ]
     },
     "execution_count": 29,
     "metadata": {},
     "output_type": "execute_result"
    }
   ],
   "source": [
    "paciente_exame['DT_COLETA'].count().reset_index(name='count').sort_values(['count'], ascending=False)"
   ]
  },
  {
   "cell_type": "code",
   "execution_count": 39,
   "metadata": {},
   "outputs": [
    {
     "data": {
      "text/plain": [
       "ID_PACIENTE                       ID_PACIENTE                     \n",
       "00007BB4274722A63A38D415ACCD7705  00007BB4274722A63A38D415ACCD7705    150\n",
       "000085C48A31F50AE4F147392F6F35CF  000085C48A31F50AE4F147392F6F35CF    200\n",
       "0000A150D4C8B92A4F8D280C6D4656B0  0000A150D4C8B92A4F8D280C6D4656B0      4\n",
       "000230CE71238C85771268A5B7D807BC  000230CE71238C85771268A5B7D807BC      4\n",
       "0002632EFE862D6479C37F4E21AE33AB  0002632EFE862D6479C37F4E21AE33AB      5\n",
       "                                                                     ... \n",
       "FFFEDE2AD60338139A0CEB7019D1B687  FFFEDE2AD60338139A0CEB7019D1B687      4\n",
       "FFFEE8D64EC3D42D4544F5DF21F3BAA5  FFFEE8D64EC3D42D4544F5DF21F3BAA5      2\n",
       "FFFEF2D4D69B8D55ED11FFB5E0DD661D  FFFEF2D4D69B8D55ED11FFB5E0DD661D      4\n",
       "FFFFD7BD5939EF03FA62545752DF57D9  FFFFD7BD5939EF03FA62545752DF57D9      6\n",
       "FFFFF4B47815FF61F542AF7D3351A200  FFFFF4B47815FF61F542AF7D3351A200      2\n",
       "Name: ID_PACIENTE, Length: 129595, dtype: int64"
      ]
     },
     "execution_count": 39,
     "metadata": {},
     "output_type": "execute_result"
    }
   ],
   "source": [
    "paciente_exame['ID_PACIENTE'].value_counts()"
   ]
  },
  {
   "cell_type": "code",
   "execution_count": 40,
   "metadata": {},
   "outputs": [
    {
     "data": {
      "text/plain": [
       "count    129595.000000\n",
       "mean         19.264563\n",
       "std          39.434208\n",
       "min           1.000000\n",
       "25%           2.000000\n",
       "50%           4.000000\n",
       "75%           6.000000\n",
       "max         908.000000\n",
       "Name: ID_PACIENTE, dtype: float64"
      ]
     },
     "execution_count": 40,
     "metadata": {},
     "output_type": "execute_result"
    }
   ],
   "source": [
    "paciente_exame['ID_PACIENTE'].value_counts().describe()"
   ]
  },
  {
   "cell_type": "code",
   "execution_count": 44,
   "metadata": {},
   "outputs": [
    {
     "name": "stdout",
     "output_type": "stream",
     "text": [
      "<class 'pandas.core.frame.DataFrame'>\n",
      "RangeIndex: 2496591 entries, 0 to 2496590\n",
      "Data columns (total 8 columns):\n",
      " #   Column               Dtype \n",
      "---  ------               ----- \n",
      " 0   ID_PACIENTE          object\n",
      " 1   DT_COLETA            object\n",
      " 2   DE_ORIGEM            object\n",
      " 3   DE_EXAME             object\n",
      " 4   DE_ANALITO           object\n",
      " 5   DE_RESULTADO         object\n",
      " 6   CD_UNIDADE           object\n",
      " 7   DE_VALOR_REFERENCIA  object\n",
      "dtypes: object(8)\n",
      "memory usage: 152.4+ MB\n"
     ]
    }
   ],
   "source": [
    "feury_exames.info()"
   ]
  },
  {
   "cell_type": "code",
   "execution_count": 46,
   "metadata": {},
   "outputs": [],
   "source": [
    "feury_exames['DT_COLETA'] = pd.to_datetime(feury_exames['DT_COLETA'])"
   ]
  },
  {
   "cell_type": "code",
   "execution_count": 47,
   "metadata": {},
   "outputs": [
    {
     "name": "stdout",
     "output_type": "stream",
     "text": [
      "<class 'pandas.core.frame.DataFrame'>\n",
      "RangeIndex: 2496591 entries, 0 to 2496590\n",
      "Data columns (total 8 columns):\n",
      " #   Column               Dtype         \n",
      "---  ------               -----         \n",
      " 0   ID_PACIENTE          object        \n",
      " 1   DT_COLETA            datetime64[ns]\n",
      " 2   DE_ORIGEM            object        \n",
      " 3   DE_EXAME             object        \n",
      " 4   DE_ANALITO           object        \n",
      " 5   DE_RESULTADO         object        \n",
      " 6   CD_UNIDADE           object        \n",
      " 7   DE_VALOR_REFERENCIA  object        \n",
      "dtypes: datetime64[ns](1), object(7)\n",
      "memory usage: 152.4+ MB\n"
     ]
    }
   ],
   "source": [
    "feury_exames.info()"
   ]
  },
  {
   "cell_type": "code",
   "execution_count": 48,
   "metadata": {},
   "outputs": [
    {
     "data": {
      "text/plain": [
       "count                 2496591\n",
       "unique                    226\n",
       "top       2020-10-06 00:00:00\n",
       "freq                    49266\n",
       "first     2019-01-11 00:00:00\n",
       "last      2020-12-06 00:00:00\n",
       "Name: DT_COLETA, dtype: object"
      ]
     },
     "execution_count": 48,
     "metadata": {},
     "output_type": "execute_result"
    }
   ],
   "source": [
    "feury_exames['DT_COLETA'].describe()"
   ]
  },
  {
   "cell_type": "code",
   "execution_count": 49,
   "metadata": {},
   "outputs": [
    {
     "data": {
      "text/plain": [
       "count                     908\n",
       "unique                     21\n",
       "top       2019-11-21 00:00:00\n",
       "freq                      108\n",
       "first     2019-07-11 00:00:00\n",
       "last      2020-07-02 00:00:00\n",
       "Name: DT_COLETA, dtype: object"
      ]
     },
     "execution_count": 49,
     "metadata": {},
     "output_type": "execute_result"
    }
   ],
   "source": [
    "feury_exames[feury_exames['ID_PACIENTE']=='FD10C24CA5986B00FFDDED743447EC81']['DT_COLETA'].describe()"
   ]
  },
  {
   "cell_type": "markdown",
   "metadata": {},
   "source": [
    "- examinar pacientes con 20 examenes\n",
    "- determinar q examenes tomar como features\n",
    "- esos examenes incluyan igg, igm"
   ]
  }
 ],
 "metadata": {
  "kernelspec": {
   "display_name": "Python 3",
   "language": "python",
   "name": "python3"
  },
  "language_info": {
   "codemirror_mode": {
    "name": "ipython",
    "version": 3
   },
   "file_extension": ".py",
   "mimetype": "text/x-python",
   "name": "python",
   "nbconvert_exporter": "python",
   "pygments_lexer": "ipython3",
   "version": "3.7.5"
  }
 },
 "nbformat": 4,
 "nbformat_minor": 4
}
